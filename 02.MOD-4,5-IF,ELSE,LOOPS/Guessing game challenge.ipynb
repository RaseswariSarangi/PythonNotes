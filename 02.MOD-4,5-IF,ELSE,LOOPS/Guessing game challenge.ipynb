{
 "cells": [
  {
   "cell_type": "markdown",
   "metadata": {},
   "source": [
    "# My solution:"
   ]
  },
  {
   "cell_type": "code",
   "execution_count": 4,
   "metadata": {
    "scrolled": true
   },
   "outputs": [
    {
     "name": "stdout",
     "output_type": "stream",
     "text": [
      "WELCOME TO GUESS ME!\n",
      "I'm thinking of a number between 1 and 100\n",
      "If your guess is more than 10 away from my number, I'll tell you you're COLD\n",
      "If your guess is within 10 of my number, I'll tell you you're WARM\n",
      "If your guess is farther than your most recent guess, I'll say you're getting COLDER\n",
      "If your guess is closer than your most recent guess, I'll say you're getting WARMER\n",
      "LET'S PLAY!\n",
      "\n",
      "\n",
      "90\n",
      "enter any number between 1 and 100:100\n",
      "WARM\n",
      "enter any number between 1 and 100:80\n",
      "COLDER\n",
      "enter any number between 1 and 100:85\n",
      "WARMER\n",
      "enter any number between 1 and 100:82\n",
      "COLDER\n",
      "enter any number between 1 and 100:87\n",
      "WARMER\n",
      "enter any number between 1 and 100:94\n",
      "COLDER\n",
      "enter any number between 1 and 100:88\n",
      "WARMER\n",
      "enter any number between 1 and 100:90\n",
      "HURRAY!!\n",
      "YOU MADE THE CORRECT GUESS WITH ONLY 8 GUESSES.\n",
      "list of numbers entered=[100, 80, 85, 82, 87, 94, 88, 90]\n"
     ]
    }
   ],
   "source": [
    "print(\"WELCOME TO GUESS ME!\")\n",
    "print(\"I'm thinking of a number between 1 and 100\")\n",
    "print(\"If your guess is more than 10 away from my number, I'll tell you you're COLD\")\n",
    "print(\"If your guess is within 10 of my number, I'll tell you you're WARM\")\n",
    "print(\"If your guess is farther than your most recent guess, I'll say you're getting COLDER\")\n",
    "print(\"If your guess is closer than your most recent guess, I'll say you're getting WARMER\")\n",
    "print(\"LET'S PLAY!\\n\\n\")\n",
    "from random import randint\n",
    "secret_num=randint(1,100)\n",
    "#print(secret_num)\n",
    "num_guess=0\n",
    "l=[0]\n",
    "loop_continue=True\n",
    "while loop_continue:\n",
    "    num=int(input('enter any number between 1 and 100:'))\n",
    "    l.append(num)\n",
    "    if num<=0 or num>100:\n",
    "        print('OUT OF BOUNDS!!')\n",
    "    elif num==secret_num:\n",
    "        loop_continue=False\n",
    "        print('HURRAY!!')\n",
    "        print(f'YOU MADE THE CORRECT GUESS WITH ONLY {num_guess+1} GUESSES.')\n",
    "        print(f'list of numbers entered={l[1:]}')\n",
    "    elif l[-2]:\n",
    "        if abs(secret_num-num)<abs(secret_num-l[-2]):\n",
    "            print('WARMER')\n",
    "        else:\n",
    "            print('COLDER')\n",
    "    else:\n",
    "        if abs(secret_num-num)<=10:\n",
    "            print('WARM')\n",
    "        else:\n",
    "            print('COLD')\n",
    "    num_guess+=1\n"
   ]
  },
  {
   "cell_type": "markdown",
   "metadata": {},
   "source": [
    "# Solution from tutor:"
   ]
  },
  {
   "cell_type": "code",
   "execution_count": 3,
   "metadata": {},
   "outputs": [
    {
     "name": "stdout",
     "output_type": "stream",
     "text": [
      "84\n",
      "I'm thinking of a number between 1 and 100.\n",
      "  What is your guess? 100\n",
      "COLD!\n",
      "I'm thinking of a number between 1 and 100.\n",
      "  What is your guess? 97\n",
      "WARMER!\n",
      "I'm thinking of a number between 1 and 100.\n",
      "  What is your guess? 72\n",
      "WARMER!\n",
      "I'm thinking of a number between 1 and 100.\n",
      "  What is your guess? 71\n",
      "COLDER!\n",
      "I'm thinking of a number between 1 and 100.\n",
      "  What is your guess? 84\n",
      "CONGRATULATIONS, YOU GUESSED IT IN ONLY 5 GUESSES!!\n"
     ]
    }
   ],
   "source": [
    "import random\n",
    "num = random.randint(1,100)\n",
    "#print(num)\n",
    "guesses = [0]\n",
    "while True:\n",
    "    # we can copy the code from above to take an input\n",
    "    guess = int(input(\"I'm thinking of a number between 1 and 100.\\n  What is your guess? \"))\n",
    "    \n",
    "    if guess < 1 or guess > 100:\n",
    "        print('OUT OF BOUNDS! Please try again: ')\n",
    "        continue\n",
    "    \n",
    "    # here we compare the player's guess to our number\n",
    "    if guess == num:\n",
    "        print(f'CONGRATULATIONS, YOU GUESSED IT IN ONLY {len(guesses)} GUESSES!!')\n",
    "        break\n",
    "        \n",
    "    # if guess is incorrect, add guess to the list\n",
    "    guesses.append(guess)\n",
    "    \n",
    "    # when testing the first guess, guesses[-2]==0, which evaluates to False\n",
    "    # and brings us down to the second section\n",
    "    \n",
    "    if guesses[-2]:  \n",
    "        if abs(num-guess) < abs(num-guesses[-2]):\n",
    "            print('WARMER!')\n",
    "        else:\n",
    "            print('COLDER!')\n",
    "   \n",
    "    else:\n",
    "        if abs(num-guess) <= 10:\n",
    "            print('WARM!')\n",
    "        else:\n",
    "            print('COLD!')"
   ]
  },
  {
   "cell_type": "code",
   "execution_count": null,
   "metadata": {},
   "outputs": [],
   "source": []
  }
 ],
 "metadata": {
  "kernelspec": {
   "display_name": "Python 3",
   "language": "python",
   "name": "python3"
  },
  "language_info": {
   "codemirror_mode": {
    "name": "ipython",
    "version": 3
   },
   "file_extension": ".py",
   "mimetype": "text/x-python",
   "name": "python",
   "nbconvert_exporter": "python",
   "pygments_lexer": "ipython3",
   "version": "3.8.5"
  }
 },
 "nbformat": 4,
 "nbformat_minor": 4
}
