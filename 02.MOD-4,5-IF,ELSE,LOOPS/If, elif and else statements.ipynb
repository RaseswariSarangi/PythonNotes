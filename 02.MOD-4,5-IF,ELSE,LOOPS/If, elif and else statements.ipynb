{
 "cells": [
  {
   "cell_type": "markdown",
   "metadata": {},
   "source": [
    " # if statement"
   ]
  },
  {
   "cell_type": "code",
   "execution_count": 4,
   "metadata": {},
   "outputs": [
    {
     "name": "stdout",
     "output_type": "stream",
     "text": [
      "feed me plzz!!\n"
     ]
    }
   ],
   "source": [
    "hungry=True\n",
    "if hungry:\n",
    "    print('feed me plzz!!')"
   ]
  },
  {
   "cell_type": "code",
   "execution_count": 5,
   "metadata": {},
   "outputs": [
    {
     "name": "stdout",
     "output_type": "stream",
     "text": [
      "enter any num:4\n"
     ]
    }
   ],
   "source": [
    "x=int(input('enter any num:'))\n",
    "if x==5:\n",
    "    print('the number is 5.')"
   ]
  },
  {
   "cell_type": "markdown",
   "metadata": {},
   "source": [
    "# else-if statement"
   ]
  },
  {
   "cell_type": "code",
   "execution_count": 7,
   "metadata": {},
   "outputs": [
    {
     "name": "stdout",
     "output_type": "stream",
     "text": [
      "enter any location:India\n",
      "I don't know much about the place\n"
     ]
    }
   ],
   "source": [
    "loc=input('enter any location:').upper()\n",
    "if loc=='AUTOSHOP':\n",
    "    print('cars are pretty cool!!')\n",
    "else:\n",
    "    print(\"I don't know much about the place\" )        "
   ]
  },
  {
   "cell_type": "code",
   "execution_count": 8,
   "metadata": {},
   "outputs": [
    {
     "name": "stdout",
     "output_type": "stream",
     "text": [
      "enter any number:34\n",
      "the number isn't divisible by 5.\n"
     ]
    }
   ],
   "source": [
    "num=int(input('enter any number:'))\n",
    "if num%5==0:\n",
    "    print('the number is divisible by 5.')\n",
    "else:\n",
    "    print(\"the number isn't divisible by 5.\")"
   ]
  },
  {
   "cell_type": "markdown",
   "metadata": {},
   "source": [
    "# if,elif and else statement"
   ]
  },
  {
   "cell_type": "code",
   "execution_count": 4,
   "metadata": {},
   "outputs": [
    {
     "name": "stdout",
     "output_type": "stream",
     "text": [
      "enter any name:ram singh\n",
      "hello Ram!!\n"
     ]
    }
   ],
   "source": [
    "name=input('enter any name:').title()\n",
    "if name=='Ram Singh':\n",
    "    print('hello Ram!!')\n",
    "elif name=='Raseswari Sarangi':\n",
    "    print('heyaaa sweetheart!!')\n",
    "else:\n",
    "    print(f'hello {name}')"
   ]
  },
  {
   "cell_type": "code",
   "execution_count": 1,
   "metadata": {},
   "outputs": [
    {
     "name": "stdout",
     "output_type": "stream",
     "text": [
      "yes\n"
     ]
    }
   ],
   "source": [
    "#shorthand syntax for if-else\n",
    "print('yes') if 5>2 else print('no')"
   ]
  },
  {
   "cell_type": "code",
   "execution_count": null,
   "metadata": {},
   "outputs": [],
   "source": []
  }
 ],
 "metadata": {
  "kernelspec": {
   "display_name": "Python 3",
   "language": "python",
   "name": "python3"
  },
  "language_info": {
   "codemirror_mode": {
    "name": "ipython",
    "version": 3
   },
   "file_extension": ".py",
   "mimetype": "text/x-python",
   "name": "python",
   "nbconvert_exporter": "python",
   "pygments_lexer": "ipython3",
   "version": "3.8.5"
  }
 },
 "nbformat": 4,
 "nbformat_minor": 4
}
