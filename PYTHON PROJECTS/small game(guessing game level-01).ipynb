{
 "cells": [
  {
   "cell_type": "code",
   "execution_count": 3,
   "metadata": {},
   "outputs": [
    {
     "name": "stdout",
     "output_type": "stream",
     "text": [
      "pick a number between 1-20:23\n",
      "pick a number between 1-20:12\n",
      "pick a number between 1-20:15\n",
      "congrats!!\n",
      "you completed with only 3 guesses.\n"
     ]
    }
   ],
   "source": [
    "guess_times=0\n",
    "guess_limit=5\n",
    "secret_num=15\n",
    "while guess_times<guess_limit:\n",
    "    num=int(input('pick a number between 1-20:'))\n",
    "    if num==secret_num:\n",
    "        print('congrats!!')\n",
    "        print(f'you completed with only {guess_times+1} guesses.')\n",
    "        break\n",
    "    guess_times+=1\n",
    "else:\n",
    "    print('sorry u failed!!')  "
   ]
  },
  {
   "cell_type": "code",
   "execution_count": null,
   "metadata": {},
   "outputs": [],
   "source": []
  }
 ],
 "metadata": {
  "kernelspec": {
   "display_name": "Python 3",
   "language": "python",
   "name": "python3"
  },
  "language_info": {
   "codemirror_mode": {
    "name": "ipython",
    "version": 3
   },
   "file_extension": ".py",
   "mimetype": "text/x-python",
   "name": "python",
   "nbconvert_exporter": "python",
   "pygments_lexer": "ipython3",
   "version": "3.8.5"
  }
 },
 "nbformat": 4,
 "nbformat_minor": 4
}
