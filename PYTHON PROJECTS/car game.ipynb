{
 "cells": [
  {
   "cell_type": "code",
   "execution_count": 7,
   "metadata": {},
   "outputs": [
    {
     "name": "stdout",
     "output_type": "stream",
     "text": [
      ">>>stop\n",
      "car has already stopped!!\n",
      ">>>stop\n",
      "car has already stopped!!\n",
      ">>>start\n",
      "car started!!!\n",
      ">>>start\n",
      "car has already started!!\n",
      ">>>help\n",
      "START-to start the car\n",
      "STOP-to stop the car\n",
      "QUIT-to quit\n",
      ">>>quit\n"
     ]
    }
   ],
   "source": [
    "'''start-->car started\n",
    "   if again start-->already started\n",
    "   stop-->car stopped\n",
    "   if again stopped-->already stopped\n",
    "   help-->display instructions\n",
    "   quit-->brk the loop'''\n",
    "loop_continue=True\n",
    "started=False\n",
    "while loop_continue:\n",
    "    command=input('>>>').upper()\n",
    "    if command=='START':\n",
    "        if started:\n",
    "            print('car has already started!!')\n",
    "        else:\n",
    "            started=True\n",
    "            print('car started!!!')\n",
    "    elif command=='STOP':\n",
    "        if not started:\n",
    "            print('car has already stopped!!')\n",
    "        else:\n",
    "            started=False\n",
    "            print('car stopped!!')\n",
    "    elif command=='HELP':\n",
    "        print('''START-to start the car\n",
    "STOP-to stop the car\n",
    "QUIT-to quit''')\n",
    "    elif command=='QUIT':\n",
    "        break\n",
    "    else:\n",
    "        print(\"I don't understand you\")   "
   ]
  },
  {
   "cell_type": "code",
   "execution_count": null,
   "metadata": {},
   "outputs": [],
   "source": []
  }
 ],
 "metadata": {
  "kernelspec": {
   "display_name": "Python 3",
   "language": "python",
   "name": "python3"
  },
  "language_info": {
   "codemirror_mode": {
    "name": "ipython",
    "version": 3
   },
   "file_extension": ".py",
   "mimetype": "text/x-python",
   "name": "python",
   "nbconvert_exporter": "python",
   "pygments_lexer": "ipython3",
   "version": "3.8.5"
  }
 },
 "nbformat": 4,
 "nbformat_minor": 4
}
