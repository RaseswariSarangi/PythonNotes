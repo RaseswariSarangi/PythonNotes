{
 "cells": [
  {
   "cell_type": "markdown",
   "metadata": {},
   "source": [
    "# Interaction between functions:"
   ]
  },
  {
   "cell_type": "code",
   "execution_count": 29,
   "metadata": {},
   "outputs": [
    {
     "data": {
      "text/plain": [
       "[' ', 'o', ' ']"
      ]
     },
     "execution_count": 29,
     "metadata": {},
     "output_type": "execute_result"
    }
   ],
   "source": [
    "#3 cup monte \n",
    "from random import shuffle\n",
    "def shufflelist(my_list):\n",
    "    shuffle(my_list)\n",
    "    return my_list\n",
    "#initial list\n",
    "my_list=[' ','o',' '] \n",
    "#gives shiffled list\n",
    "shufflelist(my_list)   "
   ]
  },
  {
   "cell_type": "code",
   "execution_count": 30,
   "metadata": {},
   "outputs": [
    {
     "name": "stdout",
     "output_type": "stream",
     "text": [
      "pick any number 0,1 or 2:2\n"
     ]
    }
   ],
   "source": [
    "#players guess\n",
    "def players_guess():\n",
    "    guess=''\n",
    "    while guess not in ['0','1','2']:\n",
    "        guess=input('pick any number 0,1 or 2:')\n",
    "    return int(guess)\n",
    "index=players_guess()"
   ]
  },
  {
   "cell_type": "code",
   "execution_count": 31,
   "metadata": {},
   "outputs": [
    {
     "data": {
      "text/plain": [
       "2"
      ]
     },
     "execution_count": 31,
     "metadata": {},
     "output_type": "execute_result"
    }
   ],
   "source": [
    "index #storing the value for further use"
   ]
  },
  {
   "cell_type": "code",
   "execution_count": 32,
   "metadata": {},
   "outputs": [
    {
     "name": "stdout",
     "output_type": "stream",
     "text": [
      "wrong!!\n",
      "[' ', 'o', ' ']\n"
     ]
    }
   ],
   "source": [
    "#checking the guess\n",
    "def guess_check(my_list,guess):\n",
    "    if my_list[guess]=='o':\n",
    "        print('right!!')\n",
    "    else:\n",
    "        print('wrong!!')\n",
    "        print(my_list)\n",
    "guess_check(my_list,index)"
   ]
  },
  {
   "cell_type": "code",
   "execution_count": 28,
   "metadata": {},
   "outputs": [
    {
     "name": "stdout",
     "output_type": "stream",
     "text": [
      "pick any number 0,1 or 2:0\n",
      "wrong!!\n",
      "[' ', ' ', 'o']\n"
     ]
    }
   ],
   "source": [
    "#3 monte cup game\n",
    "#initial list\n",
    "my_list=[' ','o',' ']\n",
    "#shuffling of list\n",
    "shuffled_list=shufflelist(my_list)\n",
    "#guess by player\n",
    "index=players_guess()\n",
    "#guess checking\n",
    "check_guess=guess_check(my_list,index)"
   ]
  },
  {
   "cell_type": "code",
   "execution_count": null,
   "metadata": {},
   "outputs": [],
   "source": []
  }
 ],
 "metadata": {
  "kernelspec": {
   "display_name": "Python 3",
   "language": "python",
   "name": "python3"
  },
  "language_info": {
   "codemirror_mode": {
    "name": "ipython",
    "version": 3
   },
   "file_extension": ".py",
   "mimetype": "text/x-python",
   "name": "python",
   "nbconvert_exporter": "python",
   "pygments_lexer": "ipython3",
   "version": "3.8.5"
  }
 },
 "nbformat": 4,
 "nbformat_minor": 4
}
