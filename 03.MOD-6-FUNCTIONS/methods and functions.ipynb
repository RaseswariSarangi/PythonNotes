{
 "cells": [
  {
   "cell_type": "code",
   "execution_count": 7,
   "metadata": {},
   "outputs": [
    {
     "name": "stdout",
     "output_type": "stream",
     "text": [
      "hello\n",
      "how r u??\n"
     ]
    }
   ],
   "source": [
    "#example of simple function\n",
    "def say_hello():\n",
    "    print('hello')\n",
    "    print('how r u??')\n",
    "say_hello()"
   ]
  },
  {
   "cell_type": "code",
   "execution_count": 2,
   "metadata": {},
   "outputs": [
    {
     "name": "stdout",
     "output_type": "stream",
     "text": [
      "hello rakhi\n"
     ]
    }
   ],
   "source": [
    "#example of simple function\n",
    "def name_func(name):\n",
    "    print(f'hello {name}')\n",
    "name_func('rakhi')"
   ]
  },
  {
   "cell_type": "code",
   "execution_count": 6,
   "metadata": {},
   "outputs": [
    {
     "name": "stdout",
     "output_type": "stream",
     "text": [
      "hello rakhi!!\n",
      "hello riman!!\n"
     ]
    }
   ],
   "source": [
    "def my_name(name1,name2):\n",
    "    print(f'hello {name1}!!')\n",
    "    print(f'hello {name2}!!')\n",
    "my_name('rakhi','riman')"
   ]
  },
  {
   "cell_type": "code",
   "execution_count": 9,
   "metadata": {},
   "outputs": [
    {
     "name": "stdout",
     "output_type": "stream",
     "text": [
      "3\n"
     ]
    }
   ],
   "source": [
    "#example of simple function\n",
    "def sum_func(num1,num2):\n",
    "    return num1+num2\n",
    "var=sum_func(1,2)\n",
    "print(var)"
   ]
  },
  {
   "cell_type": "markdown",
   "metadata": {},
   "source": [
    "When return is used then the calling of function gives a value which can be stored in a variable and printed later."
   ]
  },
  {
   "cell_type": "code",
   "execution_count": 1,
   "metadata": {},
   "outputs": [
    {
     "data": {
      "text/plain": [
       "'12'"
      ]
     },
     "execution_count": 1,
     "metadata": {},
     "output_type": "execute_result"
    }
   ],
   "source": [
    "#concatenation of strings\n",
    "def add(a,b):\n",
    "    return a+b\n",
    "add('1','2')"
   ]
  },
  {
   "cell_type": "code",
   "execution_count": 10,
   "metadata": {},
   "outputs": [
    {
     "name": "stdout",
     "output_type": "stream",
     "text": [
      "hello rakhi!!\n"
     ]
    }
   ],
   "source": [
    "#setting a default value to parameter\n",
    "def func(name='rakhi'):\n",
    "    print(f'hello {name}!!')\n",
    "func()"
   ]
  },
  {
   "cell_type": "code",
   "execution_count": 18,
   "metadata": {},
   "outputs": [
    {
     "data": {
      "text/plain": [
       "True"
      ]
     },
     "execution_count": 18,
     "metadata": {},
     "output_type": "execute_result"
    }
   ],
   "source": [
    "#example of simple function\n",
    "def even_check(num):\n",
    "    result=num%2==0\n",
    "    return result\n",
    "even_check(20)"
   ]
  },
  {
   "cell_type": "code",
   "execution_count": 23,
   "metadata": {},
   "outputs": [
    {
     "data": {
      "text/plain": [
       "24"
      ]
     },
     "execution_count": 23,
     "metadata": {},
     "output_type": "execute_result"
    }
   ],
   "source": [
    "#example of simple function\n",
    "def is_even_present(num_list):\n",
    "    for number in num_list:\n",
    "        if number%2==0:\n",
    "            return number\n",
    "num_list=[1,5,3,71,24,7,11]\n",
    "is_even_present(num_list)        "
   ]
  },
  {
   "cell_type": "code",
   "execution_count": 28,
   "metadata": {},
   "outputs": [
    {
     "data": {
      "text/plain": [
       "False"
      ]
     },
     "execution_count": 28,
     "metadata": {},
     "output_type": "execute_result"
    }
   ],
   "source": [
    "#example of simple function\n",
    "def even_check(num_list):\n",
    "    for num in num_list:\n",
    "        if num%2==0:\n",
    "            return True\n",
    "    return False\n",
    "num_list=[1,91,3,5,7]\n",
    "even_check(num_list)"
   ]
  },
  {
   "cell_type": "code",
   "execution_count": 3,
   "metadata": {},
   "outputs": [
    {
     "data": {
      "text/plain": [
       "[2, 4, 6, 8]"
      ]
     },
     "execution_count": 3,
     "metadata": {},
     "output_type": "execute_result"
    }
   ],
   "source": [
    "#find all even nums and store it in a new list\n",
    "def even_num(num_list):\n",
    "    even_nums=[]\n",
    "    for number in num_list:\n",
    "        if number%2==0:\n",
    "            even_nums.append(number)\n",
    "    return even_nums\n",
    "num_list=[1,2,3,4,5,6,7,8]\n",
    "even_num(num_list)"
   ]
  },
  {
   "cell_type": "code",
   "execution_count": 7,
   "metadata": {},
   "outputs": [
    {
     "data": {
      "text/plain": [
       "('mama', 73)"
      ]
     },
     "execution_count": 7,
     "metadata": {},
     "output_type": "execute_result"
    }
   ],
   "source": [
    "#finding the greatest working hours\n",
    "#employee_working=[('rakhi',24),('riman',34),('nani',7),('papa',12),('mama',73)]\n",
    "def working_hrs(employee_working):\n",
    "    max_hrs=0\n",
    "    employee_of_month=''\n",
    "    for employee,hrs in employee_working:\n",
    "        if hrs>max_hrs:\n",
    "            max_hrs=hrs\n",
    "            employee_of_month=employee\n",
    "    return (employee_of_month,max_hrs)\n",
    "employee_working=[('rakhi',24),('riman',34),('nani',7),('papa',12),('mama',73)]\n",
    "working_hrs(employee_working)"
   ]
  },
  {
   "cell_type": "code",
   "execution_count": 8,
   "metadata": {},
   "outputs": [],
   "source": [
    "#storing in a varaiable\n",
    "result=working_hrs(employee_working)"
   ]
  },
  {
   "cell_type": "code",
   "execution_count": 10,
   "metadata": {},
   "outputs": [
    {
     "data": {
      "text/plain": [
       "('mama', 73)"
      ]
     },
     "execution_count": 10,
     "metadata": {},
     "output_type": "execute_result"
    }
   ],
   "source": [
    "result"
   ]
  },
  {
   "cell_type": "code",
   "execution_count": 11,
   "metadata": {},
   "outputs": [
    {
     "name": "stdout",
     "output_type": "stream",
     "text": [
      "mama\n",
      "73\n"
     ]
    }
   ],
   "source": [
    "#storing values separately\n",
    "employee,max_hours=working_hrs(employee_working)\n",
    "print(employee)\n",
    "print(max_hours)"
   ]
  },
  {
   "cell_type": "code",
   "execution_count": 14,
   "metadata": {},
   "outputs": [
    {
     "data": {
      "text/plain": [
       "[4, 2, 1, 3, 5]"
      ]
     },
     "execution_count": 14,
     "metadata": {},
     "output_type": "execute_result"
    }
   ],
   "source": [
    "from random import shuffle\n",
    "def shuffle_list(my_list):\n",
    "    shuffle(example)\n",
    "    return(example)\n",
    "example=[1,2,3,4,5]\n",
    "shuffle_list(example)"
   ]
  },
  {
   "cell_type": "code",
   "execution_count": 2,
   "metadata": {},
   "outputs": [
    {
     "data": {
      "text/plain": [
       "[' ', ' ', 'o']"
      ]
     },
     "execution_count": 2,
     "metadata": {},
     "output_type": "execute_result"
    }
   ],
   "source": [
    "#playing 3 cup monte game\n",
    "from random import shuffle\n",
    "def shuffle_list(my_list):\n",
    "    shuffle(my_list)\n",
    "    return my_list\n",
    "my_list=[' ','o',' ']\n",
    "shuffle_list(my_list)"
   ]
  },
  {
   "cell_type": "code",
   "execution_count": 3,
   "metadata": {},
   "outputs": [
    {
     "name": "stdout",
     "output_type": "stream",
     "text": [
      "pick any number 0,1 or 2:2\n"
     ]
    }
   ],
   "source": [
    "def players_guess():\n",
    "    guess=''\n",
    "    while guess not in ['0','1','2']:\n",
    "        guess=input('pick any number 0,1 or 2:')\n",
    "    return int(guess)\n",
    "index=players_guess()"
   ]
  },
  {
   "cell_type": "code",
   "execution_count": 4,
   "metadata": {},
   "outputs": [
    {
     "data": {
      "text/plain": [
       "2"
      ]
     },
     "execution_count": 4,
     "metadata": {},
     "output_type": "execute_result"
    }
   ],
   "source": [
    "index  #stores the value"
   ]
  },
  {
   "cell_type": "code",
   "execution_count": 5,
   "metadata": {
    "scrolled": true
   },
   "outputs": [
    {
     "name": "stdout",
     "output_type": "stream",
     "text": [
      "correct!!\n"
     ]
    }
   ],
   "source": [
    "def check_guess(my_list,guess):\n",
    "    if my_list[guess]=='o':\n",
    "        print('correct!!')\n",
    "    else:\n",
    "        print('wrong!!')\n",
    "        print(my_list)\n",
    "check_guess(my_list,index)"
   ]
  },
  {
   "cell_type": "code",
   "execution_count": 6,
   "metadata": {},
   "outputs": [
    {
     "name": "stdout",
     "output_type": "stream",
     "text": [
      "pick any number 0,1 or 2:1\n",
      "wrong!!\n",
      "[' ', ' ', 'o']\n"
     ]
    }
   ],
   "source": [
    "#playing 3 cup monte game\n",
    "#initial list\n",
    "my_list=[' ','o',' ']\n",
    "#shuffled list\n",
    "shuffledlist=shuffle_list(my_list)\n",
    "#player guess \n",
    "index=players_guess()\n",
    "#guess check\n",
    "guess_check=check_guess(my_list,index)"
   ]
  },
  {
   "cell_type": "markdown",
   "metadata": {},
   "source": [
    "# * ARGS AND ** KWARGS:"
   ]
  },
  {
   "cell_type": "code",
   "execution_count": 4,
   "metadata": {},
   "outputs": [
    {
     "data": {
      "text/plain": [
       "5.0"
      ]
     },
     "execution_count": 4,
     "metadata": {},
     "output_type": "execute_result"
    }
   ],
   "source": [
    "def myfunc(a,b):\n",
    "    return sum((a,b))*0.05\n",
    "myfunc(40,60)"
   ]
  },
  {
   "cell_type": "code",
   "execution_count": 10,
   "metadata": {},
   "outputs": [
    {
     "data": {
      "text/plain": [
       "50.0"
      ]
     },
     "execution_count": 10,
     "metadata": {},
     "output_type": "execute_result"
    }
   ],
   "source": [
    "def func(a,b,c,d):\n",
    "    return sum((a,b,c,d))*0.05\n",
    "func(100,200,300,400)"
   ]
  },
  {
   "cell_type": "code",
   "execution_count": 15,
   "metadata": {},
   "outputs": [
    {
     "name": "stdout",
     "output_type": "stream",
     "text": [
      "(2, 4, 5, 6, 7, 8)\n"
     ]
    },
    {
     "data": {
      "text/plain": [
       "1.6"
      ]
     },
     "execution_count": 15,
     "metadata": {},
     "output_type": "execute_result"
    }
   ],
   "source": [
    "#use of args\n",
    "#we can use any word in place of args bt args is often preferred\n",
    "def my_func(*args):\n",
    "    print(args)\n",
    "    return sum(args)*0.05\n",
    "my_func(2,4,5,6,7,8)  #we can put as many arguments as possible"
   ]
  },
  {
   "cell_type": "code",
   "execution_count": 16,
   "metadata": {},
   "outputs": [
    {
     "name": "stdout",
     "output_type": "stream",
     "text": [
      "12\n",
      "rakhi\n",
      "w\n",
      "67\n"
     ]
    }
   ],
   "source": [
    "def mf(*args):\n",
    "    for item in args:\n",
    "        print(item)\n",
    "mf(12,'rakhi','w',67)"
   ]
  },
  {
   "cell_type": "code",
   "execution_count": 11,
   "metadata": {},
   "outputs": [
    {
     "name": "stdout",
     "output_type": "stream",
     "text": [
      "{'veggie': 'lettuce', 'fruit': 'mango'}\n",
      "The veggie which I like is lettuce.\n"
     ]
    }
   ],
   "source": [
    "#use of kwargs\n",
    "#we use a particular keyword\n",
    "def myfunc(**kwargs):\n",
    "    print(kwargs)\n",
    "    if 'veggie' in kwargs:\n",
    "        print('The veggie which I like is {}.'.format(kwargs['veggie']))\n",
    "    else:\n",
    "        print(\"I didn't find the veggie.\")\n",
    "#myfunc(fruit='mango')\n",
    "myfunc(veggie='lettuce',fruit='mango')"
   ]
  },
  {
   "cell_type": "code",
   "execution_count": 20,
   "metadata": {},
   "outputs": [
    {
     "name": "stdout",
     "output_type": "stream",
     "text": [
      "(10, 20, 30)\n",
      "{'fruit': 'bananas', 'veggie': 'potatoes', 'food': 'sandwiches'}\n",
      "I would like to have 20 sandwiches.\n"
     ]
    }
   ],
   "source": [
    "#use of both args and kwargs\n",
    "def myfunc(*args,**kwargs):\n",
    "    print(args)\n",
    "    print(kwargs)\n",
    "    print('I would like to have {} {}.'.format(args[1],kwargs['food']))\n",
    "myfunc(10,20,30,fruit='bananas',veggie='potatoes',food='sandwiches')"
   ]
  },
  {
   "cell_type": "code",
   "execution_count": 21,
   "metadata": {},
   "outputs": [
    {
     "data": {
      "text/plain": [
       "14"
      ]
     },
     "execution_count": 21,
     "metadata": {},
     "output_type": "execute_result"
    }
   ],
   "source": [
    "def myfunc(*args):\n",
    "    return sum(args)\n",
    "myfunc(2,3,4,5)"
   ]
  },
  {
   "cell_type": "code",
   "execution_count": 27,
   "metadata": {},
   "outputs": [
    {
     "data": {
      "text/plain": [
       "[2, 6, 8]"
      ]
     },
     "execution_count": 27,
     "metadata": {},
     "output_type": "execute_result"
    }
   ],
   "source": [
    "def myfunc(*args):\n",
    "    list1=[]\n",
    "    for num in args:\n",
    "        if num%2==0:\n",
    "            list1.append(num)\n",
    "    return list1\n",
    "myfunc(2,3,5,6,8)"
   ]
  },
  {
   "cell_type": "code",
   "execution_count": 7,
   "metadata": {},
   "outputs": [
    {
     "data": {
      "text/plain": [
       "'RaSeSwArI'"
      ]
     },
     "execution_count": 7,
     "metadata": {},
     "output_type": "execute_result"
    }
   ],
   "source": [
    "def myfunc(x):\n",
    "    l=[]\n",
    "    for num in range(len(x)):\n",
    "        if num%2==0:\n",
    "            l.append(x[num].upper())\n",
    "        else:\n",
    "            l.append(x[num].lower())\n",
    "    return ''.join(l)\n",
    "myfunc('raseswari')"
   ]
  },
  {
   "cell_type": "markdown",
   "metadata": {},
   "source": [
    "# Map Functions:"
   ]
  },
  {
   "cell_type": "code",
   "execution_count": 2,
   "metadata": {},
   "outputs": [
    {
     "data": {
      "text/plain": [
       "[1, 4, 9, 16]"
      ]
     },
     "execution_count": 2,
     "metadata": {},
     "output_type": "execute_result"
    }
   ],
   "source": [
    "#highly useful for iterating over lists\n",
    "def square(num):\n",
    "    squares=[]\n",
    "    for n in num:\n",
    "        squares.append(n**2)\n",
    "    return squares\n",
    "num=[1,2,3,4]\n",
    "square(num)"
   ]
  },
  {
   "cell_type": "code",
   "execution_count": 2,
   "metadata": {},
   "outputs": [
    {
     "name": "stdout",
     "output_type": "stream",
     "text": [
      "1\n",
      "4\n",
      "9\n",
      "16\n"
     ]
    }
   ],
   "source": [
    "def square(num):\n",
    "    return num**2\n",
    "my_nums=[1,2,3,4]\n",
    "for item in map(square,my_nums):\n",
    "    print(item)"
   ]
  },
  {
   "cell_type": "code",
   "execution_count": 15,
   "metadata": {},
   "outputs": [
    {
     "data": {
      "text/plain": [
       "[1, 4, 9, 16]"
      ]
     },
     "execution_count": 15,
     "metadata": {},
     "output_type": "execute_result"
    }
   ],
   "source": [
    "list(map(square,my_nums))"
   ]
  },
  {
   "cell_type": "code",
   "execution_count": 3,
   "metadata": {},
   "outputs": [
    {
     "data": {
      "text/plain": [
       "['r', 'EVEN', 'y']"
      ]
     },
     "execution_count": 3,
     "metadata": {},
     "output_type": "execute_result"
    }
   ],
   "source": [
    "def splicer(string):\n",
    "    if len(string)%2==0:\n",
    "        return 'EVEN'\n",
    "    else:\n",
    "        return string[0]\n",
    "string=['rakhi','ruhu','you']\n",
    "list(map(splicer,string))"
   ]
  },
  {
   "cell_type": "markdown",
   "metadata": {},
   "source": [
    "# Filter Functions:"
   ]
  },
  {
   "cell_type": "code",
   "execution_count": 4,
   "metadata": {},
   "outputs": [
    {
     "data": {
      "text/plain": [
       "[2, 4, 6]"
      ]
     },
     "execution_count": 4,
     "metadata": {},
     "output_type": "execute_result"
    }
   ],
   "source": [
    "#it works same as map fucntion but checks the consition of function and filters out accordingly\n",
    "def even_check(num):\n",
    "    return num%2==0\n",
    "my_nums=[1,2,3,4,5,6,7]\n",
    "list(filter(even_check,my_nums))"
   ]
  },
  {
   "cell_type": "markdown",
   "metadata": {},
   "source": [
    "# Lambda Expression:"
   ]
  },
  {
   "cell_type": "code",
   "execution_count": 5,
   "metadata": {},
   "outputs": [
    {
     "data": {
      "text/plain": [
       "16"
      ]
     },
     "execution_count": 5,
     "metadata": {},
     "output_type": "execute_result"
    }
   ],
   "source": [
    "#normal method\n",
    "def square(num):\n",
    "    result=num**2\n",
    "    return result\n",
    "square(4)"
   ]
  },
  {
   "cell_type": "code",
   "execution_count": 6,
   "metadata": {},
   "outputs": [
    {
     "data": {
      "text/plain": [
       "25"
      ]
     },
     "execution_count": 6,
     "metadata": {},
     "output_type": "execute_result"
    }
   ],
   "source": [
    "#reduction to learn lambda expression\n",
    "#step-1\n",
    "def square(num):\n",
    "    return num**2\n",
    "square(5)"
   ]
  },
  {
   "cell_type": "code",
   "execution_count": 7,
   "metadata": {},
   "outputs": [
    {
     "data": {
      "text/plain": [
       "25"
      ]
     },
     "execution_count": 7,
     "metadata": {},
     "output_type": "execute_result"
    }
   ],
   "source": [
    "#step-2\n",
    "def square(num): return num**2\n",
    "square(5)"
   ]
  },
  {
   "cell_type": "code",
   "execution_count": 8,
   "metadata": {},
   "outputs": [
    {
     "data": {
      "text/plain": [
       "25"
      ]
     },
     "execution_count": 8,
     "metadata": {},
     "output_type": "execute_result"
    }
   ],
   "source": [
    "#lambda expression \n",
    "square=lambda num: num**2\n",
    "square(5)"
   ]
  },
  {
   "cell_type": "code",
   "execution_count": 9,
   "metadata": {},
   "outputs": [
    {
     "data": {
      "text/plain": [
       "27"
      ]
     },
     "execution_count": 9,
     "metadata": {},
     "output_type": "execute_result"
    }
   ],
   "source": [
    "#lambda expression\n",
    "cube=lambda num: num**3\n",
    "cube(3)"
   ]
  },
  {
   "cell_type": "code",
   "execution_count": 11,
   "metadata": {},
   "outputs": [
    {
     "data": {
      "text/plain": [
       "[1, 4, 9, 16]"
      ]
     },
     "execution_count": 11,
     "metadata": {},
     "output_type": "execute_result"
    }
   ],
   "source": [
    "#using map and lambda\n",
    "list1=[1,2,3,4]\n",
    "list(map(lambda num: num**2,list1))"
   ]
  },
  {
   "cell_type": "code",
   "execution_count": 14,
   "metadata": {},
   "outputs": [
    {
     "data": {
      "text/plain": [
       "['a', 'e', 's']"
      ]
     },
     "execution_count": 14,
     "metadata": {},
     "output_type": "execute_result"
    }
   ],
   "source": [
    "names_list=['andy','eve','sally']\n",
    "list(map(lambda name: name[0],names_list))"
   ]
  },
  {
   "cell_type": "code",
   "execution_count": 16,
   "metadata": {},
   "outputs": [
    {
     "data": {
      "text/plain": [
       "['irawsesar', 'irawsejar', 'ihkar', 'namir']"
      ]
     },
     "execution_count": 16,
     "metadata": {},
     "output_type": "execute_result"
    }
   ],
   "source": [
    "names_list1=['raseswari','rajeswari','rakhi','riman']\n",
    "list(map(lambda name: name[::-1],names_list1))"
   ]
  },
  {
   "cell_type": "code",
   "execution_count": 12,
   "metadata": {},
   "outputs": [
    {
     "data": {
      "text/plain": [
       "[2, 4, 6, 8]"
      ]
     },
     "execution_count": 12,
     "metadata": {},
     "output_type": "execute_result"
    }
   ],
   "source": [
    "#using both filter and lambda\n",
    "list2=[1,2,3,4,5,6,7,8]\n",
    "list(filter(lambda num: num%2==0,list2))"
   ]
  },
  {
   "cell_type": "markdown",
   "metadata": {},
   "source": [
    "# Scope:"
   ]
  },
  {
   "cell_type": "markdown",
   "metadata": {},
   "source": [
    "LEGB RULE IS APPLIED:"
   ]
  },
  {
   "cell_type": "code",
   "execution_count": 17,
   "metadata": {},
   "outputs": [
    {
     "name": "stdout",
     "output_type": "stream",
     "text": [
      "25\n",
      "50\n"
     ]
    }
   ],
   "source": [
    "x=25\n",
    "def printer():\n",
    "    x=50\n",
    "    return x\n",
    "print(x)\n",
    "print(printer())"
   ]
  },
  {
   "cell_type": "code",
   "execution_count": 10,
   "metadata": {},
   "outputs": [
    {
     "name": "stdout",
     "output_type": "stream",
     "text": [
      "the value of x=100\n",
      "the value of x=100\n"
     ]
    }
   ],
   "source": [
    "#print statement can easily acess the global variable than the enclosing function variable\n",
    "x=100\n",
    "def myfunc():\n",
    "    x=200\n",
    "    return x\n",
    "print(f'the value of x={x}')    \n",
    "print(f'the value of x={x}')"
   ]
  },
  {
   "cell_type": "code",
   "execution_count": 23,
   "metadata": {},
   "outputs": [
    {
     "name": "stdout",
     "output_type": "stream",
     "text": [
      "HELLO SAMM\n"
     ]
    }
   ],
   "source": [
    "string='this is a global string'\n",
    "def greet():\n",
    "    string='SAMM'\n",
    "    def hello():\n",
    "        print('HELLO '+string)\n",
    "    hello()\n",
    "greet()"
   ]
  },
  {
   "cell_type": "code",
   "execution_count": 24,
   "metadata": {},
   "outputs": [
    {
     "name": "stdout",
     "output_type": "stream",
     "text": [
      "HELLO this is a global string\n"
     ]
    }
   ],
   "source": [
    "string='this is a global string'\n",
    "def greet():\n",
    "    #string='SAMM'\n",
    "    def hello():\n",
    "        print('HELLO '+string)\n",
    "    hello()\n",
    "greet()"
   ]
  },
  {
   "cell_type": "code",
   "execution_count": 28,
   "metadata": {},
   "outputs": [
    {
     "name": "stdout",
     "output_type": "stream",
     "text": [
      "HELLO I am using global variable\n"
     ]
    }
   ],
   "source": [
    "#example of legb applied\n",
    "\n",
    "#GLOBAL\n",
    "string1='I am using global variable'\n",
    "def greet():\n",
    "    #ENCLOSING FUNCTION\n",
    "    string1='I am using enclosing function variable'\n",
    "    def hello():\n",
    "        #LOCAL\n",
    "        string1='I am using local variable'\n",
    "        print('HELLO '+string1)\n",
    "    hello()\n",
    "greet()"
   ]
  },
  {
   "cell_type": "code",
   "execution_count": 17,
   "metadata": {},
   "outputs": [
    {
     "name": "stdout",
     "output_type": "stream",
     "text": [
      "the value of x=100\n",
      "the value of x=200\n"
     ]
    }
   ],
   "source": [
    "#example of scope\n",
    "x=100\n",
    "def myfunc():\n",
    "    #GLOBAL\n",
    "    global x\n",
    "    print(f'the value of x={x}')\n",
    "    #ENCLOSING FUNC\n",
    "    x=200\n",
    "    print(f'the value of x={x}') \n",
    "myfunc()"
   ]
  },
  {
   "cell_type": "code",
   "execution_count": 18,
   "metadata": {},
   "outputs": [],
   "source": [
    "#example-1 of scope\n",
    "x=50\n",
    "def func():\n",
    "    global x\n",
    "    print(f'X={x}')\n",
    "    x=300\n",
    "    print(f'I just locally changed global X to {x}')"
   ]
  },
  {
   "cell_type": "code",
   "execution_count": 19,
   "metadata": {},
   "outputs": [
    {
     "name": "stdout",
     "output_type": "stream",
     "text": [
      "50\n"
     ]
    }
   ],
   "source": [
    "#first print acesses the global variable\n",
    "print(x)"
   ]
  },
  {
   "cell_type": "code",
   "execution_count": 20,
   "metadata": {},
   "outputs": [
    {
     "name": "stdout",
     "output_type": "stream",
     "text": [
      "X=50\n",
      "I just locally changed global X to 300\n"
     ]
    }
   ],
   "source": [
    "func()"
   ]
  },
  {
   "cell_type": "code",
   "execution_count": 21,
   "metadata": {},
   "outputs": [
    {
     "name": "stdout",
     "output_type": "stream",
     "text": [
      "300\n"
     ]
    }
   ],
   "source": [
    "#due to reassignment of global variable inside function\n",
    "print(x)"
   ]
  },
  {
   "cell_type": "code",
   "execution_count": 24,
   "metadata": {},
   "outputs": [],
   "source": [
    "#instead of using global keyword we can do the same process as above\n",
    "x=100\n",
    "def my_func(x):\n",
    "    print(f'X ={x}')\n",
    "    x=1000\n",
    "    print(f'the changed value of X={x}')\n",
    "    return x"
   ]
  },
  {
   "cell_type": "code",
   "execution_count": 25,
   "metadata": {},
   "outputs": [
    {
     "name": "stdout",
     "output_type": "stream",
     "text": [
      "100\n"
     ]
    }
   ],
   "source": [
    "print(x)"
   ]
  },
  {
   "cell_type": "code",
   "execution_count": 27,
   "metadata": {},
   "outputs": [
    {
     "name": "stdout",
     "output_type": "stream",
     "text": [
      "X =100\n",
      "the changed value of X=1000\n"
     ]
    }
   ],
   "source": [
    "x=my_func(x)"
   ]
  },
  {
   "cell_type": "code",
   "execution_count": 28,
   "metadata": {},
   "outputs": [
    {
     "name": "stdout",
     "output_type": "stream",
     "text": [
      "1000\n"
     ]
    }
   ],
   "source": [
    "print(x)"
   ]
  },
  {
   "cell_type": "code",
   "execution_count": null,
   "metadata": {},
   "outputs": [],
   "source": []
  }
 ],
 "metadata": {
  "kernelspec": {
   "display_name": "Python 3",
   "language": "python",
   "name": "python3"
  },
  "language_info": {
   "codemirror_mode": {
    "name": "ipython",
    "version": 3
   },
   "file_extension": ".py",
   "mimetype": "text/x-python",
   "name": "python",
   "nbconvert_exporter": "python",
   "pygments_lexer": "ipython3",
   "version": "3.8.5"
  }
 },
 "nbformat": 4,
 "nbformat_minor": 4
}
