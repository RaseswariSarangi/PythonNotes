{
 "cells": [
  {
   "cell_type": "code",
   "execution_count": 11,
   "metadata": {},
   "outputs": [
    {
     "data": {
      "text/plain": [
       "True"
      ]
     },
     "execution_count": 11,
     "metadata": {},
     "output_type": "execute_result"
    }
   ],
   "source": [
    "'''Given a list of ints, return True if the array contains a 3 next to a 3 somewhere.'''\n",
    "'''has_33([1, 3, 3]) → True\n",
    "has_33([1, 3, 1, 3]) → False\n",
    "has_33([3, 1, 3]) → False'''\n",
    "\n",
    "def has_33(nums):\n",
    "    for num in range(0,len(nums)-1):\n",
    "        if nums[num]==3 and nums[num+1]==3:\n",
    "            return True\n",
    "    return False\n",
    "has_33([1,3,3])"
   ]
  },
  {
   "cell_type": "code",
   "execution_count": 14,
   "metadata": {},
   "outputs": [
    {
     "name": "stdout",
     "output_type": "stream",
     "text": [
      "enter any word:rakhi\n"
     ]
    },
    {
     "data": {
      "text/plain": [
       "'RRRAAAKKKHHHIII'"
      ]
     },
     "execution_count": 14,
     "metadata": {},
     "output_type": "execute_result"
    }
   ],
   "source": [
    "'''Given a string, return a string where for every character in the original there are three characters'''\n",
    "'''paper_doll('Hello') --> HHHeeellllllooo\n",
    "paper_doll('Mississippi') -->MMMiiissssssiiippppppiii'''\n",
    "\n",
    "def paper_doll(text):\n",
    "    l=[]\n",
    "    for num in range(len(text)):\n",
    "        l.append(text[num].upper()*3)\n",
    "    return ''.join(l)\n",
    "text=input('enter any word:')\n",
    "paper_doll(text)"
   ]
  },
  {
   "cell_type": "code",
   "execution_count": 12,
   "metadata": {},
   "outputs": [
    {
     "data": {
      "text/plain": [
       "20"
      ]
     },
     "execution_count": 12,
     "metadata": {},
     "output_type": "execute_result"
    }
   ],
   "source": [
    "''''Given three integers between 1 and 11, if their sum is less than or equal to 21, \n",
    "return their sum. If their sum exceeds 21 and there's an eleven, \n",
    "reduce the total sum by 10. Finally, if the sum (even after adjustment) exceeds 21, return BUST'''\n",
    "\n",
    "def blackjack(a,b,c):\n",
    "    if (a+b+c)<=21:\n",
    "        return (a+b+c)\n",
    "    elif (a+b+c)>21 and (a==11 or b==11 or c==11):\n",
    "        result=(a+b+c)-10\n",
    "        return result\n",
    "        if result>21:\n",
    "            return 'BUST'\n",
    "    elif (a+b+c)>21:\n",
    "        return 'BUST'\n",
    "blackjack(9,10,11)"
   ]
  },
  {
   "cell_type": "code",
   "execution_count": 3,
   "metadata": {},
   "outputs": [
    {
     "data": {
      "text/plain": [
       "14"
      ]
     },
     "execution_count": 3,
     "metadata": {},
     "output_type": "execute_result"
    }
   ],
   "source": [
    "''' Return the sum of the numbers in the array, except ignore sections of numbers starting with a 6 and\n",
    "extending to the next 9(every 6 will be followed by at least one 9). Return 0 for no numbers.'''\n",
    "'''summer_69([1, 3, 5]) --> 9\n",
    "summer_69([4, 5, 6, 7, 8, 9]) --> 9\n",
    "summer_69([2, 1, 6, 9, 11]) --> 14'''\n",
    "\n",
    "def summer_69(array):\n",
    "    add=True\n",
    "    sum=0\n",
    "    for num in array:\n",
    "        while add:\n",
    "            if num!=6:\n",
    "                sum+=num\n",
    "                break\n",
    "            else:\n",
    "                add=False\n",
    "        while not add:\n",
    "            if num!=9:\n",
    "                break\n",
    "            else:\n",
    "                add=True\n",
    "                break\n",
    "    return sum\n",
    "array=[2,1,6,9,11]\n",
    "summer_69(array)"
   ]
  },
  {
   "cell_type": "code",
   "execution_count": null,
   "metadata": {},
   "outputs": [],
   "source": []
  }
 ],
 "metadata": {
  "kernelspec": {
   "display_name": "Python 3",
   "language": "python",
   "name": "python3"
  },
  "language_info": {
   "codemirror_mode": {
    "name": "ipython",
    "version": 3
   },
   "file_extension": ".py",
   "mimetype": "text/x-python",
   "name": "python",
   "nbconvert_exporter": "python",
   "pygments_lexer": "ipython3",
   "version": "3.8.5"
  }
 },
 "nbformat": 4,
 "nbformat_minor": 4
}
