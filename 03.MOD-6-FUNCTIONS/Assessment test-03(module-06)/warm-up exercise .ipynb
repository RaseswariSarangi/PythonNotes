{
 "cells": [
  {
   "cell_type": "code",
   "execution_count": 26,
   "metadata": {},
   "outputs": [
    {
     "data": {
      "text/plain": [
       "2"
      ]
     },
     "execution_count": 26,
     "metadata": {},
     "output_type": "execute_result"
    }
   ],
   "source": [
    "'''Write a function that returns the lesser of two given numbers if both numbers are even, but returns the greater if one or both numbers are odd'''\n",
    "'''lesser_of_two_evens(2,4) --> 2\n",
    "lesser_of_two_evens(2,5) --> 5'''\n",
    "\n",
    "def lesser_of_two_events(a,b):\n",
    "    if a%2==0 and b%2==0:\n",
    "        if a<b:\n",
    "            return a\n",
    "        else:\n",
    "            return b\n",
    "    else:\n",
    "        if a>b:\n",
    "            return a\n",
    "        else:\n",
    "            return b\n",
    "lesser_of_two_events(2,10)\n",
    "     "
   ]
  },
  {
   "cell_type": "code",
   "execution_count": 27,
   "metadata": {},
   "outputs": [
    {
     "data": {
      "text/plain": [
       "True"
      ]
     },
     "execution_count": 27,
     "metadata": {},
     "output_type": "execute_result"
    }
   ],
   "source": [
    "'''Write a function takes a two-word string and returns True if both words begin with same letter'''\n",
    "'''animal_crackers('Levelheaded Llama') --> True\n",
    "animal_crackers('Crazy Kangaroo') --> False'''\n",
    "\n",
    "def animal_crackers(text):\n",
    "    list1=text.split()\n",
    "    if list1[0][0]==list1[1][0]:\n",
    "        return True\n",
    "    else:\n",
    "        return False\n",
    "animal_crackers('raseswari rajeswari')"
   ]
  },
  {
   "cell_type": "code",
   "execution_count": 28,
   "metadata": {},
   "outputs": [
    {
     "data": {
      "text/plain": [
       "True"
      ]
     },
     "execution_count": 28,
     "metadata": {},
     "output_type": "execute_result"
    }
   ],
   "source": [
    "''' Given two integers, return True if the sum of the integers is 20 or if one of the integers is 20. If not, return False'''\n",
    "'''makes_twenty(20,10) --> True\n",
    "makes_twenty(12,8) --> True\n",
    "makes_twenty(2,3) --> False'''\n",
    "\n",
    "def makes_twenty(n1,n2):\n",
    "    if (n1+n2)==20 or (n1==20 or n2==20):\n",
    "        return True\n",
    "    else:\n",
    "        return False\n",
    "makes_twenty(10,10)"
   ]
  },
  {
   "cell_type": "code",
   "execution_count": null,
   "metadata": {},
   "outputs": [],
   "source": []
  }
 ],
 "metadata": {
  "kernelspec": {
   "display_name": "Python 3",
   "language": "python",
   "name": "python3"
  },
  "language_info": {
   "codemirror_mode": {
    "name": "ipython",
    "version": 3
   },
   "file_extension": ".py",
   "mimetype": "text/x-python",
   "name": "python",
   "nbconvert_exporter": "python",
   "pygments_lexer": "ipython3",
   "version": "3.8.5"
  }
 },
 "nbformat": 4,
 "nbformat_minor": 4
}
