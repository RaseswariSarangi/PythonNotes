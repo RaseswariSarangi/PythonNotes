{
 "cells": [
  {
   "cell_type": "code",
   "execution_count": 14,
   "metadata": {},
   "outputs": [
    {
     "data": {
      "text/plain": [
       "'MacDonald'"
      ]
     },
     "execution_count": 14,
     "metadata": {},
     "output_type": "execute_result"
    }
   ],
   "source": [
    "'''Write a function that capitalizes the first and fourth letters of a name'''\n",
    "'''old_macdonald('macdonald') --> MacDonald'''\n",
    "\n",
    "def old_macdonald(name):\n",
    "    l1=name[:3].capitalize()\n",
    "    l2=name[3:].capitalize()\n",
    "    return l1+l2\n",
    "name='macdonald'\n",
    "old_macdonald(name)"
   ]
  },
  {
   "cell_type": "code",
   "execution_count": 15,
   "metadata": {},
   "outputs": [
    {
     "name": "stdout",
     "output_type": "stream",
     "text": [
      "['I', 'am', 'a', 'boy', 'and', 'she', 'is', 'a', 'girl']\n",
      "['girl', 'a', 'is', 'she', 'and', 'boy', 'a', 'am', 'I']\n"
     ]
    },
    {
     "data": {
      "text/plain": [
       "'girl a is she and boy a am I'"
      ]
     },
     "execution_count": 15,
     "metadata": {},
     "output_type": "execute_result"
    }
   ],
   "source": [
    "'''Given a sentence, return a sentence with the words reversed'''\n",
    "\n",
    "def master_yoda(text):\n",
    "    l=text.split()\n",
    "    print(l)\n",
    "    l.reverse()\n",
    "    print(l)\n",
    "    return ' '.join(l)\n",
    "text='I am a boy and she is a girl'\n",
    "master_yoda(text)\n"
   ]
  },
  {
   "cell_type": "code",
   "execution_count": 2,
   "metadata": {},
   "outputs": [
    {
     "name": "stdout",
     "output_type": "stream",
     "text": [
      "enter any number:34\n"
     ]
    },
    {
     "data": {
      "text/plain": [
       "False"
      ]
     },
     "execution_count": 2,
     "metadata": {},
     "output_type": "execute_result"
    }
   ],
   "source": [
    "'''Given an integer n, return True if n is within 10 of either 100 or 200'''\n",
    "'''almost_there(90) --> True\n",
    "almost_there(104) --> True\n",
    "almost_there(150) --> False\n",
    "almost_there(209) --> True'''\n",
    "\n",
    "def almost_there(n):\n",
    "    if abs(n-200)<=10 or abs(n-100)<=10:\n",
    "        return True\n",
    "    else:\n",
    "        return False\n",
    "n=int(input('enter any number:'))\n",
    "almost_there(n)"
   ]
  },
  {
   "cell_type": "code",
   "execution_count": null,
   "metadata": {},
   "outputs": [],
   "source": []
  }
 ],
 "metadata": {
  "kernelspec": {
   "display_name": "Python 3",
   "language": "python",
   "name": "python3"
  },
  "language_info": {
   "codemirror_mode": {
    "name": "ipython",
    "version": 3
   },
   "file_extension": ".py",
   "mimetype": "text/x-python",
   "name": "python",
   "nbconvert_exporter": "python",
   "pygments_lexer": "ipython3",
   "version": "3.8.5"
  }
 },
 "nbformat": 4,
 "nbformat_minor": 4
}
