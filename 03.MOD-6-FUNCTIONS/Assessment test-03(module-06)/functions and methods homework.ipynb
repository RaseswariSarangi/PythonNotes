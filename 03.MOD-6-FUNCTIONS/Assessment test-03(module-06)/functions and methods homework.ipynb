{
 "cells": [
  {
   "cell_type": "code",
   "execution_count": 39,
   "metadata": {},
   "outputs": [
    {
     "data": {
      "text/plain": [
       "33.49333333333333"
      ]
     },
     "execution_count": 39,
     "metadata": {},
     "output_type": "execute_result"
    }
   ],
   "source": [
    "#1\n",
    "'''Write a function that computes the volume of a sphere given its radius.'''\n",
    "def volume(rad):\n",
    "    pi=3.14\n",
    "    volume=(4/3)*pi*(rad**3)\n",
    "    return volume\n",
    "volume(2)"
   ]
  },
  {
   "cell_type": "code",
   "execution_count": 43,
   "metadata": {},
   "outputs": [
    {
     "data": {
      "text/plain": [
       "True"
      ]
     },
     "execution_count": 43,
     "metadata": {},
     "output_type": "execute_result"
    }
   ],
   "source": [
    "#2\n",
    "'''Write a function that checks whether a number is in a given range (inclusive of high and low)'''\n",
    "def ran_check(num,low,high):\n",
    "    if num>low and num<high:\n",
    "        return True\n",
    "    else:\n",
    "        return False\n",
    "ran_check(12,10,20)"
   ]
  },
  {
   "cell_type": "code",
   "execution_count": 58,
   "metadata": {},
   "outputs": [
    {
     "name": "stdout",
     "output_type": "stream",
     "text": [
      "['H', 'M', 'R', 'T']\n",
      "4\n",
      "['e', 'l', 'l', 'o', 'r', 'o', 'g', 'e', 'r', 's', 'h', 'o', 'w', 'a', 'r', 'e', 'y', 'o', 'u', 't', 'h', 'i', 's', 'f', 'i', 'n', 'e', 'u', 'e', 's', 'd', 'a', 'y']\n",
      "33\n"
     ]
    }
   ],
   "source": [
    "#3\n",
    "'''Write a Python function that accepts a string and calculates the number of upper case letters and lower case letters.'''\n",
    "'''Sample String : Hello Mr. Rogers, how are you this fine Tuesday?\n",
    "Expected Output : \n",
    "No. of Upper case characters : 4\n",
    "No. of Lower case Characters : 33'''\n",
    "\n",
    "def up_low(s):\n",
    "    s.replace(' ','')\n",
    "    x=list(s)\n",
    "    upper=[]\n",
    "    lower=[]\n",
    "    for letter in x:\n",
    "        if letter.isupper():\n",
    "            upper.append(letter)\n",
    "        elif letter.islower():\n",
    "            lower.append(letter)\n",
    "    print(upper)\n",
    "    print(len(upper))\n",
    "    print(lower)\n",
    "    print(len(lower))\n",
    "s='Hello Mr. Rogers, how are you this fine Tuesday?'\n",
    "up_low(s)"
   ]
  },
  {
   "cell_type": "code",
   "execution_count": 38,
   "metadata": {},
   "outputs": [
    {
     "data": {
      "text/plain": [
       "[1, 2, 3, 4, 5]"
      ]
     },
     "execution_count": 38,
     "metadata": {},
     "output_type": "execute_result"
    }
   ],
   "source": [
    "#4\n",
    "'''Write a Python function that takes a list and returns a new list with unique elements of the first list.\n",
    "\n",
    "Sample List : [1,1,1,1,2,2,3,3,3,3,4,5]\n",
    "Unique List : [1, 2, 3, 4, 5]'''\n",
    "\n",
    "def unique_list(l):\n",
    "    x=set(l)\n",
    "    y=list(x)\n",
    "    return y\n",
    "l=[1,3,4,2,3,4,1,5]\n",
    "unique_list(l)"
   ]
  },
  {
   "cell_type": "code",
   "execution_count": 59,
   "metadata": {},
   "outputs": [
    {
     "data": {
      "text/plain": [
       "-24"
      ]
     },
     "execution_count": 59,
     "metadata": {},
     "output_type": "execute_result"
    }
   ],
   "source": [
    "#5\n",
    "'''Write a Python function to multiply all the numbers in a list.'''\n",
    "''' Sample List : [1, 2, 3, -4]\n",
    "    Expected Output : -24'''\n",
    "def multiply(nums):\n",
    "    product=1\n",
    "    for num in nums:\n",
    "         product*=num\n",
    "    return product\n",
    "nums=[1,2,3,-4]\n",
    "multiply(nums)"
   ]
  },
  {
   "cell_type": "code",
   "execution_count": 31,
   "metadata": {},
   "outputs": [
    {
     "name": "stdout",
     "output_type": "stream",
     "text": [
      "enter any string:raseswari\n"
     ]
    },
    {
     "data": {
      "text/plain": [
       "False"
      ]
     },
     "execution_count": 31,
     "metadata": {},
     "output_type": "execute_result"
    }
   ],
   "source": [
    "#6\n",
    "'''check whether a string is palindrome or not'''\n",
    "def ispal(string):\n",
    "    x=string.replace(' ','')\n",
    "    y=x.lower()\n",
    "    if y==y[::-1]:\n",
    "        return True\n",
    "    else:\n",
    "        return False\n",
    "string=input('enter any string:')\n",
    "ispal(string)"
   ]
  },
  {
   "cell_type": "code",
   "execution_count": 5,
   "metadata": {
    "scrolled": true
   },
   "outputs": [
    {
     "name": "stdout",
     "output_type": "stream",
     "text": [
      ">>Pack my box with five dozen liquor jugs\n"
     ]
    },
    {
     "data": {
      "text/plain": [
       "True"
      ]
     },
     "execution_count": 5,
     "metadata": {},
     "output_type": "execute_result"
    }
   ],
   "source": [
    "#hard problem-pangrams\n",
    "'''find out whether a string is pangram or not'''\n",
    "\n",
    "def ispangram(str1):\n",
    "    alphabet='abcdefghijklmnopqrstuvwxyz'\n",
    "    #print(alphabet)\n",
    "    x=str1.replace(' ','')\n",
    "    #print(x)\n",
    "    y=x.lower()\n",
    "    #print(y)\n",
    "    #print(f'y-string={sorted(list(y))}')\n",
    "    #print(f'alphabet string={sorted(list(alphabet))}')\n",
    "    if set(sorted(list(y)))==set(sorted(list(alphabet))):\n",
    "        return True\n",
    "    else:\n",
    "        return False\n",
    "str1=input('>>')\n",
    "ispangram(str1)"
   ]
  },
  {
   "cell_type": "code",
   "execution_count": 4,
   "metadata": {},
   "outputs": [
    {
     "name": "stdout",
     "output_type": "stream",
     "text": [
      ">>Pack my box with five dozen liquor jugs\n"
     ]
    },
    {
     "data": {
      "text/plain": [
       "True"
      ]
     },
     "execution_count": 4,
     "metadata": {},
     "output_type": "execute_result"
    }
   ],
   "source": [
    "#SECOND METHOD OF SOLVING PRBLM\n",
    "\n",
    "import string\n",
    "def ispangram(str1):\n",
    "    alphabet=string.ascii_lowercase\n",
    "    #print(alphabet)\n",
    "    x=str1.replace(' ','')\n",
    "    #print(x)\n",
    "    y=x.lower()\n",
    "    #print(y)\n",
    "    #print(f'y-string={sorted(list(y))}')\n",
    "    #print(f'alphabet string={sorted(list(alphabet))}')\n",
    "    if set(sorted(list(y)))==set(sorted(list(alphabet))):\n",
    "        return True\n",
    "    else:\n",
    "        return False\n",
    "str1=input('>>')\n",
    "ispangram(str1)"
   ]
  },
  {
   "cell_type": "code",
   "execution_count": null,
   "metadata": {},
   "outputs": [],
   "source": []
  },
  {
   "cell_type": "code",
   "execution_count": null,
   "metadata": {},
   "outputs": [],
   "source": []
  },
  {
   "cell_type": "code",
   "execution_count": 52,
   "metadata": {},
   "outputs": [
    {
     "data": {
      "text/plain": [
       "'HelloMr.Rogers,howareyouthisfineTuesday?'"
      ]
     },
     "execution_count": 52,
     "metadata": {},
     "output_type": "execute_result"
    }
   ],
   "source": [
    "s='Hello Mr. Rogers, how are you this fine Tuesday?'\n",
    "s.replace(' ','')"
   ]
  },
  {
   "cell_type": "code",
   "execution_count": 53,
   "metadata": {},
   "outputs": [],
   "source": [
    "x=list(s)"
   ]
  },
  {
   "cell_type": "code",
   "execution_count": 56,
   "metadata": {},
   "outputs": [
    {
     "data": {
      "text/plain": [
       "False"
      ]
     },
     "execution_count": 56,
     "metadata": {},
     "output_type": "execute_result"
    }
   ],
   "source": [
    "'Raseswari is a Girl'.islower()"
   ]
  },
  {
   "cell_type": "code",
   "execution_count": 19,
   "metadata": {},
   "outputs": [
    {
     "data": {
      "text/plain": [
       "['raseswari', 'is', 'a', 'girl']"
      ]
     },
     "execution_count": 19,
     "metadata": {},
     "output_type": "execute_result"
    }
   ],
   "source": [
    "'raseswari is a girl'.split()"
   ]
  },
  {
   "cell_type": "code",
   "execution_count": 20,
   "metadata": {},
   "outputs": [
    {
     "data": {
      "text/plain": [
       "'raseswariisagirl'"
      ]
     },
     "execution_count": 20,
     "metadata": {},
     "output_type": "execute_result"
    }
   ],
   "source": [
    "''.join(['raseswari', 'is', 'a', 'girl'])"
   ]
  },
  {
   "cell_type": "code",
   "execution_count": 23,
   "metadata": {},
   "outputs": [
    {
     "data": {
      "text/plain": [
       "'raseswariisagirl'"
      ]
     },
     "execution_count": 23,
     "metadata": {},
     "output_type": "execute_result"
    }
   ],
   "source": [
    "'raseswari is a girl'.replace(' ','')"
   ]
  },
  {
   "cell_type": "code",
   "execution_count": 8,
   "metadata": {},
   "outputs": [],
   "source": [
    "Sample_List=[1,1,1,1,2,2,3,3,3,3,4,5]\n",
    "x=set(Sample_List)"
   ]
  },
  {
   "cell_type": "code",
   "execution_count": 9,
   "metadata": {},
   "outputs": [
    {
     "data": {
      "text/plain": [
       "{1, 2, 3, 4, 5}"
      ]
     },
     "execution_count": 9,
     "metadata": {},
     "output_type": "execute_result"
    }
   ],
   "source": [
    "x"
   ]
  },
  {
   "cell_type": "code",
   "execution_count": 37,
   "metadata": {},
   "outputs": [
    {
     "data": {
      "text/plain": [
       "[1, 2, 3, 4, 5]"
      ]
     },
     "execution_count": 37,
     "metadata": {},
     "output_type": "execute_result"
    }
   ],
   "source": [
    "list(x)"
   ]
  },
  {
   "cell_type": "code",
   "execution_count": 25,
   "metadata": {},
   "outputs": [
    {
     "data": {
      "text/plain": [
       "'irawsesar'"
      ]
     },
     "execution_count": 25,
     "metadata": {},
     "output_type": "execute_result"
    }
   ],
   "source": [
    "'raseswari'[::-1]"
   ]
  },
  {
   "cell_type": "code",
   "execution_count": 66,
   "metadata": {},
   "outputs": [
    {
     "data": {
      "text/plain": [
       "'abcdefghijklmnopqrstuvwxyz'"
      ]
     },
     "execution_count": 66,
     "metadata": {},
     "output_type": "execute_result"
    }
   ],
   "source": [
    "import string\n",
    "string.ascii_lowercase"
   ]
  },
  {
   "cell_type": "code",
   "execution_count": 73,
   "metadata": {},
   "outputs": [],
   "source": [
    "l=['a','b','c']\n",
    "s=['c','a','b']"
   ]
  },
  {
   "cell_type": "code",
   "execution_count": 75,
   "metadata": {},
   "outputs": [
    {
     "data": {
      "text/plain": [
       "True"
      ]
     },
     "execution_count": 75,
     "metadata": {},
     "output_type": "execute_result"
    }
   ],
   "source": [
    "sorted(l)==sorted(s)"
   ]
  },
  {
   "cell_type": "code",
   "execution_count": null,
   "metadata": {},
   "outputs": [],
   "source": []
  }
 ],
 "metadata": {
  "kernelspec": {
   "display_name": "Python 3",
   "language": "python",
   "name": "python3"
  },
  "language_info": {
   "codemirror_mode": {
    "name": "ipython",
    "version": 3
   },
   "file_extension": ".py",
   "mimetype": "text/x-python",
   "name": "python",
   "nbconvert_exporter": "python",
   "pygments_lexer": "ipython3",
   "version": "3.8.5"
  }
 },
 "nbformat": 4,
 "nbformat_minor": 4
}
