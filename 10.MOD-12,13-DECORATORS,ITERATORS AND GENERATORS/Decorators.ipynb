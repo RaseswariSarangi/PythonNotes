{
 "cells": [
  {
   "cell_type": "markdown",
   "metadata": {},
   "source": [
    "**Python has decorators that allow us to tack on extra functionality to an already existing function.They use @ operator and\n",
    "are then placed on top of the original function.The syntax for the decorator is:**"
   ]
  },
  {
   "cell_type": "raw",
   "metadata": {},
   "source": [
    "@some_decorator\n",
    "def simple_func():\n",
    "   #do simple stuff\n",
    "   return something"
   ]
  },
  {
   "cell_type": "markdown",
   "metadata": {},
   "source": [
    "**If afterwards you don't need the extra functionality in your code then you remove simply the @some_decorator line**"
   ]
  },
  {
   "cell_type": "code",
   "execution_count": 41,
   "metadata": {},
   "outputs": [],
   "source": [
    "def hello():\n",
    "    return 'hello!'"
   ]
  },
  {
   "cell_type": "code",
   "execution_count": 42,
   "metadata": {},
   "outputs": [],
   "source": [
    "greet=hello"
   ]
  },
  {
   "cell_type": "code",
   "execution_count": 43,
   "metadata": {},
   "outputs": [
    {
     "data": {
      "text/plain": [
       "'hello!'"
      ]
     },
     "execution_count": 43,
     "metadata": {},
     "output_type": "execute_result"
    }
   ],
   "source": [
    "greet()"
   ]
  },
  {
   "cell_type": "code",
   "execution_count": 44,
   "metadata": {},
   "outputs": [],
   "source": [
    "del hello"
   ]
  },
  {
   "cell_type": "code",
   "execution_count": 45,
   "metadata": {},
   "outputs": [
    {
     "ename": "NameError",
     "evalue": "name 'hello' is not defined",
     "output_type": "error",
     "traceback": [
      "\u001b[1;31m---------------------------------------------------------------------------\u001b[0m",
      "\u001b[1;31mNameError\u001b[0m                                 Traceback (most recent call last)",
      "\u001b[1;32m<ipython-input-45-a75d7781aaeb>\u001b[0m in \u001b[0;36m<module>\u001b[1;34m\u001b[0m\n\u001b[1;32m----> 1\u001b[1;33m \u001b[0mhello\u001b[0m\u001b[1;33m(\u001b[0m\u001b[1;33m)\u001b[0m\u001b[1;33m\u001b[0m\u001b[1;33m\u001b[0m\u001b[0m\n\u001b[0m",
      "\u001b[1;31mNameError\u001b[0m: name 'hello' is not defined"
     ]
    }
   ],
   "source": [
    "hello()"
   ]
  },
  {
   "cell_type": "code",
   "execution_count": 46,
   "metadata": {},
   "outputs": [
    {
     "data": {
      "text/plain": [
       "'hello!'"
      ]
     },
     "execution_count": 46,
     "metadata": {},
     "output_type": "execute_result"
    }
   ],
   "source": [
    "#example of func as object that can be passed to other object\n",
    "greet()"
   ]
  },
  {
   "cell_type": "code",
   "execution_count": 47,
   "metadata": {},
   "outputs": [
    {
     "name": "stdout",
     "output_type": "stream",
     "text": [
      "the hello() func has been executed.\n",
      "\t greet() is inside hello func\n",
      "\t welcome() is inside hello func\n",
      "this is the end of the func\n"
     ]
    }
   ],
   "source": [
    "#example of calling func within another func\n",
    "def hello(name='rashu'):\n",
    "    print('the hello() func has been executed.')\n",
    "    \n",
    "    #the scope of greet and welcome func is limited to hello func\n",
    "    def greet():\n",
    "        return '\\t greet() is inside hello func'\n",
    "    def welcome():\n",
    "        return '\\t welcome() is inside hello func'\n",
    "        \n",
    "    print(greet())\n",
    "    print(welcome())\n",
    "    print('this is the end of the func')\n",
    "hello()"
   ]
  },
  {
   "cell_type": "code",
   "execution_count": 48,
   "metadata": {},
   "outputs": [
    {
     "name": "stdout",
     "output_type": "stream",
     "text": [
      "the hello() func has been executed.\n",
      "\t this is the greet() inside hello func\n"
     ]
    }
   ],
   "source": [
    "def hello(name='jose'):\n",
    "    print('the hello() func has been executed.')\n",
    "    def greet():\n",
    "        return '\\t this is the greet() inside hello func'\n",
    "    def welcome():\n",
    "        return '\\t this is the welcome() inside hello func'\n",
    "    if name=='jose':\n",
    "        print(greet())\n",
    "    else:\n",
    "        print(welcome())\n",
    "hello()"
   ]
  },
  {
   "cell_type": "code",
   "execution_count": 49,
   "metadata": {},
   "outputs": [],
   "source": [
    "def hello(name):\n",
    "    print('the hello() func has been executed.')\n",
    "    def greet():\n",
    "        return '\\t this is the greet() inside hello func'\n",
    "    def welcome():\n",
    "        return '\\t this is the welcome() inside hello func'\n",
    "    print('I am going to return a fuction')\n",
    "    \n",
    "    #to acess greet and welcome func outside the hello func we have to return both the func\n",
    "    if name=='jose':\n",
    "        return greet\n",
    "    else:\n",
    "        return welcome"
   ]
  },
  {
   "cell_type": "code",
   "execution_count": 50,
   "metadata": {},
   "outputs": [
    {
     "name": "stdout",
     "output_type": "stream",
     "text": [
      ">>rashu\n",
      "the hello() func has been executed.\n",
      "I am going to return a fuction\n"
     ]
    }
   ],
   "source": [
    "name=input('>>')\n",
    "my_new_func=hello(name)"
   ]
  },
  {
   "cell_type": "code",
   "execution_count": 51,
   "metadata": {},
   "outputs": [
    {
     "data": {
      "text/plain": [
       "'\\t this is the welcome() inside hello func'"
      ]
     },
     "execution_count": 51,
     "metadata": {},
     "output_type": "execute_result"
    }
   ],
   "source": [
    "my_new_func()"
   ]
  },
  {
   "cell_type": "code",
   "execution_count": 52,
   "metadata": {},
   "outputs": [
    {
     "name": "stdout",
     "output_type": "stream",
     "text": [
      "\t this is the welcome() inside hello func\n"
     ]
    }
   ],
   "source": [
    "print(my_new_func())"
   ]
  },
  {
   "cell_type": "code",
   "execution_count": 53,
   "metadata": {},
   "outputs": [],
   "source": [
    "def hot():\n",
    "    def super_hot():\n",
    "        return 'I am super hot!!'\n",
    "    return super_hot"
   ]
  },
  {
   "cell_type": "code",
   "execution_count": 54,
   "metadata": {},
   "outputs": [],
   "source": [
    "some_func=hot()"
   ]
  },
  {
   "cell_type": "code",
   "execution_count": 55,
   "metadata": {},
   "outputs": [
    {
     "data": {
      "text/plain": [
       "'I am super hot!!'"
      ]
     },
     "execution_count": 55,
     "metadata": {},
     "output_type": "execute_result"
    }
   ],
   "source": [
    "some_func()"
   ]
  },
  {
   "cell_type": "code",
   "execution_count": 56,
   "metadata": {},
   "outputs": [],
   "source": [
    "#another way\n",
    "def hot():\n",
    "    def super_hot():\n",
    "        return 'I am super hot!!'\n",
    "    return super_hot()"
   ]
  },
  {
   "cell_type": "code",
   "execution_count": 57,
   "metadata": {},
   "outputs": [],
   "source": [
    "some_func=hot()"
   ]
  },
  {
   "cell_type": "code",
   "execution_count": 58,
   "metadata": {},
   "outputs": [
    {
     "data": {
      "text/plain": [
       "'I am super hot!!'"
      ]
     },
     "execution_count": 58,
     "metadata": {},
     "output_type": "execute_result"
    }
   ],
   "source": [
    "some_func"
   ]
  },
  {
   "cell_type": "code",
   "execution_count": 59,
   "metadata": {},
   "outputs": [],
   "source": [
    "#example of function \n",
    "def hello():\n",
    "    return 'Hi rashuu!!'"
   ]
  },
  {
   "cell_type": "code",
   "execution_count": 60,
   "metadata": {},
   "outputs": [],
   "source": [
    "def other(some_def_func):\n",
    "    print('some other code runs here....')\n",
    "    \n",
    "    #passing any func as an argument\n",
    "    print(some_def_func())"
   ]
  },
  {
   "cell_type": "code",
   "execution_count": 61,
   "metadata": {},
   "outputs": [
    {
     "name": "stdout",
     "output_type": "stream",
     "text": [
      "some other code runs here....\n",
      "Hi rashuu!!\n"
     ]
    }
   ],
   "source": [
    "other(hello)"
   ]
  },
  {
   "cell_type": "code",
   "execution_count": 84,
   "metadata": {},
   "outputs": [],
   "source": [
    "def new_decorator(original_func):\n",
    "    \n",
    "    #example of wrapping \n",
    "    def wrap_func():\n",
    "        print('some extra code,before original func')\n",
    "        original_func()\n",
    "        print('some extra code,after original func')\n",
    "    return wrap_func"
   ]
  },
  {
   "cell_type": "code",
   "execution_count": 85,
   "metadata": {},
   "outputs": [],
   "source": [
    "def func_need_decorator():\n",
    "    print('I want to be decorated!!')"
   ]
  },
  {
   "cell_type": "code",
   "execution_count": 86,
   "metadata": {},
   "outputs": [],
   "source": [
    "decorated_func=new_decorator(func_need_decorator)"
   ]
  },
  {
   "cell_type": "code",
   "execution_count": 87,
   "metadata": {},
   "outputs": [
    {
     "name": "stdout",
     "output_type": "stream",
     "text": [
      "some extra code,before original func\n",
      "I want to be decorated!!\n",
      "some extra code,after original func\n"
     ]
    }
   ],
   "source": [
    "decorated_func()"
   ]
  },
  {
   "cell_type": "code",
   "execution_count": 88,
   "metadata": {},
   "outputs": [],
   "source": [
    "#another example\n",
    "def new_decorator(original_func):\n",
    "    def wrap_func():\n",
    "        print('some code,before func')\n",
    "        original_func()\n",
    "        print('some code,after func')\n",
    "    return wrap_func"
   ]
  },
  {
   "cell_type": "code",
   "execution_count": 89,
   "metadata": {},
   "outputs": [
    {
     "name": "stdout",
     "output_type": "stream",
     "text": [
      "some code,before func\n",
      "I want to be decorated!!\n",
      "some code,after func\n"
     ]
    }
   ],
   "source": [
    "#on/off switch for adding more functionality to the decorator\n",
    "@new_decorator\n",
    "def func_need_decorator():\n",
    "    print('I want to be decorated!!')\n",
    "func_need_decorator()"
   ]
  },
  {
   "cell_type": "markdown",
   "metadata": {},
   "source": [
    "**These decorators are mainly used in the web frameworks like django and flask**"
   ]
  },
  {
   "cell_type": "code",
   "execution_count": null,
   "metadata": {},
   "outputs": [],
   "source": []
  }
 ],
 "metadata": {
  "kernelspec": {
   "display_name": "Python 3",
   "language": "python",
   "name": "python3"
  },
  "language_info": {
   "codemirror_mode": {
    "name": "ipython",
    "version": 3
   },
   "file_extension": ".py",
   "mimetype": "text/x-python",
   "name": "python",
   "nbconvert_exporter": "python",
   "pygments_lexer": "ipython3",
   "version": "3.8.5"
  }
 },
 "nbformat": 4,
 "nbformat_minor": 4
}
