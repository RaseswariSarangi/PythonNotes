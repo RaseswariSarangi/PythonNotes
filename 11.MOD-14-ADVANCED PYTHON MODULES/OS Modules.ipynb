{
 "cells": [
  {
   "cell_type": "code",
   "execution_count": 9,
   "metadata": {},
   "outputs": [
    {
     "data": {
      "text/plain": [
       "'C:\\\\Users\\\\KIIT\\\\PYTHON_COURSE_01\\\\11.MOD-14-ADVANCED PYTHON MODULES'"
      ]
     },
     "execution_count": 9,
     "metadata": {},
     "output_type": "execute_result"
    }
   ],
   "source": [
    "pwd   #current working directory"
   ]
  },
  {
   "cell_type": "code",
   "execution_count": 10,
   "metadata": {},
   "outputs": [],
   "source": [
    "#opening and writing in a file\n",
    "f=open('practice.txt','w+')\n",
    "f.write('this is a practice file')\n",
    "f.close()"
   ]
  },
  {
   "cell_type": "code",
   "execution_count": 11,
   "metadata": {},
   "outputs": [],
   "source": [
    "import os"
   ]
  },
  {
   "cell_type": "code",
   "execution_count": 12,
   "metadata": {},
   "outputs": [
    {
     "data": {
      "text/plain": [
       "'C:\\\\Users\\\\KIIT\\\\PYTHON_COURSE_01\\\\11.MOD-14-ADVANCED PYTHON MODULES'"
      ]
     },
     "execution_count": 12,
     "metadata": {},
     "output_type": "execute_result"
    }
   ],
   "source": [
    "#find current working directory\n",
    "os.getcwd()"
   ]
  },
  {
   "cell_type": "code",
   "execution_count": 13,
   "metadata": {},
   "outputs": [
    {
     "data": {
      "text/plain": [
       "['.ipynb_checkpoints',\n",
       " 'Collection Module.ipynb',\n",
       " 'OS Modules.ipynb',\n",
       " 'practice.txt']"
      ]
     },
     "execution_count": 13,
     "metadata": {},
     "output_type": "execute_result"
    }
   ],
   "source": [
    "os.listdir()"
   ]
  },
  {
   "cell_type": "code",
   "execution_count": 16,
   "metadata": {},
   "outputs": [
    {
     "data": {
      "text/plain": [
       "['.ipynb_checkpoints',\n",
       " '01.MOD-3-PYTHON BASICS',\n",
       " '02.MOD-4,5-IF,ELSE,LOOPS',\n",
       " '03.MOD-6-FUNCTIONS',\n",
       " '04.MOD-7-MILESTONE PROJECT-01',\n",
       " '05.MOD-8-OOP',\n",
       " '06.MOD-9-MODULE PACKAGES',\n",
       " '07.MOD-10-EXCEPTION HANDLING',\n",
       " '08.MOD-11-MILESTONE PROJECT-02',\n",
       " '09.MOD-BUILT-IN-FUNCTIONS',\n",
       " '10.MOD-12,13-DECORATORS,ITERATORS AND GENERATORS',\n",
       " '11.MOD-14-ADVANCED PYTHON MODULES',\n",
       " 'hackerank challenges.ipynb',\n",
       " 'PYTHON PROJECTS',\n",
       " 'untitled.txt']"
      ]
     },
     "execution_count": 16,
     "metadata": {},
     "output_type": "execute_result"
    }
   ],
   "source": [
    "#opening files from another location\n",
    "os.listdir('C:\\\\Users\\\\KIIT\\\\PYTHON_COURSE_01')"
   ]
  },
  {
   "cell_type": "code",
   "execution_count": 17,
   "metadata": {},
   "outputs": [],
   "source": [
    "import shutil"
   ]
  },
  {
   "cell_type": "code",
   "execution_count": 18,
   "metadata": {},
   "outputs": [
    {
     "data": {
      "text/plain": [
       "'C:\\\\Users\\\\KIIT\\\\PYTHON_COURSE_01\\\\practice.txt'"
      ]
     },
     "execution_count": 18,
     "metadata": {},
     "output_type": "execute_result"
    }
   ],
   "source": [
    "#this module is used to move files in different locations\n",
    "#here we have to give (source,destination)\n",
    "shutil.move('practice.txt','C:\\\\Users\\\\KIIT\\\\PYTHON_COURSE_01')"
   ]
  },
  {
   "cell_type": "markdown",
   "metadata": {},
   "source": [
    "**Location to which the file is moved**"
   ]
  },
  {
   "cell_type": "code",
   "execution_count": 19,
   "metadata": {},
   "outputs": [
    {
     "data": {
      "text/plain": [
       "'C:\\\\Users\\\\KIIT\\\\PYTHON_COURSE_01\\\\11.MOD-14-ADVANCED PYTHON MODULES\\\\practice.txt'"
      ]
     },
     "execution_count": 19,
     "metadata": {},
     "output_type": "execute_result"
    }
   ],
   "source": [
    "shutil.move('C:\\\\Users\\\\KIIT\\\\PYTHON_COURSE_01\\\\practice.txt','C:\\\\Users\\\\KIIT\\\\PYTHON_COURSE_01\\\\11.MOD-14-ADVANCED PYTHON MODULES')"
   ]
  },
  {
   "cell_type": "markdown",
   "metadata": {},
   "source": [
    "**THE BELOW TWO METHODS SHOULD BE ADOPTED CAREFULLY AS IT CAN PERMANENTLY DELETE A FILE FROM THE PATH PROVIDED**"
   ]
  },
  {
   "cell_type": "markdown",
   "metadata": {},
   "source": [
    "**First create a ipynb file named 1234 and a folder of Untitled Folder**"
   ]
  },
  {
   "cell_type": "code",
   "execution_count": 20,
   "metadata": {},
   "outputs": [],
   "source": [
    "os.unlink('C:\\\\Users\\\\KIIT\\\\PYTHON_COURSE_01\\\\1234.ipynb')"
   ]
  },
  {
   "cell_type": "code",
   "execution_count": 21,
   "metadata": {},
   "outputs": [],
   "source": [
    "os.rmdir('C:\\\\Users\\\\KIIT\\\\PYTHON_COURSE_01\\\\Untitled Folder')"
   ]
  },
  {
   "cell_type": "markdown",
   "metadata": {},
   "source": [
    "**THIS METHOD SHOULD BE FOLLOWED TO DELETE SO THAT WE CAN REMOVE FILES FROM TRASH**"
   ]
  },
  {
   "cell_type": "code",
   "execution_count": 22,
   "metadata": {},
   "outputs": [],
   "source": [
    "import send2trash"
   ]
  },
  {
   "cell_type": "markdown",
   "metadata": {},
   "source": [
    "**Create a text file of untitled**"
   ]
  },
  {
   "cell_type": "code",
   "execution_count": 23,
   "metadata": {},
   "outputs": [],
   "source": [
    "send2trash.send2trash('untitled.txt')"
   ]
  },
  {
   "cell_type": "code",
   "execution_count": 26,
   "metadata": {},
   "outputs": [
    {
     "data": {
      "text/plain": [
       "['.ipynb_checkpoints',\n",
       " 'Collection Module.ipynb',\n",
       " 'Example_top_level',\n",
       " 'OS Modules.ipynb',\n",
       " 'practice.txt']"
      ]
     },
     "execution_count": 26,
     "metadata": {},
     "output_type": "execute_result"
    }
   ],
   "source": [
    "os.listdir()"
   ]
  },
  {
   "cell_type": "code",
   "execution_count": 25,
   "metadata": {},
   "outputs": [
    {
     "data": {
      "text/plain": [
       "'C:\\\\Users\\\\KIIT\\\\PYTHON_COURSE_01\\\\11.MOD-14-ADVANCED PYTHON MODULES'"
      ]
     },
     "execution_count": 25,
     "metadata": {},
     "output_type": "execute_result"
    }
   ],
   "source": [
    "os.getcwd()"
   ]
  },
  {
   "cell_type": "markdown",
   "metadata": {},
   "source": [
    "**Create a Example_top_level folder according to the instructor info**"
   ]
  },
  {
   "cell_type": "code",
   "execution_count": 27,
   "metadata": {},
   "outputs": [],
   "source": [
    "file_path='C:\\\\Users\\\\KIIT\\\\PYTHON_COURSE_01\\\\11.MOD-14-ADVANCED PYTHON MODULES\\\\Example_top_level'"
   ]
  },
  {
   "cell_type": "code",
   "execution_count": 29,
   "metadata": {
    "scrolled": true
   },
   "outputs": [
    {
     "name": "stdout",
     "output_type": "stream",
     "text": [
      "I am currently looking at C:\\Users\\KIIT\\PYTHON_COURSE_01\\11.MOD-14-ADVANCED PYTHON MODULES\\Example_top_level\n",
      "\n",
      "\n",
      "The subfolders are:\n",
      "\n",
      "\tsubfolders:.ipynb_checkpoints\n",
      "\n",
      "\tsubfolders:Mid_Example_One\n",
      "\n",
      "\n",
      "The files are:\n",
      "\n",
      "\tfiles:Mid_Example.txt\n",
      "\n",
      "\n",
      "I am currently looking at C:\\Users\\KIIT\\PYTHON_COURSE_01\\11.MOD-14-ADVANCED PYTHON MODULES\\Example_top_level\\.ipynb_checkpoints\n",
      "\n",
      "\n",
      "The subfolders are:\n",
      "\n",
      "\n",
      "The files are:\n",
      "\n",
      "\n",
      "I am currently looking at C:\\Users\\KIIT\\PYTHON_COURSE_01\\11.MOD-14-ADVANCED PYTHON MODULES\\Example_top_level\\Mid_Example_One\n",
      "\n",
      "\n",
      "The subfolders are:\n",
      "\n",
      "\tsubfolders:.ipynb_checkpoints\n",
      "\n",
      "\tsubfolders:Bottom_Level_one\n",
      "\n",
      "\tsubfolders:Bottom_Level_Two\n",
      "\n",
      "\n",
      "The files are:\n",
      "\n",
      "\tfiles:Mid_Level_Doc.txt\n",
      "\n",
      "\n",
      "I am currently looking at C:\\Users\\KIIT\\PYTHON_COURSE_01\\11.MOD-14-ADVANCED PYTHON MODULES\\Example_top_level\\Mid_Example_One\\.ipynb_checkpoints\n",
      "\n",
      "\n",
      "The subfolders are:\n",
      "\n",
      "\n",
      "The files are:\n",
      "\n",
      "\n",
      "I am currently looking at C:\\Users\\KIIT\\PYTHON_COURSE_01\\11.MOD-14-ADVANCED PYTHON MODULES\\Example_top_level\\Mid_Example_One\\Bottom_Level_one\n",
      "\n",
      "\n",
      "The subfolders are:\n",
      "\n",
      "\tsubfolders:.ipynb_checkpoints\n",
      "\n",
      "\n",
      "The files are:\n",
      "\n",
      "\tfiles:One.txt\n",
      "\n",
      "\n",
      "I am currently looking at C:\\Users\\KIIT\\PYTHON_COURSE_01\\11.MOD-14-ADVANCED PYTHON MODULES\\Example_top_level\\Mid_Example_One\\Bottom_Level_one\\.ipynb_checkpoints\n",
      "\n",
      "\n",
      "The subfolders are:\n",
      "\n",
      "\n",
      "The files are:\n",
      "\n",
      "\n",
      "I am currently looking at C:\\Users\\KIIT\\PYTHON_COURSE_01\\11.MOD-14-ADVANCED PYTHON MODULES\\Example_top_level\\Mid_Example_One\\Bottom_Level_Two\n",
      "\n",
      "\n",
      "The subfolders are:\n",
      "\n",
      "\tsubfolders:.ipynb_checkpoints\n",
      "\n",
      "\n",
      "The files are:\n",
      "\n",
      "\tfiles:Two.txt\n",
      "\n",
      "\n",
      "I am currently looking at C:\\Users\\KIIT\\PYTHON_COURSE_01\\11.MOD-14-ADVANCED PYTHON MODULES\\Example_top_level\\Mid_Example_One\\Bottom_Level_Two\\.ipynb_checkpoints\n",
      "\n",
      "\n",
      "The subfolders are:\n",
      "\n",
      "\n",
      "The files are:\n",
      "\n",
      "\n"
     ]
    }
   ],
   "source": [
    "for folder,sub_folders,files in os.walk(file_path):\n",
    "    print(f'I am currently looking at {folder}')\n",
    "    print('\\n')\n",
    "    print('The subfolders are:')\n",
    "    for sub_fold in sub_folders:\n",
    "        print(f'\\n\\tsubfolders:{sub_fold}')\n",
    "    print('\\n')\n",
    "    print('The files are:')\n",
    "    for f in files:\n",
    "        print(f'\\n\\tfiles:{f}')\n",
    "    print('\\n')"
   ]
  },
  {
   "cell_type": "code",
   "execution_count": null,
   "metadata": {},
   "outputs": [],
   "source": []
  }
 ],
 "metadata": {
  "kernelspec": {
   "display_name": "Python 3",
   "language": "python",
   "name": "python3"
  },
  "language_info": {
   "codemirror_mode": {
    "name": "ipython",
    "version": 3
   },
   "file_extension": ".py",
   "mimetype": "text/x-python",
   "name": "python",
   "nbconvert_exporter": "python",
   "pygments_lexer": "ipython3",
   "version": "3.8.5"
  }
 },
 "nbformat": 4,
 "nbformat_minor": 4
}
