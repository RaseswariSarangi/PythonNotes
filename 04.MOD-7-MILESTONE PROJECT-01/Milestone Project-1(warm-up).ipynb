{
 "cells": [
  {
   "cell_type": "markdown",
   "metadata": {},
   "source": [
    "# Displaying Visual:"
   ]
  },
  {
   "cell_type": "code",
   "execution_count": 6,
   "metadata": {},
   "outputs": [
    {
     "name": "stdout",
     "output_type": "stream",
     "text": [
      "[' ', ' ', ' ']\n",
      "[' ', ' ', ' ']\n",
      "[' ', ' ', ' ']\n"
     ]
    }
   ],
   "source": [
    "#displaying rows\n",
    "def display_rows(row1,row2,row3):\n",
    "    print(row1)\n",
    "    print(row2)\n",
    "    print(row3)\n",
    "row1=[' ',' ',' ']\n",
    "row2=[' ',' ',' ']\n",
    "row3=[' ',' ',' ']\n",
    "display_rows(row1,row2,row3)"
   ]
  },
  {
   "cell_type": "code",
   "execution_count": 7,
   "metadata": {},
   "outputs": [],
   "source": [
    "#editing rows\n",
    "row2[2]='X'"
   ]
  },
  {
   "cell_type": "code",
   "execution_count": 9,
   "metadata": {},
   "outputs": [
    {
     "name": "stdout",
     "output_type": "stream",
     "text": [
      "[' ', ' ', ' ']\n",
      "[' ', ' ', 'X']\n",
      "[' ', ' ', ' ']\n"
     ]
    }
   ],
   "source": [
    "display_rows(row1,row2,row3)"
   ]
  },
  {
   "cell_type": "markdown",
   "metadata": {},
   "source": [
    "# Accepting User Input:"
   ]
  },
  {
   "cell_type": "code",
   "execution_count": 12,
   "metadata": {},
   "outputs": [
    {
     "name": "stdout",
     "output_type": "stream",
     "text": [
      "please enter any value:345\n"
     ]
    }
   ],
   "source": [
    "#use of input operator\n",
    "result=input('please enter any value:')"
   ]
  },
  {
   "cell_type": "code",
   "execution_count": 13,
   "metadata": {},
   "outputs": [
    {
     "data": {
      "text/plain": [
       "'345'"
      ]
     },
     "execution_count": 13,
     "metadata": {},
     "output_type": "execute_result"
    }
   ],
   "source": [
    "result"
   ]
  },
  {
   "cell_type": "code",
   "execution_count": 14,
   "metadata": {},
   "outputs": [
    {
     "data": {
      "text/plain": [
       "str"
      ]
     },
     "execution_count": 14,
     "metadata": {},
     "output_type": "execute_result"
    }
   ],
   "source": [
    "type(result)"
   ]
  },
  {
   "cell_type": "code",
   "execution_count": 18,
   "metadata": {},
   "outputs": [
    {
     "name": "stdout",
     "output_type": "stream",
     "text": [
      "please enter any value:2\n"
     ]
    }
   ],
   "source": [
    "#to change the result into int type\n",
    "result1=int(input('please enter any value:'))"
   ]
  },
  {
   "cell_type": "code",
   "execution_count": 19,
   "metadata": {},
   "outputs": [
    {
     "data": {
      "text/plain": [
       "2"
      ]
     },
     "execution_count": 19,
     "metadata": {},
     "output_type": "execute_result"
    }
   ],
   "source": [
    "result1"
   ]
  },
  {
   "cell_type": "code",
   "execution_count": 20,
   "metadata": {},
   "outputs": [
    {
     "data": {
      "text/plain": [
       "int"
      ]
     },
     "execution_count": 20,
     "metadata": {},
     "output_type": "execute_result"
    }
   ],
   "source": [
    "type(result1)"
   ]
  },
  {
   "cell_type": "code",
   "execution_count": 21,
   "metadata": {},
   "outputs": [
    {
     "data": {
      "text/plain": [
       "'X'"
      ]
     },
     "execution_count": 21,
     "metadata": {},
     "output_type": "execute_result"
    }
   ],
   "source": [
    "row2[result1]"
   ]
  },
  {
   "cell_type": "markdown",
   "metadata": {},
   "source": [
    "# Validating User Input:"
   ]
  },
  {
   "cell_type": "code",
   "execution_count": 22,
   "metadata": {},
   "outputs": [
    {
     "name": "stdout",
     "output_type": "stream",
     "text": [
      "enter any number:24\n"
     ]
    },
    {
     "data": {
      "text/plain": [
       "24"
      ]
     },
     "execution_count": 22,
     "metadata": {},
     "output_type": "execute_result"
    }
   ],
   "source": [
    "def user_choice():\n",
    "    choice=input('enter any number(0-10):')  #this gives error when we enter a string \n",
    "    return int(choice)\n",
    "user_choice()"
   ]
  },
  {
   "cell_type": "code",
   "execution_count": 25,
   "metadata": {},
   "outputs": [],
   "source": [
    "some_value='100'"
   ]
  },
  {
   "cell_type": "code",
   "execution_count": 30,
   "metadata": {},
   "outputs": [
    {
     "data": {
      "text/plain": [
       "True"
      ]
     },
     "execution_count": 30,
     "metadata": {},
     "output_type": "execute_result"
    }
   ],
   "source": [
    "#to avoid the error when we enter any string\n",
    "some_value.isdigit()"
   ]
  },
  {
   "cell_type": "code",
   "execution_count": 31,
   "metadata": {},
   "outputs": [
    {
     "data": {
      "text/plain": [
       "100"
      ]
     },
     "execution_count": 31,
     "metadata": {},
     "output_type": "execute_result"
    }
   ],
   "source": [
    "#if isdigit method gives true boolean then integer value can be determined for string input\n",
    "int(some_value)"
   ]
  },
  {
   "cell_type": "code",
   "execution_count": 1,
   "metadata": {},
   "outputs": [
    {
     "name": "stdout",
     "output_type": "stream",
     "text": [
      "enter any num(0-10):rt\n",
      "sryy that's not a digit.\n",
      "enter any num(0-10):ty\n",
      "sryy that's not a digit.\n",
      "enter any num(0-10):45\n"
     ]
    },
    {
     "data": {
      "text/plain": [
       "45"
      ]
     },
     "execution_count": 1,
     "metadata": {},
     "output_type": "execute_result"
    }
   ],
   "source": [
    "#modified version code-accepts digit values and doesn't show error when string is passed on but accepts values more than 10\n",
    "def user_choice():\n",
    "    choice='okayy'\n",
    "    while choice.isdigit()==False:\n",
    "        choice=input('enter any num(0-10):')\n",
    "        if choice.isdigit()==False:\n",
    "            print(\"sryy that's not a digit.\" )\n",
    "    return int(choice)\n",
    "user_choice()"
   ]
  },
  {
   "cell_type": "code",
   "execution_count": 2,
   "metadata": {},
   "outputs": [],
   "source": [
    "choice1='wrong'"
   ]
  },
  {
   "cell_type": "code",
   "execution_count": 3,
   "metadata": {},
   "outputs": [],
   "source": [
    "acceptable_values=[1,2,3,4,5,6]"
   ]
  },
  {
   "cell_type": "code",
   "execution_count": 4,
   "metadata": {},
   "outputs": [
    {
     "data": {
      "text/plain": [
       "False"
      ]
     },
     "execution_count": 4,
     "metadata": {},
     "output_type": "execute_result"
    }
   ],
   "source": [
    "choice1 in acceptable_values"
   ]
  },
  {
   "cell_type": "code",
   "execution_count": 5,
   "metadata": {},
   "outputs": [
    {
     "data": {
      "text/plain": [
       "True"
      ]
     },
     "execution_count": 5,
     "metadata": {},
     "output_type": "execute_result"
    }
   ],
   "source": [
    "choice1 not in acceptable_values"
   ]
  },
  {
   "cell_type": "code",
   "execution_count": 8,
   "metadata": {},
   "outputs": [
    {
     "name": "stdout",
     "output_type": "stream",
     "text": [
      "enter any num(0-10):rty\n",
      "sryy that is not a digit.\n",
      "enter any num(0-10):56\n",
      "u r out of range.\n",
      "enter any num(0-10):3\n"
     ]
    },
    {
     "data": {
      "text/plain": [
       "3"
      ]
     },
     "execution_count": 8,
     "metadata": {},
     "output_type": "execute_result"
    }
   ],
   "source": [
    "#modified version code-2:accepts values which are digits and within (0-10) only and doesn't show error when string is given\n",
    "def user_choice():\n",
    "    #VARIABLES\n",
    "    #initialization\n",
    "    choice='okayy'\n",
    "    acceptable_range=range(1,10)\n",
    "    \n",
    "    #CHECKING TWO CONDITIONS\n",
    "    #1.Whether digits or not\n",
    "    #2.whithin range or not\n",
    "    within_range=False\n",
    "    while choice.isdigit()==False or within_range==False:\n",
    "        choice=input('enter any num(0-10):')\n",
    "        \n",
    "        #DIGIT CHECK\n",
    "        if choice.isdigit()==False:\n",
    "            print('sryy that is not a digit.')\n",
    "            \n",
    "        #RANGE CHECK\n",
    "        if choice.isdigit()==True:  #here we can rewrite if choice.isdigit(): condition as isdigit() method gives bool value\n",
    "            if int(choice) in acceptable_range:\n",
    "                within_range=True\n",
    "            else:\n",
    "                print('u r out of range.')\n",
    "                within_range=False    #here we don't have to write as already within_range=False from starting of code \n",
    "    return int(choice)\n",
    "user_choice()"
   ]
  },
  {
   "cell_type": "markdown",
   "metadata": {},
   "source": [
    "# Simple User Interaction:"
   ]
  },
  {
   "cell_type": "code",
   "execution_count": 1,
   "metadata": {},
   "outputs": [
    {
     "name": "stdout",
     "output_type": "stream",
     "text": [
      "here is the current list.\n",
      "[0, 1, 2]\n"
     ]
    }
   ],
   "source": [
    "#printing game list\n",
    "game_list=[0,1,2]\n",
    "def display_gamelist(game_list):\n",
    "    print('here is the current list.')\n",
    "    print(game_list)\n",
    "display_gamelist(game_list)    "
   ]
  },
  {
   "cell_type": "code",
   "execution_count": 3,
   "metadata": {},
   "outputs": [
    {
     "name": "stdout",
     "output_type": "stream",
     "text": [
      "pick any number(0-2): tree\n",
      "invalid choice\n",
      "pick any number(0-2): 56\n",
      "invalid choice\n",
      "pick any number(0-2): 2\n"
     ]
    },
    {
     "data": {
      "text/plain": [
       "2"
      ]
     },
     "execution_count": 3,
     "metadata": {},
     "output_type": "execute_result"
    }
   ],
   "source": [
    "#making position choice\n",
    "game_list=[0,1,2]\n",
    "def position_choice():\n",
    "    choice='wrong'\n",
    "    while choice not in ['0','1','2']:\n",
    "        choice=input('pick any number(0-2): ')\n",
    "        if choice not in ['0','1','2']:\n",
    "            print('invalid choice')\n",
    "    return int(choice)\n",
    "position_choice()"
   ]
  },
  {
   "cell_type": "code",
   "execution_count": 7,
   "metadata": {},
   "outputs": [
    {
     "name": "stdout",
     "output_type": "stream",
     "text": [
      "pick any number(0-2): 1\n"
     ]
    }
   ],
   "source": [
    "position=position_choice()"
   ]
  },
  {
   "cell_type": "code",
   "execution_count": 8,
   "metadata": {},
   "outputs": [
    {
     "data": {
      "text/plain": [
       "1"
      ]
     },
     "execution_count": 8,
     "metadata": {},
     "output_type": "execute_result"
    }
   ],
   "source": [
    "position"
   ]
  },
  {
   "cell_type": "code",
   "execution_count": 9,
   "metadata": {},
   "outputs": [
    {
     "name": "stdout",
     "output_type": "stream",
     "text": [
      "enter any string or number:hello\n"
     ]
    },
    {
     "data": {
      "text/plain": [
       "[0, 'hello', 2]"
      ]
     },
     "execution_count": 9,
     "metadata": {},
     "output_type": "execute_result"
    }
   ],
   "source": [
    "#replacement of that position with value/string from from user\n",
    "game_list=[0,1,2]\n",
    "def replacement_choice(game_list,position):\n",
    "    user_replacement=input('enter any string or number:')\n",
    "    game_list[position]=user_replacement\n",
    "    return game_list\n",
    "replacement_choice(game_list,position) #here position value is 2 so it takes it or else we can take a value from [0,1,2]  "
   ]
  },
  {
   "cell_type": "code",
   "execution_count": 11,
   "metadata": {},
   "outputs": [
    {
     "name": "stdout",
     "output_type": "stream",
     "text": [
      "keep playing(Y or N): n\n"
     ]
    },
    {
     "data": {
      "text/plain": [
       "False"
      ]
     },
     "execution_count": 11,
     "metadata": {},
     "output_type": "execute_result"
    }
   ],
   "source": [
    "#continue the game according to user's choice\n",
    "def gameon_choice():\n",
    "    choice='wrong'\n",
    "    while choice not in ['Y','N']:\n",
    "        choice=input('keep playing(Y or N): ').upper()\n",
    "        if choice not in ['Y','N']:\n",
    "            print('please enter Y or N.')\n",
    "    if choice=='Y':\n",
    "        return True\n",
    "    else:\n",
    "        return False\n",
    "gameon_choice()"
   ]
  },
  {
   "cell_type": "code",
   "execution_count": 15,
   "metadata": {},
   "outputs": [
    {
     "data": {
      "text/plain": [
       "[0, 1, 2]"
      ]
     },
     "metadata": {},
     "output_type": "display_data"
    },
    {
     "name": "stdout",
     "output_type": "stream",
     "text": [
      "pick any number(0-2): 1\n",
      "enter any string or number:hello\n"
     ]
    },
    {
     "data": {
      "text/plain": [
       "[0, 'hello', 2]"
      ]
     },
     "metadata": {},
     "output_type": "display_data"
    },
    {
     "name": "stdout",
     "output_type": "stream",
     "text": [
      "keep playing(Y or N): y\n"
     ]
    },
    {
     "data": {
      "text/plain": [
       "[0, 'hello', 2]"
      ]
     },
     "metadata": {},
     "output_type": "display_data"
    },
    {
     "name": "stdout",
     "output_type": "stream",
     "text": [
      "pick any number(0-2): 0\n",
      "enter any string or number:rrrr\n"
     ]
    },
    {
     "data": {
      "text/plain": [
       "['rrrr', 'hello', 2]"
      ]
     },
     "metadata": {},
     "output_type": "display_data"
    },
    {
     "name": "stdout",
     "output_type": "stream",
     "text": [
      "keep playing(Y or N): n\n"
     ]
    }
   ],
   "source": [
    "#all the four steps are combined to make simple user interaction\n",
    "game_on=True\n",
    "game_list=[0,1,2]\n",
    "while game_on:\n",
    "    #displaying of game list\n",
    "    display_gamelist(game_list)\n",
    "    #making choice of postion by user\n",
    "    position=position_choice()\n",
    "    #replacement of position according to the choice of user\n",
    "    game_list=replacement_choice(game_list,position)\n",
    "    #display of replaced game list\n",
    "    display_gamelist(game_list)\n",
    "    #making choice to continue game or not by user\n",
    "    game_on=gameon_choice()"
   ]
  },
  {
   "cell_type": "code",
   "execution_count": 17,
   "metadata": {},
   "outputs": [
    {
     "data": {
      "text/plain": [
       "['rrrr', 'hello', 2]"
      ]
     },
     "execution_count": 17,
     "metadata": {},
     "output_type": "execute_result"
    }
   ],
   "source": [
    "game_list"
   ]
  },
  {
   "cell_type": "markdown",
   "metadata": {},
   "source": [
    "HERE IS A METHOD IN WHICH PREVIOUS OUTPUT ENTERED BY USER WILL BE DELETED WHEN HE/SHE ENTERS A NEW OUTPUT:"
   ]
  },
  {
   "cell_type": "code",
   "execution_count": 21,
   "metadata": {},
   "outputs": [
    {
     "name": "stdout",
     "output_type": "stream",
     "text": [
      "here is the current list.\n",
      "[0, 'gty', 2]\n",
      "pick any number(0-2): 0\n",
      "enter any string or number:ry\n",
      "here is the current list.\n",
      "['ry', 'gty', 2]\n",
      "keep playing(Y or N): n\n"
     ]
    }
   ],
   "source": [
    "#all the four steps are combined to make simple user interaction\n",
    "from IPython.display import clear_output\n",
    "game_on=True\n",
    "game_list=[0,1,2]\n",
    "while game_on:\n",
    "    clear_output()\n",
    "    #displaying of game list\n",
    "    display_gamelist(game_list)\n",
    "    #making choice of postion by user\n",
    "    position=position_choice()\n",
    "    #replacement of position according to the choice of user\n",
    "    game_list=replacement_choice(game_list,position)\n",
    "    #display of replaced game list\n",
    "    display_gamelist(game_list)\n",
    "    #making choice to continue game or not by user\n",
    "    game_on=gameon_choice()"
   ]
  },
  {
   "cell_type": "code",
   "execution_count": null,
   "metadata": {},
   "outputs": [],
   "source": []
  }
 ],
 "metadata": {
  "kernelspec": {
   "display_name": "Python 3",
   "language": "python",
   "name": "python3"
  },
  "language_info": {
   "codemirror_mode": {
    "name": "ipython",
    "version": 3
   },
   "file_extension": ".py",
   "mimetype": "text/x-python",
   "name": "python",
   "nbconvert_exporter": "python",
   "pygments_lexer": "ipython3",
   "version": "3.8.5"
  }
 },
 "nbformat": 4,
 "nbformat_minor": 4
}
