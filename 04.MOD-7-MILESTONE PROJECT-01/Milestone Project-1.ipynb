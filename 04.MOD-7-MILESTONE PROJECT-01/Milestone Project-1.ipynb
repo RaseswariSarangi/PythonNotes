{
 "cells": [
  {
   "cell_type": "markdown",
   "metadata": {},
   "source": [
    "**STEP-01:DISPLAY OF BOARDS**"
   ]
  },
  {
   "cell_type": "code",
   "execution_count": 1,
   "metadata": {
    "scrolled": true
   },
   "outputs": [
    {
     "name": "stdout",
     "output_type": "stream",
     "text": [
      "X|O|X\n",
      "O|X|O\n",
      "X|O|X\n"
     ]
    }
   ],
   "source": [
    "#displaying board\n",
    "#TYPE-1\n",
    "def display(board):\n",
    "    print(board[1]+'|'+board[2]+'|'+board[3])\n",
    "    print(board[4]+'|'+board[5]+'|'+board[6])\n",
    "    print(board[7]+'|'+board[8]+'|'+board[9])\n",
    "test_board=['#','X','O','X','O','X','O','X','O','X']\n",
    "display(test_board)    "
   ]
  },
  {
   "cell_type": "code",
   "execution_count": 2,
   "metadata": {},
   "outputs": [
    {
     "name": "stdout",
     "output_type": "stream",
     "text": [
      "  |   |  \n",
      "  |   |  \n",
      "  |   |  \n",
      "----------\n",
      "  |   |  \n",
      "  |   |  \n",
      "  |   |  \n",
      "----------\n",
      "  |   |  \n",
      "  |   |  \n",
      "  |   |  \n"
     ]
    }
   ],
   "source": [
    "#displaying board\n",
    "#TYPE-2\n",
    "from IPython.display import clear_output \n",
    "def display_board(board):\n",
    "    clear_output()\n",
    "    print(' '+' | '+' '+' | '+' ')\n",
    "    print(board[1]+' | '+board[2]+' | '+board[3])\n",
    "    print(' '+' | '+' '+' | '+' ')\n",
    "    print('----------')\n",
    "    print(' '+' | '+' '+' | '+' ') \n",
    "    print(board[4]+' | '+board[5]+' | '+board[6])\n",
    "    print(' '+' | '+' '+' | '+' ')\n",
    "    print('----------')\n",
    "    print(' '+' | '+' '+' | '+' ') \n",
    "    print(board[7]+' | '+board[8]+' | '+board[9])\n",
    "    print(' '+' | '+' '+' | '+' ') \n",
    "test_board=[' ']*10\n",
    "display_board(test_board)  "
   ]
  },
  {
   "cell_type": "markdown",
   "metadata": {},
   "source": [
    "**STEP-02:MARKING PLAYER'S CHOICE**"
   ]
  },
  {
   "cell_type": "code",
   "execution_count": 3,
   "metadata": {},
   "outputs": [
    {
     "name": "stdout",
     "output_type": "stream",
     "text": [
      "pick X or O:x\n"
     ]
    }
   ],
   "source": [
    "#marking player's choice\n",
    "def player_input():\n",
    "    marker=' '\n",
    "    while marker!='X' and marker!='O':\n",
    "        marker=input('pick X or O:').upper()\n",
    "        player1=marker\n",
    "        if player1=='X':\n",
    "            player2='O'\n",
    "        else:\n",
    "            player2='X'\n",
    "    return (player1,player2)\n",
    "(player1_marker,player2_marker)=player_input()"
   ]
  },
  {
   "cell_type": "code",
   "execution_count": 4,
   "metadata": {},
   "outputs": [
    {
     "data": {
      "text/plain": [
       "'X'"
      ]
     },
     "execution_count": 4,
     "metadata": {},
     "output_type": "execute_result"
    }
   ],
   "source": [
    "player1_marker"
   ]
  },
  {
   "cell_type": "code",
   "execution_count": 5,
   "metadata": {},
   "outputs": [
    {
     "data": {
      "text/plain": [
       "'O'"
      ]
     },
     "execution_count": 5,
     "metadata": {},
     "output_type": "execute_result"
    }
   ],
   "source": [
    "player2_marker"
   ]
  },
  {
   "cell_type": "markdown",
   "metadata": {},
   "source": [
    "**STEP-03:MARKS X OR O ACCORDING TO DESIRED POSITION INPUT**"
   ]
  },
  {
   "cell_type": "code",
   "execution_count": 6,
   "metadata": {},
   "outputs": [
    {
     "name": "stdout",
     "output_type": "stream",
     "text": [
      "  |   |  \n",
      "  |   |  \n",
      "  |   |  \n",
      "----------\n",
      "  |   |  \n",
      "  |   |  \n",
      "  |   |  \n",
      "----------\n",
      "  |   |  \n",
      "X |   |  \n",
      "  |   |  \n"
     ]
    }
   ],
   "source": [
    "#marks player1_marker according to desired position input by user\n",
    "display_board(test_board)\n",
    "def place_marker(board,marker,position):\n",
    "    position\n",
    "    board[position]=marker\n",
    "place_marker(test_board,'X',7)\n",
    "display_board(test_board)"
   ]
  },
  {
   "cell_type": "markdown",
   "metadata": {},
   "source": [
    "**STEP-04:CHECKS IF A MARK HAS WON OR NOT**"
   ]
  },
  {
   "cell_type": "code",
   "execution_count": 7,
   "metadata": {},
   "outputs": [
    {
     "data": {
      "text/plain": [
       "False"
      ]
     },
     "execution_count": 7,
     "metadata": {},
     "output_type": "execute_result"
    }
   ],
   "source": [
    "#checking the win of the mark\n",
    "def win_check(board,mark):\n",
    "    return ((board[1]==board[2]==board[3]==mark) or (board[4]==board[5]==board[6]==mark) or \n",
    "            (board[7]==board[8]==board[9]==mark) or (board[1]==board[4]==board[7]==mark) or \n",
    "            (board[2]==board[5]==board[8]==mark) or (board[3]==board[6]==board[9]==mark) or\n",
    "            (board[1]==board[5]==board[9]==mark) or (board[3]==board[5]==board[7]==mark))\n",
    "win_check(test_board,'X')"
   ]
  },
  {
   "cell_type": "markdown",
   "metadata": {},
   "source": [
    "**STEP-05:RANDOMLY CHOOSING THE PLAYER TO PLAY FIRST**"
   ]
  },
  {
   "cell_type": "code",
   "execution_count": 8,
   "metadata": {},
   "outputs": [
    {
     "data": {
      "text/plain": [
       "'player-2'"
      ]
     },
     "execution_count": 8,
     "metadata": {},
     "output_type": "execute_result"
    }
   ],
   "source": [
    "#randomly choosing player-1 or player-2\n",
    "import random\n",
    "def choose_first():\n",
    "    flip=random.randint(0,1)\n",
    "    if flip==0:\n",
    "        return 'player-1'\n",
    "    else:\n",
    "        return 'player-2'\n",
    "choose_first()"
   ]
  },
  {
   "cell_type": "markdown",
   "metadata": {},
   "source": [
    "**STEP-06:CHECKING SPACE IN BOARD**"
   ]
  },
  {
   "cell_type": "code",
   "execution_count": 9,
   "metadata": {},
   "outputs": [
    {
     "data": {
      "text/plain": [
       "True"
      ]
     },
     "execution_count": 9,
     "metadata": {},
     "output_type": "execute_result"
    }
   ],
   "source": [
    "#checking space left in board\n",
    "def space_check(board,position):\n",
    "    return board[position]==' '\n",
    "space_check(test_board,6)"
   ]
  },
  {
   "cell_type": "markdown",
   "metadata": {},
   "source": [
    "**STEP-07:BOARD IS FULL OR NOT**"
   ]
  },
  {
   "cell_type": "code",
   "execution_count": 10,
   "metadata": {},
   "outputs": [
    {
     "data": {
      "text/plain": [
       "False"
      ]
     },
     "execution_count": 10,
     "metadata": {},
     "output_type": "execute_result"
    }
   ],
   "source": [
    "#to check whether the board is full or not\n",
    "def board_check(board):\n",
    "    for i in range(1,10):\n",
    "        if space_check(board,i):\n",
    "            return False\n",
    "    return True     #if the board is full\n",
    "board_check(test_board)"
   ]
  },
  {
   "cell_type": "markdown",
   "metadata": {},
   "source": [
    "**STEP-08:PLAYER'S CHOICE FOR NEXT POSITION**"
   ]
  },
  {
   "cell_type": "code",
   "execution_count": 11,
   "metadata": {},
   "outputs": [
    {
     "name": "stdout",
     "output_type": "stream",
     "text": [
      "  |   |  \n",
      "  |   |  \n",
      "  |   |  \n",
      "----------\n",
      "  |   |  \n",
      "  |   |  \n",
      "  |   |  \n",
      "----------\n",
      "  |   |  \n",
      "X |   |  \n",
      "  |   |  \n"
     ]
    }
   ],
   "source": [
    "#player's choice for next position\n",
    "def players_choice(board):\n",
    "    position=0\n",
    "    if position not in [1,2,3,4,5,6,7,8,9] or space_check(board,position):\n",
    "        position=int(input('choose a position(1-9):'))\n",
    "    return position\n",
    "players_choice(test_board) \n",
    "display_board(test_board)"
   ]
  },
  {
   "cell_type": "markdown",
   "metadata": {},
   "source": [
    "**STEP-09:PLAY AGAIN CHOICE**"
   ]
  },
  {
   "cell_type": "code",
   "execution_count": 12,
   "metadata": {},
   "outputs": [
    {
     "name": "stdout",
     "output_type": "stream",
     "text": [
      "Play again?? enter yes or no:yes\n"
     ]
    },
    {
     "data": {
      "text/plain": [
       "True"
      ]
     },
     "execution_count": 12,
     "metadata": {},
     "output_type": "execute_result"
    }
   ],
   "source": [
    "def replay():\n",
    "    choice=input('Play again?? enter yes or no:').lower()\n",
    "    return choice=='yes'\n",
    "replay()"
   ]
  },
  {
   "cell_type": "markdown",
   "metadata": {},
   "source": [
    "**STEP-10:COMBINING ALL THE PARTS OF CODE**"
   ]
  },
  {
   "cell_type": "code",
   "execution_count": 13,
   "metadata": {},
   "outputs": [
    {
     "name": "stdout",
     "output_type": "stream",
     "text": [
      "WELCOME TO TIC-TAC-TOE!!\n",
      "pick X or O:x\n",
      "marker of player 1= X\n",
      "marker of player 2= O\n",
      "player-2 will go first.\n",
      "Are you ready to play the game??no\n",
      "Play again?? enter yes or no:no\n"
     ]
    }
   ],
   "source": [
    "#while loop to keep the game running\n",
    "print('WELCOME TO TIC-TAC-TOE!!')\n",
    "while True:\n",
    "    \n",
    "    #setting everything up-(board,players markers,who's first turn)\n",
    "    test_board=[' ']*10\n",
    "    player1_marker,player2_marker=player_input()\n",
    "    print(f'marker of player 1= {player1_marker}')\n",
    "    print(f'marker of player 2= {player2_marker}')\n",
    "    turn=choose_first()\n",
    "    print(turn+' will go first.')\n",
    "    \n",
    "    play_game=input('Are you ready to play the game??')\n",
    "    if play_game.lower()[0]=='y':\n",
    "        game_on=True\n",
    "    else:\n",
    "        game_on=False\n",
    "        \n",
    "    #play game-(player 1 turn ,player 2 turn)\n",
    "    while game_on==True:\n",
    "        if turn=='player-1':\n",
    "        #player 1 turn\n",
    "            \n",
    "            #show the board\n",
    "            display_board(test_board)\n",
    "            #choose a position\n",
    "            position=players_choice(test_board)\n",
    "            #place the marker on the position\n",
    "            place_marker(test_board,player1_marker,position)\n",
    "            #check if they won\n",
    "            if win_check(test_board,player1_marker):\n",
    "                display_board(test_board)\n",
    "                print('Congratulations!! Player-1 has won the game.')\n",
    "                game_on=False\n",
    "            #or check if there is a tie\n",
    "            else:\n",
    "                if board_check(test_board):\n",
    "                    display_board(test_board)\n",
    "                    print('The game is draw.')\n",
    "                    break\n",
    "                #no tie or no win, then next player's turn\n",
    "                else:\n",
    "                    turn='player-2'\n",
    "            \n",
    "            \n",
    "        else:\n",
    "        #player 2 turn\n",
    "        \n",
    "            #show the board\n",
    "            display_board(test_board)\n",
    "            #choose a position\n",
    "            position=players_choice(test_board)\n",
    "            #place the marker on the position\n",
    "            place_marker(test_board,player2_marker,position)\n",
    "            #check if they won\n",
    "            if win_check(test_board,player2_marker):\n",
    "                display_board(test_board)\n",
    "                print('Congratulations!! Player-2 has won the game.')\n",
    "                game_on=False\n",
    "            #or check if there is a tie\n",
    "            else:\n",
    "                if board_check(test_board):\n",
    "                    display_board(test_board)\n",
    "                    print('The game is draw.')\n",
    "                    break\n",
    "                #no tie or no win, then next player's turn\n",
    "                else:\n",
    "                    turn='player-1'\n",
    "#break out of while on replay()\n",
    "    if not replay():\n",
    "        break"
   ]
  },
  {
   "cell_type": "code",
   "execution_count": null,
   "metadata": {},
   "outputs": [],
   "source": []
  },
  {
   "cell_type": "code",
   "execution_count": null,
   "metadata": {},
   "outputs": [],
   "source": []
  },
  {
   "cell_type": "code",
   "execution_count": null,
   "metadata": {},
   "outputs": [],
   "source": []
  },
  {
   "cell_type": "code",
   "execution_count": null,
   "metadata": {},
   "outputs": [],
   "source": []
  },
  {
   "cell_type": "code",
   "execution_count": null,
   "metadata": {},
   "outputs": [],
   "source": []
  },
  {
   "cell_type": "code",
   "execution_count": null,
   "metadata": {},
   "outputs": [],
   "source": []
  },
  {
   "cell_type": "code",
   "execution_count": null,
   "metadata": {},
   "outputs": [],
   "source": []
  },
  {
   "cell_type": "code",
   "execution_count": null,
   "metadata": {},
   "outputs": [],
   "source": []
  },
  {
   "cell_type": "code",
   "execution_count": null,
   "metadata": {},
   "outputs": [],
   "source": []
  },
  {
   "cell_type": "code",
   "execution_count": null,
   "metadata": {},
   "outputs": [],
   "source": []
  },
  {
   "cell_type": "code",
   "execution_count": 4,
   "metadata": {},
   "outputs": [
    {
     "name": "stdout",
     "output_type": "stream",
     "text": [
      ">>raseswari\n"
     ]
    },
    {
     "data": {
      "text/plain": [
       "'RaSeSwArI'"
      ]
     },
     "execution_count": 4,
     "metadata": {},
     "output_type": "execute_result"
    }
   ],
   "source": [
    "def myfunc(string):\n",
    "    y=list(string)\n",
    "    x=[]\n",
    "    for index in range(len(y)):\n",
    "        if index%2==0:\n",
    "            x.append(y[index].upper())\n",
    "        else:\n",
    "            x.append(y[index].lower())\n",
    "    return ''.join(x)\n",
    "string=input('>>')\n",
    "myfunc(string)"
   ]
  },
  {
   "cell_type": "code",
   "execution_count": 20,
   "metadata": {},
   "outputs": [
    {
     "data": {
      "text/plain": [
       "[2, 4, 6]"
      ]
     },
     "execution_count": 20,
     "metadata": {},
     "output_type": "execute_result"
    }
   ],
   "source": [
    "def is_even(my_nums):\n",
    "    l=[]\n",
    "    for num in my_nums:\n",
    "        if num%2==0:\n",
    "            l.append(num)\n",
    "    return l\n",
    "my_nums=[1,2,3,4,5,6]\n",
    "is_even(my_nums)"
   ]
  },
  {
   "cell_type": "code",
   "execution_count": 39,
   "metadata": {},
   "outputs": [
    {
     "name": "stdout",
     "output_type": "stream",
     "text": [
      "how many nums do you want to enter:4\n",
      ">>1\n",
      ">>2\n",
      ">>3\n",
      ">>4\n"
     ]
    },
    {
     "data": {
      "text/plain": [
       "[2, 4]"
      ]
     },
     "execution_count": 39,
     "metadata": {},
     "output_type": "execute_result"
    }
   ],
   "source": [
    "def is_even():\n",
    "    list1=[]\n",
    "    count=1\n",
    "    guess_limit=int(input('how many nums do you want to enter:'))\n",
    "    while count<=guess_limit:\n",
    "        num=int(input('>>'))\n",
    "        if num%2==0:\n",
    "            list1.append(num)\n",
    "        count+=1\n",
    "    return list1\n",
    "is_even()"
   ]
  },
  {
   "cell_type": "code",
   "execution_count": 29,
   "metadata": {},
   "outputs": [
    {
     "name": "stdout",
     "output_type": "stream",
     "text": [
      ">>6\n"
     ]
    },
    {
     "data": {
      "text/plain": [
       "508.68"
      ]
     },
     "execution_count": 29,
     "metadata": {},
     "output_type": "execute_result"
    }
   ],
   "source": [
    "'''Write a function that computes the volume of a sphere given its radius.'''\n",
    "def volume(radius):\n",
    "    pi=3.14\n",
    "    return (3/4)*pi*(radius**3)\n",
    "volume(int(input('>>')))"
   ]
  },
  {
   "cell_type": "code",
   "execution_count": 33,
   "metadata": {},
   "outputs": [
    {
     "name": "stdout",
     "output_type": "stream",
     "text": [
      "num>>45\n",
      "low>>12\n",
      "high>>31\n"
     ]
    },
    {
     "data": {
      "text/plain": [
       "False"
      ]
     },
     "execution_count": 33,
     "metadata": {},
     "output_type": "execute_result"
    }
   ],
   "source": [
    "'''Write a function that checks whether a number is in a given range (inclusive of high and low)'''\n",
    "def up_low(num,low,high):\n",
    "    if low<num<high:\n",
    "        return True\n",
    "    return False\n",
    "up_low(int(input('num>>')),int(input('low>>')),int(input('high>>')))"
   ]
  },
  {
   "cell_type": "code",
   "execution_count": 52,
   "metadata": {},
   "outputs": [
    {
     "name": "stdout",
     "output_type": "stream",
     "text": [
      ">>Hello Mr. Rogers, how are you this fine Tuesday?\n",
      "No. of Upper case characters :4\n",
      "No. of Lower case Characters :33\n"
     ]
    }
   ],
   "source": [
    "'''Write a Python function that accepts a string and calculates the number of upper case letters and lower case letters.'''\n",
    "'''Sample String : Hello Mr. Rogers, how are you this fine Tuesday?\n",
    "Expected Output : \n",
    "No. of Upper case characters : 4\n",
    "No. of Lower case Characters : 33'''\n",
    "def upper_lower(string):\n",
    "    y=list(string)\n",
    "    uppercase=[]\n",
    "    lowercase=[]\n",
    "    for char in y:\n",
    "        if char.isupper():\n",
    "            uppercase.append(char)\n",
    "        elif char.islower():\n",
    "            lowercase.append(char)\n",
    "    print(f'No. of Upper case characters :{len(uppercase)}')\n",
    "    print(f'No. of Lower case Characters :{len(lowercase)}')\n",
    "string=input('>>')\n",
    "upper_lower(string)    "
   ]
  },
  {
   "cell_type": "code",
   "execution_count": 34,
   "metadata": {},
   "outputs": [
    {
     "name": "stdout",
     "output_type": "stream",
     "text": [
      "how many nums do you want? 5\n",
      ">>1\n",
      ">>1\n",
      ">>3\n",
      ">>2\n",
      ">>3\n"
     ]
    },
    {
     "data": {
      "text/plain": [
       "[1, 2, 3]"
      ]
     },
     "execution_count": 34,
     "metadata": {},
     "output_type": "execute_result"
    }
   ],
   "source": [
    "'''Write a Python function that takes a list and returns a new list with unique elements of the first list.\n",
    "\n",
    "Sample List : [1,1,1,1,2,2,3,3,3,3,4,5]\n",
    "Unique List : [1, 2, 3, 4, 5]'''\n",
    "def unique_list():\n",
    "    list1=[]\n",
    "    num_limit=int(input('how many nums do you want? '))\n",
    "    count=1\n",
    "    while count<=num_limit:\n",
    "        num=int(input('>>'))\n",
    "        list1.append(num)\n",
    "        count+=1\n",
    "    return list(set(list1))\n",
    "unique_list()"
   ]
  },
  {
   "cell_type": "code",
   "execution_count": 16,
   "metadata": {},
   "outputs": [
    {
     "name": "stdout",
     "output_type": "stream",
     "text": [
      "how many numbers do you want to enter:4\n",
      "enter num>>1\n",
      "enter num>>2\n",
      "enter num>>3\n",
      "enter num>>-4\n"
     ]
    },
    {
     "data": {
      "text/plain": [
       "-24"
      ]
     },
     "execution_count": 16,
     "metadata": {},
     "output_type": "execute_result"
    }
   ],
   "source": [
    "'''Write a Python function to multiply all the numbers in a list.'''\n",
    "''' Sample List : [1, 2, 3, -4]\n",
    "    Expected Output : -24'''\n",
    "def find_product():\n",
    "    limit=int(input('how many numbers do you want to enter:'))\n",
    "    product=1\n",
    "    count=1\n",
    "    while count<=limit:\n",
    "        num=int(input('enter num>>'))\n",
    "        product*=num\n",
    "        count+=1\n",
    "    return product\n",
    "find_product()"
   ]
  },
  {
   "cell_type": "code",
   "execution_count": 3,
   "metadata": {},
   "outputs": [
    {
     "name": "stdout",
     "output_type": "stream",
     "text": [
      ">>raseswari\n"
     ]
    },
    {
     "data": {
      "text/plain": [
       "False"
      ]
     },
     "execution_count": 3,
     "metadata": {},
     "output_type": "execute_result"
    }
   ],
   "source": [
    "'''check whether a string is palindrome or not'''\n",
    "def ispal(string):\n",
    "    y=string.replace(' ','')\n",
    "    if y==y[::-1]:\n",
    "        return True\n",
    "    return False\n",
    "string=input('>>')\n",
    "ispal(string)"
   ]
  },
  {
   "cell_type": "code",
   "execution_count": 12,
   "metadata": {},
   "outputs": [
    {
     "name": "stdout",
     "output_type": "stream",
     "text": [
      ">>raseswari is a girl\n"
     ]
    },
    {
     "data": {
      "text/plain": [
       "False"
      ]
     },
     "execution_count": 12,
     "metadata": {},
     "output_type": "execute_result"
    }
   ],
   "source": [
    "'''find out whether a string is pangram or not'''\n",
    "def ispangram(string):\n",
    "    alphabet='abcdefghijklmnopqrstuvwxyz'\n",
    "    x=string.replace(' ','')\n",
    "    y=x.lower()\n",
    "    z=list(y)\n",
    "    if set(sorted(z))==set(sorted(list(alphabet))):\n",
    "        return True\n",
    "    return False\n",
    "string=input('>>').lower()\n",
    "ispangram(string)"
   ]
  },
  {
   "cell_type": "code",
   "execution_count": null,
   "metadata": {},
   "outputs": [],
   "source": []
  }
 ],
 "metadata": {
  "kernelspec": {
   "display_name": "Python 3",
   "language": "python",
   "name": "python3"
  },
  "language_info": {
   "codemirror_mode": {
    "name": "ipython",
    "version": 3
   },
   "file_extension": ".py",
   "mimetype": "text/x-python",
   "name": "python",
   "nbconvert_exporter": "python",
   "pygments_lexer": "ipython3",
   "version": "3.8.5"
  }
 },
 "nbformat": 4,
 "nbformat_minor": 4
}
