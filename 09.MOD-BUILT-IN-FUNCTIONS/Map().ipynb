{
 "cells": [
  {
   "cell_type": "code",
   "execution_count": 3,
   "metadata": {},
   "outputs": [
    {
     "data": {
      "text/plain": [
       "[32.0, 72.5, 104.0, 212.0]"
      ]
     },
     "execution_count": 3,
     "metadata": {},
     "output_type": "execute_result"
    }
   ],
   "source": [
    "#normal process of iteration\n",
    "temps=[0, 22.5, 40, 100]\n",
    "new_temp=[]\n",
    "def fahrenheit():\n",
    "    for celcius in temps:\n",
    "        temp=(9/5)*celcius+32\n",
    "        new_temp.append(temp)\n",
    "    return new_temp\n",
    "fahrenheit()"
   ]
  },
  {
   "cell_type": "code",
   "execution_count": 11,
   "metadata": {},
   "outputs": [],
   "source": [
    "#by using map built-in func\n",
    "'''map() is a built-in Python function that takes in two or more arguments: \n",
    "a function and one or more iterables, in the form:\n",
    "map(function, iterable, ...)'''\n",
    "\n",
    "temps=[0,22.5,40,100]\n",
    "def fahrenheit(celcius):\n",
    "    return (9/5)*celcius+32"
   ]
  },
  {
   "cell_type": "code",
   "execution_count": 12,
   "metadata": {},
   "outputs": [],
   "source": [
    "f_temps=map(fahrenheit,temps)"
   ]
  },
  {
   "cell_type": "code",
   "execution_count": 13,
   "metadata": {},
   "outputs": [
    {
     "data": {
      "text/plain": [
       "[32.0, 72.5, 104.0, 212.0]"
      ]
     },
     "execution_count": 13,
     "metadata": {},
     "output_type": "execute_result"
    }
   ],
   "source": [
    "list(f_temps)"
   ]
  },
  {
   "cell_type": "code",
   "execution_count": 14,
   "metadata": {},
   "outputs": [],
   "source": [
    "#gives the same result with less lines of code so more efficient way"
   ]
  },
  {
   "cell_type": "code",
   "execution_count": 15,
   "metadata": {},
   "outputs": [
    {
     "data": {
      "text/plain": [
       "[32.0, 72.5, 104.0, 212.0]"
      ]
     },
     "execution_count": 15,
     "metadata": {},
     "output_type": "execute_result"
    }
   ],
   "source": [
    "#we can also use lambda to write less code and get same ans\n",
    "temp=[0,22.5,40,100]\n",
    "list(map(lambda x:(9/5)*x+32,temps))"
   ]
  },
  {
   "cell_type": "markdown",
   "metadata": {},
   "source": [
    "**map() with multiple interables**\n",
    "\n",
    "map() can accept more than one iterable. The iterables should be the same length - \n",
    "in the event that they are not, map() will stop as soon as the shortest iterable is exhausted.\n",
    "\n",
    "For instance, if our function is trying to add two values x and y, we can pass a list of x values and \n",
    "another list of y values to map(). The function (or lambda) will be fed the 0th index from each list, \n",
    "and then the 1st index, and so on until the n-th index is reached.\n",
    "\n",
    "Let's see this in action with two and then three lists:"
   ]
  },
  {
   "cell_type": "code",
   "execution_count": 7,
   "metadata": {},
   "outputs": [
    {
     "data": {
      "text/plain": [
       "[6, 8, 10, 12]"
      ]
     },
     "execution_count": 7,
     "metadata": {},
     "output_type": "execute_result"
    }
   ],
   "source": [
    "'''We can see in the example above that the parameter x gets its values from the list a,\n",
    "while y gets its values from b and z from list c'''\n",
    "#example-1\n",
    "a = [1,2,3,4]\n",
    "b = [5,6,7,8]\n",
    "c = [9,10,11,12]\n",
    "list(map(lambda x,y:x+y,a,b))"
   ]
  },
  {
   "cell_type": "code",
   "execution_count": 8,
   "metadata": {},
   "outputs": [
    {
     "data": {
      "text/plain": [
       "[15, 18, 21, 24]"
      ]
     },
     "execution_count": 8,
     "metadata": {},
     "output_type": "execute_result"
    }
   ],
   "source": [
    "#example-2\n",
    "a = [1,2,3,4]\n",
    "b = [5,6,7,8]\n",
    "c = [9,10,11,12]\n",
    "list(map(lambda x,y,z:x+y+z,a,b,c))"
   ]
  },
  {
   "cell_type": "code",
   "execution_count": null,
   "metadata": {},
   "outputs": [],
   "source": []
  }
 ],
 "metadata": {
  "kernelspec": {
   "display_name": "Python 3",
   "language": "python",
   "name": "python3"
  },
  "language_info": {
   "codemirror_mode": {
    "name": "ipython",
    "version": 3
   },
   "file_extension": ".py",
   "mimetype": "text/x-python",
   "name": "python",
   "nbconvert_exporter": "python",
   "pygments_lexer": "ipython3",
   "version": "3.8.5"
  }
 },
 "nbformat": 4,
 "nbformat_minor": 4
}
