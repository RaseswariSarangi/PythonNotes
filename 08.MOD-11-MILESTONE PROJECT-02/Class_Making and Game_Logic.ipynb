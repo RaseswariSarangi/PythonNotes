{
 "cells": [
  {
   "cell_type": "markdown",
   "metadata": {},
   "source": [
    "# CARD CLASS:"
   ]
  },
  {
   "cell_type": "code",
   "execution_count": 1,
   "metadata": {},
   "outputs": [],
   "source": [
    "#CREATING A CARD CLASS\n",
    "#CHECKING-SUIT,RANK,VALUE"
   ]
  },
  {
   "cell_type": "code",
   "execution_count": 2,
   "metadata": {},
   "outputs": [],
   "source": [
    "#CARD CLASS\n",
    "class Card():\n",
    "    def __init__(self,suit,rank):\n",
    "        self.suit=suit\n",
    "        self.rank=rank\n",
    "    def __str__(self):\n",
    "        return self.rank+' of '+self.suit"
   ]
  },
  {
   "cell_type": "code",
   "execution_count": 3,
   "metadata": {},
   "outputs": [],
   "source": [
    "two_hearts=Card('Hearts','two')"
   ]
  },
  {
   "cell_type": "code",
   "execution_count": 4,
   "metadata": {},
   "outputs": [
    {
     "data": {
      "text/plain": [
       "'two'"
      ]
     },
     "execution_count": 4,
     "metadata": {},
     "output_type": "execute_result"
    }
   ],
   "source": [
    "two_hearts.rank"
   ]
  },
  {
   "cell_type": "code",
   "execution_count": 5,
   "metadata": {},
   "outputs": [
    {
     "data": {
      "text/plain": [
       "'Hearts'"
      ]
     },
     "execution_count": 5,
     "metadata": {},
     "output_type": "execute_result"
    }
   ],
   "source": [
    "two_hearts.suit"
   ]
  },
  {
   "cell_type": "code",
   "execution_count": 6,
   "metadata": {},
   "outputs": [
    {
     "name": "stdout",
     "output_type": "stream",
     "text": [
      "two of Hearts\n"
     ]
    }
   ],
   "source": [
    "print(two_hearts)"
   ]
  },
  {
   "cell_type": "code",
   "execution_count": 7,
   "metadata": {},
   "outputs": [],
   "source": [
    "#DEFINED AT GLOBAL LEVEL\n",
    "values={'two':2,'three':3,'four':4,'five':5,'six':6,'seven':7,'eight':8,'nine':9,'ten':10,'jack':10,'queen':11,'king':12,\n",
    "          'ace':14}"
   ]
  },
  {
   "cell_type": "code",
   "execution_count": 8,
   "metadata": {},
   "outputs": [
    {
     "data": {
      "text/plain": [
       "2"
      ]
     },
     "execution_count": 8,
     "metadata": {},
     "output_type": "execute_result"
    }
   ],
   "source": [
    "values[two_hearts.rank]"
   ]
  },
  {
   "cell_type": "markdown",
   "metadata": {},
   "source": [
    "**PUTTING THE VALUES AT GLOBAL LEVEL AND USING IT IN THE CLASS**"
   ]
  },
  {
   "cell_type": "code",
   "execution_count": 9,
   "metadata": {},
   "outputs": [],
   "source": [
    "import random\n",
    "suits=('Hearts','Diamond','Spades','Clubs')\n",
    "ranks=('two','three','four','five','six','seven','eight','nine','ten','jack','queen','king','ace')\n",
    "values={'two':2,'three':3,'four':4,'five':5,'six':6,'seven':7,'eight':8,'nine':9,'ten':10,'jack':10,'queen':11,'king':12,\n",
    "          'ace':14}"
   ]
  },
  {
   "cell_type": "code",
   "execution_count": 10,
   "metadata": {},
   "outputs": [],
   "source": [
    "class Cards():\n",
    "    def __init__(self,suit,rank):\n",
    "        self.suit=suit\n",
    "        self.rank=rank\n",
    "        self.value=values[rank]\n",
    "    def __str__(self):\n",
    "        return self.rank+\" of \"+self.suit"
   ]
  },
  {
   "cell_type": "code",
   "execution_count": 11,
   "metadata": {},
   "outputs": [],
   "source": [
    "three_hearts=Cards('Hearts','three')"
   ]
  },
  {
   "cell_type": "code",
   "execution_count": 12,
   "metadata": {},
   "outputs": [
    {
     "name": "stdout",
     "output_type": "stream",
     "text": [
      "three of Hearts\n"
     ]
    }
   ],
   "source": [
    "print(three_hearts)"
   ]
  },
  {
   "cell_type": "code",
   "execution_count": 13,
   "metadata": {},
   "outputs": [
    {
     "data": {
      "text/plain": [
       "__main__.Cards"
      ]
     },
     "execution_count": 13,
     "metadata": {},
     "output_type": "execute_result"
    }
   ],
   "source": [
    "type(three_hearts)"
   ]
  },
  {
   "cell_type": "code",
   "execution_count": 14,
   "metadata": {},
   "outputs": [
    {
     "data": {
      "text/plain": [
       "3"
      ]
     },
     "execution_count": 14,
     "metadata": {},
     "output_type": "execute_result"
    }
   ],
   "source": [
    "three_hearts.value"
   ]
  },
  {
   "cell_type": "code",
   "execution_count": 15,
   "metadata": {},
   "outputs": [],
   "source": [
    "two_clubs=Cards('Clubs','two')"
   ]
  },
  {
   "cell_type": "code",
   "execution_count": 16,
   "metadata": {},
   "outputs": [
    {
     "name": "stdout",
     "output_type": "stream",
     "text": [
      "two of Clubs\n"
     ]
    }
   ],
   "source": [
    "print(two_clubs)"
   ]
  },
  {
   "cell_type": "code",
   "execution_count": 17,
   "metadata": {},
   "outputs": [
    {
     "data": {
      "text/plain": [
       "2"
      ]
     },
     "execution_count": 17,
     "metadata": {},
     "output_type": "execute_result"
    }
   ],
   "source": [
    "two_clubs.value"
   ]
  },
  {
   "cell_type": "code",
   "execution_count": 18,
   "metadata": {},
   "outputs": [
    {
     "data": {
      "text/plain": [
       "False"
      ]
     },
     "execution_count": 18,
     "metadata": {},
     "output_type": "execute_result"
    }
   ],
   "source": [
    "two_clubs.value>three_hearts.value"
   ]
  },
  {
   "cell_type": "markdown",
   "metadata": {},
   "source": [
    "# DECK CLASS:"
   ]
  },
  {
   "cell_type": "code",
   "execution_count": 19,
   "metadata": {},
   "outputs": [],
   "source": [
    "#INFO ABOUT SUIT,RANK AND VALUE IS ESSENTIAL\n",
    "#THEN WE WILL USE THE CARD CLASS IN DECK CLASS"
   ]
  },
  {
   "cell_type": "code",
   "execution_count": 20,
   "metadata": {},
   "outputs": [],
   "source": [
    "#CREATING A DECK CLASS\n",
    "class Deck():\n",
    "    def __init__(self):\n",
    "        self.all_cards=[]\n",
    "        for suit in suits:\n",
    "            for rank in ranks:\n",
    "                created_card=Cards(suit,rank)\n",
    "                self.all_cards.append(created_card)"
   ]
  },
  {
   "cell_type": "code",
   "execution_count": 21,
   "metadata": {},
   "outputs": [],
   "source": [
    "new_deck=Deck()"
   ]
  },
  {
   "cell_type": "code",
   "execution_count": 22,
   "metadata": {},
   "outputs": [
    {
     "data": {
      "text/plain": [
       "[<__main__.Cards at 0x21ea7ff7250>,\n",
       " <__main__.Cards at 0x21ea7ff72b0>,\n",
       " <__main__.Cards at 0x21ea7ff7310>,\n",
       " <__main__.Cards at 0x21ea7ff70a0>,\n",
       " <__main__.Cards at 0x21ea7ff73a0>,\n",
       " <__main__.Cards at 0x21ea7ff7430>,\n",
       " <__main__.Cards at 0x21ea7ff7490>,\n",
       " <__main__.Cards at 0x21ea7ff74c0>,\n",
       " <__main__.Cards at 0x21ea7ff7580>,\n",
       " <__main__.Cards at 0x21ea7ff75b0>,\n",
       " <__main__.Cards at 0x21ea7ff7640>,\n",
       " <__main__.Cards at 0x21ea7ff7670>,\n",
       " <__main__.Cards at 0x21ea7ff76d0>,\n",
       " <__main__.Cards at 0x21ea7ff7730>,\n",
       " <__main__.Cards at 0x21ea7ff7790>,\n",
       " <__main__.Cards at 0x21ea7ff77f0>,\n",
       " <__main__.Cards at 0x21ea7ff7850>,\n",
       " <__main__.Cards at 0x21ea7ff78b0>,\n",
       " <__main__.Cards at 0x21ea7ff7910>,\n",
       " <__main__.Cards at 0x21ea7ff7970>,\n",
       " <__main__.Cards at 0x21ea7ff79d0>,\n",
       " <__main__.Cards at 0x21ea7ff7a30>,\n",
       " <__main__.Cards at 0x21ea7ff7a90>,\n",
       " <__main__.Cards at 0x21ea7ff7af0>,\n",
       " <__main__.Cards at 0x21ea7ff7b50>,\n",
       " <__main__.Cards at 0x21ea7ff7bb0>,\n",
       " <__main__.Cards at 0x21ea7ff7c10>,\n",
       " <__main__.Cards at 0x21ea7ff7c70>,\n",
       " <__main__.Cards at 0x21ea7ff7cd0>,\n",
       " <__main__.Cards at 0x21ea7ff7d30>,\n",
       " <__main__.Cards at 0x21ea7ff7d90>,\n",
       " <__main__.Cards at 0x21ea7ff7df0>,\n",
       " <__main__.Cards at 0x21ea7ff7e50>,\n",
       " <__main__.Cards at 0x21ea7ff7eb0>,\n",
       " <__main__.Cards at 0x21ea7ff7f10>,\n",
       " <__main__.Cards at 0x21ea7ff7f70>,\n",
       " <__main__.Cards at 0x21ea7ff7fd0>,\n",
       " <__main__.Cards at 0x21ea7ff8070>,\n",
       " <__main__.Cards at 0x21ea7ff80d0>,\n",
       " <__main__.Cards at 0x21ea7ff8130>,\n",
       " <__main__.Cards at 0x21ea7ff8190>,\n",
       " <__main__.Cards at 0x21ea7ff81f0>,\n",
       " <__main__.Cards at 0x21ea7ff8250>,\n",
       " <__main__.Cards at 0x21ea7ff82b0>,\n",
       " <__main__.Cards at 0x21ea7ff8310>,\n",
       " <__main__.Cards at 0x21ea7ff8370>,\n",
       " <__main__.Cards at 0x21ea7ff83d0>,\n",
       " <__main__.Cards at 0x21ea7ff8430>,\n",
       " <__main__.Cards at 0x21ea7ff8490>,\n",
       " <__main__.Cards at 0x21ea7ff84f0>,\n",
       " <__main__.Cards at 0x21ea7ff8550>,\n",
       " <__main__.Cards at 0x21ea7ff85b0>]"
      ]
     },
     "execution_count": 22,
     "metadata": {},
     "output_type": "execute_result"
    }
   ],
   "source": [
    "new_deck.all_cards"
   ]
  },
  {
   "cell_type": "code",
   "execution_count": 23,
   "metadata": {},
   "outputs": [
    {
     "data": {
      "text/plain": [
       "52"
      ]
     },
     "execution_count": 23,
     "metadata": {},
     "output_type": "execute_result"
    }
   ],
   "source": [
    "len(new_deck.all_cards)"
   ]
  },
  {
   "cell_type": "code",
   "execution_count": 24,
   "metadata": {},
   "outputs": [],
   "source": [
    "first_card=new_deck.all_cards[0]"
   ]
  },
  {
   "cell_type": "code",
   "execution_count": 25,
   "metadata": {},
   "outputs": [
    {
     "name": "stdout",
     "output_type": "stream",
     "text": [
      "two of Hearts\n"
     ]
    }
   ],
   "source": [
    "print(first_card)"
   ]
  },
  {
   "cell_type": "code",
   "execution_count": 26,
   "metadata": {},
   "outputs": [],
   "source": [
    "bottom_card=new_deck.all_cards[-1]"
   ]
  },
  {
   "cell_type": "code",
   "execution_count": 27,
   "metadata": {},
   "outputs": [
    {
     "name": "stdout",
     "output_type": "stream",
     "text": [
      "ace of Clubs\n"
     ]
    }
   ],
   "source": [
    "print(bottom_card)"
   ]
  },
  {
   "cell_type": "code",
   "execution_count": 28,
   "metadata": {},
   "outputs": [],
   "source": [
    "#FOR SHUFFLING A LIST\n",
    "myList=[1,2,3,4,5]\n",
    "random.shuffle(myList)"
   ]
  },
  {
   "cell_type": "code",
   "execution_count": 29,
   "metadata": {},
   "outputs": [
    {
     "data": {
      "text/plain": [
       "[4, 2, 1, 5, 3]"
      ]
     },
     "execution_count": 29,
     "metadata": {},
     "output_type": "execute_result"
    }
   ],
   "source": [
    "myList"
   ]
  },
  {
   "cell_type": "code",
   "execution_count": 30,
   "metadata": {},
   "outputs": [],
   "source": [
    "#CLONING DECK CLASS AND ADDING SHUFFLE METHOD:\n",
    "class Deck():\n",
    "    def __init__(self):\n",
    "        self.all_cards=[]\n",
    "        for suit in suits:\n",
    "            for rank in ranks:\n",
    "                created_card=Cards(suit,rank)\n",
    "                self.all_cards.append(created_card)\n",
    "    \n",
    "    def shuffle(self):\n",
    "        random.shuffle(self.all_cards)"
   ]
  },
  {
   "cell_type": "code",
   "execution_count": 31,
   "metadata": {},
   "outputs": [],
   "source": [
    "new_deck=Deck()"
   ]
  },
  {
   "cell_type": "code",
   "execution_count": 32,
   "metadata": {
    "scrolled": true
   },
   "outputs": [
    {
     "data": {
      "text/plain": [
       "52"
      ]
     },
     "execution_count": 32,
     "metadata": {},
     "output_type": "execute_result"
    }
   ],
   "source": [
    "len(new_deck.all_cards)"
   ]
  },
  {
   "cell_type": "code",
   "execution_count": 33,
   "metadata": {},
   "outputs": [
    {
     "data": {
      "text/plain": [
       "<__main__.Cards at 0x21ea7ff89a0>"
      ]
     },
     "execution_count": 33,
     "metadata": {},
     "output_type": "execute_result"
    }
   ],
   "source": [
    "new_deck.all_cards[-1]"
   ]
  },
  {
   "cell_type": "code",
   "execution_count": 34,
   "metadata": {},
   "outputs": [
    {
     "name": "stdout",
     "output_type": "stream",
     "text": [
      "ace of Clubs\n"
     ]
    }
   ],
   "source": [
    "print(new_deck.all_cards[-1])"
   ]
  },
  {
   "cell_type": "markdown",
   "metadata": {},
   "source": [
    "**As it is still giving the same result so shuffled method is not applied.**"
   ]
  },
  {
   "cell_type": "code",
   "execution_count": 35,
   "metadata": {},
   "outputs": [],
   "source": [
    "new_deck.shuffle()"
   ]
  },
  {
   "cell_type": "code",
   "execution_count": 36,
   "metadata": {},
   "outputs": [
    {
     "name": "stdout",
     "output_type": "stream",
     "text": [
      "jack of Clubs\n"
     ]
    }
   ],
   "source": [
    "print(new_deck.all_cards[-1])"
   ]
  },
  {
   "cell_type": "code",
   "execution_count": 37,
   "metadata": {},
   "outputs": [
    {
     "name": "stdout",
     "output_type": "stream",
     "text": [
      "king of Spades\n"
     ]
    }
   ],
   "source": [
    "print(new_deck.all_cards[0])"
   ]
  },
  {
   "cell_type": "code",
   "execution_count": 38,
   "metadata": {},
   "outputs": [],
   "source": [
    "#SHUFFLING OF CARDS AND DEALING WITH THEM\n",
    "class Deck():\n",
    "    def __init__(self):\n",
    "        self.all_cards=[]\n",
    "        for suit in suits:\n",
    "            for rank in ranks:\n",
    "                created_card=Cards(suit,rank)\n",
    "                self.all_cards.append(created_card)\n",
    "    \n",
    "    def shuffle(self):\n",
    "        # Note this doesn't return anything or returns NoneType\n",
    "        random.shuffle(self.all_cards)\n",
    "    def deal_one(self):\n",
    "        # Note we remove one card from the list of all_cards\n",
    "        return self.all_cards.pop()"
   ]
  },
  {
   "cell_type": "code",
   "execution_count": 39,
   "metadata": {},
   "outputs": [],
   "source": [
    "new_deck=Deck()"
   ]
  },
  {
   "cell_type": "code",
   "execution_count": 40,
   "metadata": {},
   "outputs": [
    {
     "data": {
      "text/plain": [
       "<__main__.Cards at 0x21ea800b460>"
      ]
     },
     "execution_count": 40,
     "metadata": {},
     "output_type": "execute_result"
    }
   ],
   "source": [
    "new_deck.all_cards[1]"
   ]
  },
  {
   "cell_type": "code",
   "execution_count": 41,
   "metadata": {},
   "outputs": [
    {
     "name": "stdout",
     "output_type": "stream",
     "text": [
      "two of Hearts\n"
     ]
    }
   ],
   "source": [
    "print(new_deck.all_cards[0])"
   ]
  },
  {
   "cell_type": "code",
   "execution_count": 42,
   "metadata": {},
   "outputs": [],
   "source": [
    "new_deck.shuffle()"
   ]
  },
  {
   "cell_type": "code",
   "execution_count": 43,
   "metadata": {},
   "outputs": [],
   "source": [
    "shuffled_card=new_deck.all_cards[0]"
   ]
  },
  {
   "cell_type": "code",
   "execution_count": 44,
   "metadata": {},
   "outputs": [
    {
     "name": "stdout",
     "output_type": "stream",
     "text": [
      "nine of Diamond\n"
     ]
    }
   ],
   "source": [
    "print(shuffled_card)"
   ]
  },
  {
   "cell_type": "code",
   "execution_count": 45,
   "metadata": {},
   "outputs": [
    {
     "name": "stdout",
     "output_type": "stream",
     "text": [
      "four of Hearts\n"
     ]
    }
   ],
   "source": [
    "print(new_deck.deal_one())"
   ]
  },
  {
   "cell_type": "code",
   "execution_count": 46,
   "metadata": {},
   "outputs": [
    {
     "data": {
      "text/plain": [
       "51"
      ]
     },
     "execution_count": 46,
     "metadata": {},
     "output_type": "execute_result"
    }
   ],
   "source": [
    "len(new_deck.all_cards)"
   ]
  },
  {
   "cell_type": "markdown",
   "metadata": {},
   "source": [
    "# Player's Class:"
   ]
  },
  {
   "cell_type": "code",
   "execution_count": 47,
   "metadata": {},
   "outputs": [],
   "source": [
    "#CREATING PLAYER CLASS TO BE CONTROLLED BY PLAYER\n",
    "#FOR ADDITION ON MULTIPLE OR SINGLE CARDS\n",
    "#FOR REMOVAL OF TOP CARD WHILE PLAYING\n",
    "class Player():\n",
    "    def __init__(self,name):\n",
    "        self.name=name\n",
    "        self.all_cards=[]\n",
    "    def remove_one(self):\n",
    "        return self.all_cards.pop(0)\n",
    "    def add_cards(self,new_cards):\n",
    "        if type(new_cards)==type([]):\n",
    "            #LIST OF MULTIPLE CARD OBJECTS\n",
    "            self.all_cards.extend(new_cards)\n",
    "        else:\n",
    "            #LIST OF SINGLE CARD OBJECT\n",
    "            self.all_cards.append(new_cards)\n",
    "    def __str__(self):\n",
    "        return f'Player {self.name} has {len(self.all_cards)} cards.'"
   ]
  },
  {
   "cell_type": "code",
   "execution_count": 48,
   "metadata": {},
   "outputs": [],
   "source": [
    "new_player=Player('Jose')"
   ]
  },
  {
   "cell_type": "code",
   "execution_count": 49,
   "metadata": {},
   "outputs": [
    {
     "data": {
      "text/plain": [
       "'Jose'"
      ]
     },
     "execution_count": 49,
     "metadata": {},
     "output_type": "execute_result"
    }
   ],
   "source": [
    "new_player.name"
   ]
  },
  {
   "cell_type": "code",
   "execution_count": 50,
   "metadata": {},
   "outputs": [
    {
     "name": "stdout",
     "output_type": "stream",
     "text": [
      "Player Jose has 0 cards.\n"
     ]
    }
   ],
   "source": [
    "print(new_player)"
   ]
  },
  {
   "cell_type": "code",
   "execution_count": 51,
   "metadata": {},
   "outputs": [],
   "source": [
    "new_player.add_cards(shuffled_card)"
   ]
  },
  {
   "cell_type": "code",
   "execution_count": 52,
   "metadata": {},
   "outputs": [
    {
     "name": "stdout",
     "output_type": "stream",
     "text": [
      "Player Jose has 1 cards.\n"
     ]
    }
   ],
   "source": [
    "print(new_player)"
   ]
  },
  {
   "cell_type": "code",
   "execution_count": 53,
   "metadata": {},
   "outputs": [],
   "source": [
    "new_player.add_cards([shuffled_card,first_card,bottom_card])"
   ]
  },
  {
   "cell_type": "code",
   "execution_count": 54,
   "metadata": {},
   "outputs": [
    {
     "name": "stdout",
     "output_type": "stream",
     "text": [
      "ace of Clubs\n"
     ]
    }
   ],
   "source": [
    "print(new_player.all_cards[3])"
   ]
  },
  {
   "cell_type": "code",
   "execution_count": 55,
   "metadata": {},
   "outputs": [
    {
     "name": "stdout",
     "output_type": "stream",
     "text": [
      "Player Jose has 4 cards.\n"
     ]
    }
   ],
   "source": [
    "print(new_player)"
   ]
  },
  {
   "cell_type": "code",
   "execution_count": 56,
   "metadata": {},
   "outputs": [
    {
     "name": "stdout",
     "output_type": "stream",
     "text": [
      "nine of Diamond\n"
     ]
    }
   ],
   "source": [
    "print(new_player.remove_one())"
   ]
  },
  {
   "cell_type": "code",
   "execution_count": 57,
   "metadata": {},
   "outputs": [
    {
     "name": "stdout",
     "output_type": "stream",
     "text": [
      "Player Jose has 3 cards.\n"
     ]
    }
   ],
   "source": [
    "print(new_player)"
   ]
  },
  {
   "cell_type": "markdown",
   "metadata": {},
   "source": [
    "# Game Setup:WAR GAME"
   ]
  },
  {
   "cell_type": "code",
   "execution_count": 58,
   "metadata": {},
   "outputs": [],
   "source": [
    "#SETTING UP THE GAME\n",
    "#naming the players\n",
    "player_one=Player('One')\n",
    "player_two=Player('Two')\n",
    "\n",
    "#creating a deck of cards\n",
    "new_deck=Deck()\n",
    "\n",
    "#shuffling the deck of cards\n",
    "new_deck.shuffle()\n",
    "\n",
    "#splitting the deck into equal halves\n",
    "for x in range(26):\n",
    "    player_one.add_cards(new_deck.deal_one())\n",
    "    player_two.add_cards(new_deck.deal_one())\n",
    "    \n",
    "#for continuing the game\n",
    "game_on=True"
   ]
  },
  {
   "cell_type": "code",
   "execution_count": 59,
   "metadata": {},
   "outputs": [
    {
     "data": {
      "text/plain": [
       "26"
      ]
     },
     "execution_count": 59,
     "metadata": {},
     "output_type": "execute_result"
    }
   ],
   "source": [
    "len(player_one.all_cards)"
   ]
  },
  {
   "cell_type": "code",
   "execution_count": 60,
   "metadata": {},
   "outputs": [
    {
     "data": {
      "text/plain": [
       "26"
      ]
     },
     "execution_count": 60,
     "metadata": {},
     "output_type": "execute_result"
    }
   ],
   "source": [
    "len(player_two.all_cards)"
   ]
  },
  {
   "cell_type": "code",
   "execution_count": 61,
   "metadata": {},
   "outputs": [
    {
     "name": "stdout",
     "output_type": "stream",
     "text": [
      "Round-1\n",
      "Round-2\n",
      "Round-3\n",
      "Round-4\n",
      "Round-5\n",
      "Round-6\n",
      "Round-7\n",
      "Round-8\n",
      "Round-9\n",
      "Round-10\n",
      "Round-11\n",
      "Round-12\n",
      "Round-13\n",
      "Round-14\n",
      "Round-15\n",
      "Round-16\n",
      "Round-17\n",
      "Round-18\n",
      "Round-19\n",
      "Round-20\n",
      "Round-21\n",
      "Round-22\n",
      "Round-23\n",
      "\n",
      "WAR!!!!!\n",
      "\n",
      "Round-24\n",
      "Round-25\n",
      "Round-26\n",
      "Round-27\n",
      "Round-28\n",
      "Round-29\n",
      "Round-30\n",
      "Round-31\n",
      "Round-32\n",
      "Round-33\n",
      "Round-34\n",
      "Round-35\n",
      "Round-36\n",
      "Round-37\n",
      "Round-38\n",
      "Round-39\n",
      "Round-40\n",
      "Round-41\n",
      "Round-42\n",
      "Round-43\n",
      "Round-44\n",
      "Round-45\n",
      "Round-46\n",
      "Round-47\n",
      "Round-48\n",
      "\n",
      "WAR!!!!!\n",
      "\n",
      "Round-49\n",
      "Round-50\n",
      "Round-51\n",
      "Round-52\n",
      "Round-53\n",
      "Round-54\n",
      "Round-55\n",
      "Round-56\n",
      "Round-57\n",
      "Round-58\n",
      "Round-59\n",
      "Round-60\n",
      "Round-61\n",
      "Round-62\n",
      "Round-63\n",
      "Round-64\n",
      "Round-65\n",
      "Round-66\n",
      "Round-67\n",
      "Round-68\n",
      "Round-69\n",
      "Round-70\n",
      "\n",
      "WAR!!!!!\n",
      "\n",
      "Round-71\n",
      "Round-72\n",
      "Round-73\n",
      "Round-74\n",
      "\n",
      "WAR!!!!!\n",
      "\n",
      "Round-75\n",
      "Round-76\n",
      "Round-77\n",
      "Round-78\n",
      "Round-79\n",
      "Round-80\n",
      "Round-81\n",
      "Round-82\n",
      "Round-83\n",
      "Round-84\n",
      "Round-85\n",
      "Round-86\n",
      "Round-87\n",
      "Round-88\n",
      "Round-89\n",
      "Round-90\n",
      "Round-91\n",
      "Round-92\n",
      "Round-93\n",
      "Round-94\n",
      "Round-95\n",
      "Round-96\n",
      "Round-97\n",
      "Round-98\n",
      "Round-99\n",
      "Round-100\n",
      "Round-101\n",
      "Round-102\n",
      "Round-103\n",
      "Round-104\n",
      "Round-105\n",
      "Round-106\n",
      "Round-107\n",
      "Round-108\n",
      "Round-109\n",
      "Round-110\n",
      "Round-111\n",
      "Round-112\n",
      "Round-113\n",
      "Round-114\n",
      "Round-115\n",
      "Round-116\n",
      "Round-117\n",
      "Round-118\n",
      "Round-119\n",
      "Round-120\n",
      "Round-121\n",
      "Round-122\n",
      "Round-123\n",
      "Round-124\n",
      "Round-125\n",
      "\n",
      "WAR!!!!!\n",
      "\n",
      "Round-126\n",
      "Round-127\n",
      "Round-128\n",
      "Round-129\n",
      "Round-130\n",
      "Round-131\n",
      "Round-132\n",
      "Round-133\n",
      "\n",
      "WAR!!!!!\n",
      "\n",
      "Player-1 is unable to play the game.\n",
      "Player-2 wins the game!!\n"
     ]
    }
   ],
   "source": [
    "#SET UP FOR PLAYING\n",
    "round_number=0\n",
    "while game_on:\n",
    "    round_number+=1\n",
    "    print(f'Round-{round_number}')\n",
    "    \n",
    "    #for player-1\n",
    "    if len(player_one.all_cards)==0:\n",
    "        print('Player-1 is out of cards!!')\n",
    "        print('Player-2 won!!  Player-1 lost the game!!')\n",
    "        game_on=False\n",
    "        break\n",
    "    \n",
    "    #for player-2\n",
    "    if len(player_two.all_cards)==0:\n",
    "        print('Player-2 is out of cards!!')\n",
    "        print('Player-1 won!!  Player-2 lost the game!!')\n",
    "        game_on=False\n",
    "        break\n",
    "     \n",
    "    #for another round\n",
    "    player_one_cards=[]\n",
    "    player_one_cards.append(player_one.remove_one())\n",
    "    player_two_cards=[]\n",
    "    player_two_cards.append(player_two.remove_one())\n",
    "    \n",
    "    \n",
    "    #WHILE AT WAR-WHEN TIE OCCURS\n",
    "    at_war=True\n",
    "    while at_war:\n",
    "        if player_one_cards[-1].value > player_two_cards[-1].value:\n",
    "            player_one.add_cards(player_one_cards)\n",
    "            player_one.add_cards(player_two_cards)\n",
    "            at_war=False\n",
    "            \n",
    "        elif player_one_cards[-1].value < player_two_cards[-1].value:\n",
    "            player_two.add_cards(player_one_cards)\n",
    "            player_two.add_cards(player_two_cards)\n",
    "            at_war=False\n",
    "            \n",
    "        else:\n",
    "            print('\\nWAR!!!!!\\n')\n",
    "            if len(player_one.all_cards)<5:\n",
    "                print('Player-1 is unable to play the game.')\n",
    "                print('Player-2 wins the game!!')\n",
    "                game_on=False\n",
    "                break\n",
    "                \n",
    "            elif len(player_two.all_cards)<5:\n",
    "                print('Player-2 is unable to play the game.')\n",
    "                print('Player-1 wins the game!!')\n",
    "                at_war=False\n",
    "                break\n",
    "                \n",
    "            else:\n",
    "                for n in range(5):\n",
    "                    player_one_cards.append(player_one.remove_one())\n",
    "                    player_two_cards.append(player_two.remove_one())"
   ]
  },
  {
   "cell_type": "code",
   "execution_count": null,
   "metadata": {},
   "outputs": [],
   "source": []
  },
  {
   "cell_type": "code",
   "execution_count": null,
   "metadata": {},
   "outputs": [],
   "source": []
  }
 ],
 "metadata": {
  "kernelspec": {
   "display_name": "Python 3",
   "language": "python",
   "name": "python3"
  },
  "language_info": {
   "codemirror_mode": {
    "name": "ipython",
    "version": 3
   },
   "file_extension": ".py",
   "mimetype": "text/x-python",
   "name": "python",
   "nbconvert_exporter": "python",
   "pygments_lexer": "ipython3",
   "version": "3.8.5"
  }
 },
 "nbformat": 4,
 "nbformat_minor": 4
}
