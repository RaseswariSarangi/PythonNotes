{
 "cells": [
  {
   "cell_type": "code",
   "execution_count": 1,
   "metadata": {
    "scrolled": true
   },
   "outputs": [],
   "source": [
    "def def_dict():\n",
    "    values={}\n",
    "    for rank in ranks:\n",
    "        for n in range(2,15):\n",
    "            values+={rank:n}\n",
    "    return values\n",
    "def_dict()"
   ]
  },
  {
   "cell_type": "markdown",
   "metadata": {},
   "source": [
    "# Step-1:"
   ]
  },
  {
   "cell_type": "code",
   "execution_count": 2,
   "metadata": {},
   "outputs": [],
   "source": [
    "#INPUT OF VALUES TO BE USED IN GAME\n",
    "import random\n",
    "suits=('Hearts','Diamond','Spades','Clubs')\n",
    "ranks=('Two','Three','Four','Five','Six','Seven','Eight','Nine','Ten','Jack','King','Queen','Ace')\n",
    "values={'Two':2,'Three':3,'Four':4,'Five':5,'Six':6,'Seven':7,'Eight':8,'Nine':9,'Ten':10,'Jack':10,\n",
    "        'King':10,'Queen':10,'Ace':11}\n",
    "playing=True"
   ]
  },
  {
   "cell_type": "markdown",
   "metadata": {},
   "source": [
    "# Step-2:"
   ]
  },
  {
   "cell_type": "code",
   "execution_count": 3,
   "metadata": {},
   "outputs": [],
   "source": [
    "#CARD CLASS\n",
    "class Cards():\n",
    "    def __init__(self,suit,rank):\n",
    "        self.suit=suit\n",
    "        self.rank=rank\n",
    "        self.value=values[rank]\n",
    "        \n",
    "    def __str__(self):\n",
    "        return f'{self.rank} of {self.suit}'"
   ]
  },
  {
   "cell_type": "code",
   "execution_count": 4,
   "metadata": {},
   "outputs": [],
   "source": [
    "card=Cards(suits[1],ranks[2])"
   ]
  },
  {
   "cell_type": "code",
   "execution_count": 5,
   "metadata": {},
   "outputs": [
    {
     "name": "stdout",
     "output_type": "stream",
     "text": [
      "Four of Diamond\n"
     ]
    }
   ],
   "source": [
    "print(card)"
   ]
  },
  {
   "cell_type": "code",
   "execution_count": 6,
   "metadata": {},
   "outputs": [
    {
     "data": {
      "text/plain": [
       "4"
      ]
     },
     "execution_count": 6,
     "metadata": {},
     "output_type": "execute_result"
    }
   ],
   "source": [
    "card.value"
   ]
  },
  {
   "cell_type": "markdown",
   "metadata": {},
   "source": [
    "# Step-3:"
   ]
  },
  {
   "cell_type": "code",
   "execution_count": 7,
   "metadata": {},
   "outputs": [],
   "source": [
    "#DECK CLASS\n",
    "class Deck():\n",
    "    def __init__(self):\n",
    "        self.all_cards=[]\n",
    "        for suit in suits:\n",
    "            for rank in ranks:\n",
    "                created_card=Cards(suit,rank)\n",
    "                self.all_cards.append(created_card)\n",
    "                \n",
    "    def __str__(self):\n",
    "        deck_comp=''\n",
    "        for card in self.all_cards:\n",
    "            deck_comp+='\\n'+card.__str__()\n",
    "        return f'Deck='+deck_comp\n",
    "    \n",
    "    def shuffle(self):\n",
    "        random.shuffle(self.all_cards)\n",
    "        \n",
    "    def deal(self):\n",
    "        return self.all_cards.pop()"
   ]
  },
  {
   "cell_type": "code",
   "execution_count": 8,
   "metadata": {},
   "outputs": [],
   "source": [
    "test_deck=Deck()"
   ]
  },
  {
   "cell_type": "code",
   "execution_count": 9,
   "metadata": {},
   "outputs": [
    {
     "name": "stdout",
     "output_type": "stream",
     "text": [
      "Deck=\n",
      "Two of Hearts\n",
      "Three of Hearts\n",
      "Four of Hearts\n",
      "Five of Hearts\n",
      "Six of Hearts\n",
      "Seven of Hearts\n",
      "Eight of Hearts\n",
      "Nine of Hearts\n",
      "Ten of Hearts\n",
      "Jack of Hearts\n",
      "King of Hearts\n",
      "Queen of Hearts\n",
      "Ace of Hearts\n",
      "Two of Diamond\n",
      "Three of Diamond\n",
      "Four of Diamond\n",
      "Five of Diamond\n",
      "Six of Diamond\n",
      "Seven of Diamond\n",
      "Eight of Diamond\n",
      "Nine of Diamond\n",
      "Ten of Diamond\n",
      "Jack of Diamond\n",
      "King of Diamond\n",
      "Queen of Diamond\n",
      "Ace of Diamond\n",
      "Two of Spades\n",
      "Three of Spades\n",
      "Four of Spades\n",
      "Five of Spades\n",
      "Six of Spades\n",
      "Seven of Spades\n",
      "Eight of Spades\n",
      "Nine of Spades\n",
      "Ten of Spades\n",
      "Jack of Spades\n",
      "King of Spades\n",
      "Queen of Spades\n",
      "Ace of Spades\n",
      "Two of Clubs\n",
      "Three of Clubs\n",
      "Four of Clubs\n",
      "Five of Clubs\n",
      "Six of Clubs\n",
      "Seven of Clubs\n",
      "Eight of Clubs\n",
      "Nine of Clubs\n",
      "Ten of Clubs\n",
      "Jack of Clubs\n",
      "King of Clubs\n",
      "Queen of Clubs\n",
      "Ace of Clubs\n"
     ]
    }
   ],
   "source": [
    "print(test_deck)"
   ]
  },
  {
   "cell_type": "markdown",
   "metadata": {},
   "source": [
    "# Step-4:"
   ]
  },
  {
   "cell_type": "code",
   "execution_count": 10,
   "metadata": {},
   "outputs": [],
   "source": [
    "#HAND CLASS\n",
    "class Hand():\n",
    "    def __init__(self):\n",
    "        self.cards=[]\n",
    "        self.value=0\n",
    "        self.aces=0\n",
    "        \n",
    "    def add_card(self,card):\n",
    "        self.cards.append(card)\n",
    "        self.value+=values[card.rank]\n",
    "        \n",
    "        #track aces\n",
    "        if card.rank=='Ace':\n",
    "            self.aces+=1\n",
    "        \n",
    "    def adjust_for_aces(self):\n",
    "        #If total value>21 and I still have an ace \n",
    "        #Then change my ace to be 1 instead of 11\n",
    "        \n",
    "        while self.value>21 and self.aces>0:\n",
    "            self.value-=10\n",
    "            self.aces-=1"
   ]
  },
  {
   "cell_type": "code",
   "execution_count": 11,
   "metadata": {},
   "outputs": [],
   "source": [
    "zero=0\n",
    "one=1\n",
    "two=2"
   ]
  },
  {
   "cell_type": "code",
   "execution_count": 12,
   "metadata": {},
   "outputs": [],
   "source": [
    "#It will not print True as their is no rank for value 2\n",
    "if 0:\n",
    "    print('TRUE')"
   ]
  },
  {
   "cell_type": "code",
   "execution_count": 13,
   "metadata": {},
   "outputs": [
    {
     "name": "stdout",
     "output_type": "stream",
     "text": [
      "TRUE\n"
     ]
    }
   ],
   "source": [
    "if 2:\n",
    "    print('TRUE')"
   ]
  },
  {
   "cell_type": "code",
   "execution_count": 14,
   "metadata": {},
   "outputs": [
    {
     "name": "stdout",
     "output_type": "stream",
     "text": [
      "Jack of Hearts\n",
      "10\n"
     ]
    }
   ],
   "source": [
    "test_deck=Deck()\n",
    "test_deck.shuffle()\n",
    "\n",
    "#player\n",
    "test_player=Hand()\n",
    "#deal one card from the deck Card(suit,rank)\n",
    "pulled_card=test_deck.deal()\n",
    "print(pulled_card)\n",
    "test_player.add_card(pulled_card)\n",
    "print(test_player.value)"
   ]
  },
  {
   "cell_type": "code",
   "execution_count": 15,
   "metadata": {},
   "outputs": [
    {
     "data": {
      "text/plain": [
       "19"
      ]
     },
     "execution_count": 15,
     "metadata": {},
     "output_type": "execute_result"
    }
   ],
   "source": [
    "#shortcut method\n",
    "test_player.add_card(test_deck.deal())\n",
    "test_player.value"
   ]
  },
  {
   "cell_type": "markdown",
   "metadata": {},
   "source": [
    "# Step-5:"
   ]
  },
  {
   "cell_type": "code",
   "execution_count": 16,
   "metadata": {},
   "outputs": [
    {
     "name": "stdout",
     "output_type": "stream",
     "text": [
      ">>2000\n"
     ]
    }
   ],
   "source": [
    "#Chip class\n",
    "class Chips():\n",
    "    def __init__(self,total=int(input(\">>\"))):\n",
    "        self.total=total\n",
    "        self.bet=0\n",
    "        \n",
    "    def win_bet(self):\n",
    "        self.total+=self.bet\n",
    "        \n",
    "    def lose_bet(self):\n",
    "        self.total-=self.bet"
   ]
  },
  {
   "cell_type": "code",
   "execution_count": 17,
   "metadata": {},
   "outputs": [],
   "source": [
    "chip=Chips()"
   ]
  },
  {
   "cell_type": "code",
   "execution_count": 18,
   "metadata": {},
   "outputs": [
    {
     "data": {
      "text/plain": [
       "2000"
      ]
     },
     "execution_count": 18,
     "metadata": {},
     "output_type": "execute_result"
    }
   ],
   "source": [
    "chip.total"
   ]
  },
  {
   "cell_type": "markdown",
   "metadata": {},
   "source": [
    "# Step-6:"
   ]
  },
  {
   "cell_type": "code",
   "execution_count": 19,
   "metadata": {},
   "outputs": [],
   "source": [
    "#For taking bets from user\n",
    "def take_bets(chips):\n",
    "    while True:\n",
    "        try:\n",
    "            chips.bet=int(input('how many chips do you like to bet:'))\n",
    "        except ValueError:\n",
    "            print('sorry!! please provide an integer.')\n",
    "        else:\n",
    "            if chips.bet>chips.total:\n",
    "                print(f'you do not have enough money to bet.you have only {chips.total}')\n",
    "            else:\n",
    "                break"
   ]
  },
  {
   "cell_type": "markdown",
   "metadata": {},
   "source": [
    "# Step-7:"
   ]
  },
  {
   "cell_type": "code",
   "execution_count": 20,
   "metadata": {},
   "outputs": [],
   "source": [
    "#function when a player hits the deck\n",
    "def hit(deck,hand):\n",
    "    #removes a card from \n",
    "    single_card=deck.deal()\n",
    "    #adds the card to hand\n",
    "    hand.add_card(single_card)\n",
    "    #checks for ace adjustment\n",
    "    hand.adjust_for_aces()"
   ]
  },
  {
   "cell_type": "markdown",
   "metadata": {},
   "source": [
    "# Step-8:"
   ]
  },
  {
   "cell_type": "code",
   "execution_count": 21,
   "metadata": {},
   "outputs": [],
   "source": [
    "#function for prompting the player to hit or stand\n",
    "def hit_or_stand(deck,hand):\n",
    "    #to control an upcoming while loop\n",
    "    global playing\n",
    "    \n",
    "    while True:\n",
    "        x=input('enter hit or stand:')\n",
    "        if x[0].lower()=='h':\n",
    "            hit(deck,hand)\n",
    "        elif x[0].lower()=='s':\n",
    "            print('player stand, it is dealer turn now!!')\n",
    "            playing=False\n",
    "        else:\n",
    "            print('I did not understand..please enter hit or stand:')\n",
    "            continue\n",
    "        break"
   ]
  },
  {
   "cell_type": "markdown",
   "metadata": {},
   "source": [
    "# Step-9:"
   ]
  },
  {
   "cell_type": "code",
   "execution_count": 22,
   "metadata": {},
   "outputs": [],
   "source": [
    "#write functions to display card\n",
    "def show_some(player,dealer):\n",
    "    #dealer.cards[1]--we have to show the second card only of dealer\n",
    "    #show only one of the dealer's card\n",
    "    print(\"\\nDealer's Hand:\")\n",
    "    print('First Card Hidden!!')\n",
    "    print(dealer.cards[1])\n",
    "    \n",
    "    #show all the cards of player\n",
    "    print(\"\\nPlayer's Hand:\")\n",
    "    for card in player.cards:\n",
    "        print(card)\n",
    "    \n",
    "def show_all(player,dealer):\n",
    "    #show all the dealer's cards\n",
    "    print(\"\\nDealer's Hand:\")\n",
    "    for card in dealer.cards:\n",
    "        print(card)\n",
    "        \n",
    "    #calculate and display value\n",
    "    print(f\"value of dealer's hand is:{dealer.value}\")\n",
    "    \n",
    "    #show all the player's cards\n",
    "    print(\"\\nPlayer's Hand:\")\n",
    "    for card in player.cards:\n",
    "        print(card)\n",
    "        \n",
    "    #calculate and display value\n",
    "    print(f\"value of player's hand is:{player.value}\")"
   ]
  },
  {
   "cell_type": "code",
   "execution_count": 23,
   "metadata": {},
   "outputs": [
    {
     "name": "stdout",
     "output_type": "stream",
     "text": [
      "1 2 3 4 5 4\n",
      "1\n",
      "2\n",
      "3\n",
      "4\n",
      "5\n",
      "4\n"
     ]
    }
   ],
   "source": [
    "#explanation for shortcut\n",
    "l=[1,2,3,4,5,4]\n",
    "'''for n in l:\n",
    "    print(n)'''\n",
    "\n",
    "print(*l)\n",
    "print(*l,sep='\\n')"
   ]
  },
  {
   "cell_type": "code",
   "execution_count": 24,
   "metadata": {},
   "outputs": [
    {
     "data": {
      "text/plain": [
       "'\\nprint(\"\\nDealer\\'s Hand:\")\\n    for card in dealer.cards:\\n        print(card)\\n'"
      ]
     },
     "execution_count": 24,
     "metadata": {},
     "output_type": "execute_result"
    }
   ],
   "source": [
    "#we can use a shortcut for:\n",
    "'''\n",
    "print(\"\\nDealer's Hand:\")\n",
    "    for card in dealer.cards:\n",
    "        print(card)\n",
    "'''\n",
    "#print(\"\\nDealer's Hand:\",*dealer.cards,sep='\\n')"
   ]
  },
  {
   "cell_type": "markdown",
   "metadata": {},
   "source": [
    "# Step-10:"
   ]
  },
  {
   "cell_type": "code",
   "execution_count": 25,
   "metadata": {},
   "outputs": [],
   "source": [
    "def player_busts(player,dealer,chips):\n",
    "    print('Player BUSTS')\n",
    "    chips.lose_bet()\n",
    "\n",
    "def player_wins(player,dealer,chips):\n",
    "    print('Player WINS')\n",
    "    chips.win_bet()\n",
    "\n",
    "def dealer_busts(player,dealer,chips):\n",
    "    print('Player WINS...Dealer BUSTED')\n",
    "    chips.lose_bet()\n",
    "\n",
    "def dealer_wins(player,dealer,chips):\n",
    "    print('Dealer WINS')\n",
    "    chips.win_bet()\n",
    "\n",
    "def push(player,dealer):\n",
    "    print('Dealer and Player tie!!...PUSH')"
   ]
  },
  {
   "cell_type": "markdown",
   "metadata": {},
   "source": [
    "# GAME SETUP:"
   ]
  },
  {
   "cell_type": "code",
   "execution_count": 26,
   "metadata": {},
   "outputs": [
    {
     "name": "stdout",
     "output_type": "stream",
     "text": [
      "WELCOME TO BLACKJACK!!!!\n",
      "how many chips do you like to bet:1000\n",
      "\n",
      "Dealer's Hand:\n",
      "First Card Hidden!!\n",
      "Ace of Spades\n",
      "\n",
      "Player's Hand:\n",
      "Jack of Hearts\n",
      "Eight of Hearts\n",
      "enter hit or stand:s\n",
      "player stand, it is dealer turn now!!\n",
      "\n",
      "Dealer's Hand:\n",
      "First Card Hidden!!\n",
      "Ace of Spades\n",
      "\n",
      "Player's Hand:\n",
      "Jack of Hearts\n",
      "Eight of Hearts\n",
      "\n",
      "Dealer's Hand:\n",
      "Ten of Spades\n",
      "Ace of Spades\n",
      "value of dealer's hand is:21\n",
      "\n",
      "Player's Hand:\n",
      "Jack of Hearts\n",
      "Eight of Hearts\n",
      "value of player's hand is:18\n",
      "Dealer WINS\n",
      "\n",
      "Player's total chips are at:3000\n",
      "Would you like to play again..say yes or no:y\n",
      "WELCOME TO BLACKJACK!!!!\n",
      "how many chips do you like to bet:2000\n",
      "\n",
      "Dealer's Hand:\n",
      "First Card Hidden!!\n",
      "Ace of Hearts\n",
      "\n",
      "Player's Hand:\n",
      "Jack of Spades\n",
      "Eight of Hearts\n",
      "enter hit or stand:s\n",
      "player stand, it is dealer turn now!!\n",
      "\n",
      "Dealer's Hand:\n",
      "First Card Hidden!!\n",
      "Ace of Hearts\n",
      "\n",
      "Player's Hand:\n",
      "Jack of Spades\n",
      "Eight of Hearts\n",
      "\n",
      "Dealer's Hand:\n",
      "King of Spades\n",
      "Ace of Hearts\n",
      "value of dealer's hand is:21\n",
      "\n",
      "Player's Hand:\n",
      "Jack of Spades\n",
      "Eight of Hearts\n",
      "value of player's hand is:18\n",
      "Dealer WINS\n",
      "\n",
      "Player's total chips are at:4000\n",
      "Would you like to play again..say yes or no:y\n",
      "WELCOME TO BLACKJACK!!!!\n",
      "how many chips do you like to bet:4500\n",
      "you do not have enough money to bet.you have only 2000\n",
      "how many chips do you like to bet:250\n",
      "\n",
      "Dealer's Hand:\n",
      "First Card Hidden!!\n",
      "Ace of Diamond\n",
      "\n",
      "Player's Hand:\n",
      "Ace of Hearts\n",
      "Four of Clubs\n",
      "enter hit or stand:h\n",
      "\n",
      "Dealer's Hand:\n",
      "First Card Hidden!!\n",
      "Ace of Diamond\n",
      "\n",
      "Player's Hand:\n",
      "Ace of Hearts\n",
      "Four of Clubs\n",
      "Eight of Diamond\n",
      "enter hit or stand:s\n",
      "player stand, it is dealer turn now!!\n",
      "\n",
      "Dealer's Hand:\n",
      "First Card Hidden!!\n",
      "Ace of Diamond\n",
      "\n",
      "Player's Hand:\n",
      "Ace of Hearts\n",
      "Four of Clubs\n",
      "Eight of Diamond\n",
      "\n",
      "Dealer's Hand:\n",
      "Two of Clubs\n",
      "Ace of Diamond\n",
      "Five of Clubs\n",
      "value of dealer's hand is:18\n",
      "\n",
      "Player's Hand:\n",
      "Ace of Hearts\n",
      "Four of Clubs\n",
      "Eight of Diamond\n",
      "value of player's hand is:13\n",
      "Dealer WINS\n",
      "\n",
      "Player's total chips are at:2250\n",
      "Would you like to play again..say yes or no:y\n",
      "WELCOME TO BLACKJACK!!!!\n",
      "how many chips do you like to bet:300\n",
      "\n",
      "Dealer's Hand:\n",
      "First Card Hidden!!\n",
      "Six of Hearts\n",
      "\n",
      "Player's Hand:\n",
      "Five of Clubs\n",
      "Five of Diamond\n",
      "enter hit or stand:h\n",
      "\n",
      "Dealer's Hand:\n",
      "First Card Hidden!!\n",
      "Six of Hearts\n",
      "\n",
      "Player's Hand:\n",
      "Five of Clubs\n",
      "Five of Diamond\n",
      "Four of Hearts\n",
      "enter hit or stand:h\n",
      "\n",
      "Dealer's Hand:\n",
      "First Card Hidden!!\n",
      "Six of Hearts\n",
      "\n",
      "Player's Hand:\n",
      "Five of Clubs\n",
      "Five of Diamond\n",
      "Four of Hearts\n",
      "Three of Diamond\n",
      "enter hit or stand:h\n",
      "\n",
      "Dealer's Hand:\n",
      "First Card Hidden!!\n",
      "Six of Hearts\n",
      "\n",
      "Player's Hand:\n",
      "Five of Clubs\n",
      "Five of Diamond\n",
      "Four of Hearts\n",
      "Three of Diamond\n",
      "Seven of Clubs\n",
      "Player BUSTS\n",
      "WELCOME TO BLACKJACK!!!!\n",
      "how many chips do you like to bet:450\n",
      "\n",
      "Dealer's Hand:\n",
      "First Card Hidden!!\n",
      "Ace of Hearts\n",
      "\n",
      "Player's Hand:\n",
      "Eight of Hearts\n",
      "Queen of Spades\n",
      "enter hit or stand:s\n",
      "player stand, it is dealer turn now!!\n",
      "\n",
      "Dealer's Hand:\n",
      "First Card Hidden!!\n",
      "Ace of Hearts\n",
      "\n",
      "Player's Hand:\n",
      "Eight of Hearts\n",
      "Queen of Spades\n",
      "\n",
      "Dealer's Hand:\n",
      "Three of Hearts\n",
      "Ace of Hearts\n",
      "Ace of Diamond\n",
      "Ten of Diamond\n",
      "King of Hearts\n",
      "value of dealer's hand is:25\n",
      "\n",
      "Player's Hand:\n",
      "Eight of Hearts\n",
      "Queen of Spades\n",
      "value of player's hand is:18\n",
      "Player WINS...Dealer BUSTED\n",
      "\n",
      "Player's total chips are at:1550\n",
      "Would you like to play again..say yes or no:n\n",
      "Thank you for playing!!\n"
     ]
    }
   ],
   "source": [
    "while True:\n",
    "    #PRINT AN OPENING STATEMENT\n",
    "    print(\"WELCOME TO BLACKJACK!!!!\")\n",
    "    \n",
    "    #CREATE AND SHUFFLE THE DECK,ADD TWO CARDS TO EACH PLAYER\n",
    "    deck=Deck()\n",
    "    deck.shuffle()\n",
    "    \n",
    "    player_hand=Hand()\n",
    "    player_hand.add_card(deck.deal())\n",
    "    player_hand.add_card(deck.deal())\n",
    "    \n",
    "    dealer_hand=Hand()\n",
    "    dealer_hand.add_card(deck.deal())\n",
    "    dealer_hand.add_card(deck.deal())\n",
    "    \n",
    "    #SETUP THE PLAYER'S CHIPS\n",
    "    player_chips=Chips()\n",
    "    \n",
    "    #PROMPT THE PLAYER FOR THEIR BET\n",
    "    take_bets(player_chips)\n",
    "    \n",
    "    #SHOW CARDS(BUT KEEP ONE DEALER CARD HIDDEN)\n",
    "    show_some(player_hand,dealer_hand)\n",
    "    \n",
    "    while playing: #recall this variable from hit_or_stand function\n",
    "        #PROMPT THE PLAYER FOR HIT OR STAND\n",
    "        hit_or_stand(deck,player_hand)\n",
    "        \n",
    "        #SHOW CARDS(BUT KEEP ONE DEALER CARD HIDDEN)\n",
    "        show_some(player_hand,dealer_hand)\n",
    "        \n",
    "        #IF PLAYER'S HAND EXCEEDS 21, RUN Player_busts() AND BREAK OUT OF THE LOOP\n",
    "        if player_hand.value>21:\n",
    "            player_busts(player_hand,dealer_hand,player_chips)\n",
    "            break\n",
    "            \n",
    "    #IF PLAYER HASN'T BUSTED, PLAY DEALER'S HAND UNTILL DEALER REACHES 17\n",
    "    if player_hand.value<=21:\n",
    "        while dealer_hand.value<17:\n",
    "            hit(deck,dealer_hand)\n",
    "            \n",
    "        #SHOW ALL CARDS\n",
    "        show_all(player_hand,dealer_hand)\n",
    "        \n",
    "        #RUN DIFFERENT WINNING SCENARIOS\n",
    "        if dealer_hand.value>21:\n",
    "            dealer_busts(player_hand,dealer_hand,player_chips)\n",
    "        elif dealer_hand.value>player_hand.value:\n",
    "            dealer_wins(player_hand,dealer_hand,player_chips)\n",
    "        elif dealer_hand.value<player_hand.value:\n",
    "            player_wins(player_hand,dealer_hand,player_chips)\n",
    "        else:\n",
    "            push(player_hand,dealer_hand)\n",
    "        \n",
    "        #INFORM PLAYER ABOUT THEIR TOTAL CHIPS\n",
    "        print(f\"\\nPlayer's total chips are at:{player_chips.total}\")\n",
    "        \n",
    "        #ASK TO PLAY AGAIN\n",
    "        new_game=input('Would you like to play again..say yes or no:')\n",
    "        if new_game[0].lower()=='y':\n",
    "            playing=True\n",
    "            continue\n",
    "        else:\n",
    "            print('Thank you for playing!!')\n",
    "            break   "
   ]
  },
  {
   "cell_type": "code",
   "execution_count": null,
   "metadata": {},
   "outputs": [],
   "source": []
  }
 ],
 "metadata": {
  "kernelspec": {
   "display_name": "Python 3",
   "language": "python",
   "name": "python3"
  },
  "language_info": {
   "codemirror_mode": {
    "name": "ipython",
    "version": 3
   },
   "file_extension": ".py",
   "mimetype": "text/x-python",
   "name": "python",
   "nbconvert_exporter": "python",
   "pygments_lexer": "ipython3",
   "version": "3.8.5"
  }
 },
 "nbformat": 4,
 "nbformat_minor": 4
}
