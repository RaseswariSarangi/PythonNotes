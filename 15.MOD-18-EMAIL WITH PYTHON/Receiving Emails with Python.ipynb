{
 "cells": [
  {
   "cell_type": "code",
   "execution_count": 6,
   "metadata": {},
   "outputs": [],
   "source": [
    "import imaplib"
   ]
  },
  {
   "cell_type": "code",
   "execution_count": 7,
   "metadata": {},
   "outputs": [],
   "source": [
    "mail=imaplib.IMAP4_SSL('imap.gmail.com')"
   ]
  },
  {
   "cell_type": "code",
   "execution_count": 8,
   "metadata": {},
   "outputs": [],
   "source": [
    "import getpass"
   ]
  },
  {
   "cell_type": "code",
   "execution_count": 9,
   "metadata": {},
   "outputs": [
    {
     "name": "stdout",
     "output_type": "stream",
     "text": [
      "email:········\n",
      "password:········\n"
     ]
    }
   ],
   "source": [
    "email=getpass.getpass('email:')\n",
    "password=getpass.getpass('password:')"
   ]
  },
  {
   "cell_type": "code",
   "execution_count": 10,
   "metadata": {},
   "outputs": [
    {
     "data": {
      "text/plain": [
       "('OK', [b'raseswarisarangi@gmail.com authenticated (Success)'])"
      ]
     },
     "execution_count": 10,
     "metadata": {},
     "output_type": "execute_result"
    }
   ],
   "source": [
    "mail.login(email,password)"
   ]
  },
  {
   "cell_type": "code",
   "execution_count": 54,
   "metadata": {},
   "outputs": [
    {
     "data": {
      "text/plain": [
       "('OK',\n",
       " [b'(\\\\HasNoChildren) \"/\" \"INBOX\"',\n",
       "  b'(\\\\HasChildren \\\\Noselect) \"/\" \"[Gmail]\"',\n",
       "  b'(\\\\All \\\\HasNoChildren) \"/\" \"[Gmail]/All Mail\"',\n",
       "  b'(\\\\Drafts \\\\HasNoChildren) \"/\" \"[Gmail]/Drafts\"',\n",
       "  b'(\\\\HasNoChildren \\\\Important) \"/\" \"[Gmail]/Important\"',\n",
       "  b'(\\\\HasNoChildren \\\\Sent) \"/\" \"[Gmail]/Sent Mail\"',\n",
       "  b'(\\\\HasNoChildren \\\\Junk) \"/\" \"[Gmail]/Spam\"',\n",
       "  b'(\\\\Flagged \\\\HasNoChildren) \"/\" \"[Gmail]/Starred\"',\n",
       "  b'(\\\\HasNoChildren \\\\Trash) \"/\" \"[Gmail]/Trash\"'])"
      ]
     },
     "execution_count": 54,
     "metadata": {},
     "output_type": "execute_result"
    }
   ],
   "source": [
    "mail.list()"
   ]
  },
  {
   "cell_type": "code",
   "execution_count": 55,
   "metadata": {},
   "outputs": [
    {
     "data": {
      "text/plain": [
       "('OK', [b'1298'])"
      ]
     },
     "execution_count": 55,
     "metadata": {},
     "output_type": "execute_result"
    }
   ],
   "source": [
    "mail.select('inbox')"
   ]
  },
  {
   "cell_type": "code",
   "execution_count": 56,
   "metadata": {},
   "outputs": [],
   "source": [
    "typ,data=mail.search(None,'SUBJECT \"Greetings\"')"
   ]
  },
  {
   "cell_type": "code",
   "execution_count": 57,
   "metadata": {},
   "outputs": [
    {
     "data": {
      "text/plain": [
       "'OK'"
      ]
     },
     "execution_count": 57,
     "metadata": {},
     "output_type": "execute_result"
    }
   ],
   "source": [
    "typ"
   ]
  },
  {
   "cell_type": "code",
   "execution_count": 58,
   "metadata": {},
   "outputs": [
    {
     "data": {
      "text/plain": [
       "[b'1298']"
      ]
     },
     "execution_count": 58,
     "metadata": {},
     "output_type": "execute_result"
    }
   ],
   "source": [
    "data #it has multiple mails from this mailid"
   ]
  },
  {
   "cell_type": "code",
   "execution_count": 59,
   "metadata": {},
   "outputs": [],
   "source": [
    "email_id=data[0]"
   ]
  },
  {
   "cell_type": "code",
   "execution_count": 60,
   "metadata": {},
   "outputs": [],
   "source": [
    "for dat in data[0].split():\n",
    "    result , email_data = mail.fetch(dat,\"(RFC822)\")"
   ]
  },
  {
   "cell_type": "code",
   "execution_count": 61,
   "metadata": {},
   "outputs": [
    {
     "data": {
      "text/plain": [
       "[(b'1298 (RFC822 {4884}',\n",
       "  b'Delivered-To: raseswarisarangi@gmail.com\\r\\nReceived: by 2002:adf:e90b:0:0:0:0:0 with SMTP id f11csp875687wrm;\\r\\n        Thu, 27 May 2021 10:16:49 -0700 (PDT)\\r\\nX-Received: by 2002:a92:b111:: with SMTP id t17mr3856595ilh.208.1622135809375;\\r\\n        Thu, 27 May 2021 10:16:49 -0700 (PDT)\\r\\nARC-Seal: i=1; a=rsa-sha256; t=1622135809; cv=none;\\r\\n        d=google.com; s=arc-20160816;\\r\\n        b=0nuv841FdKqtD6BVkO8uh1ljGjfYQWiJE9DSUzO/SRdNWUTiUJ47bLsS3od0r8wQiH\\r\\n         y0uVAhtvevwe347Jt0lF8X6g8U4sQCV4GyJ4zHbl3fc0Kg8bxxKz8CKFuwsICbETrIHK\\r\\n         dCwoyosVrNF5UaZdiAB3Flg24ETHTR9+SKwmmoPsjBuXIKmYjTGXkeqTAYY9ozTIu4mM\\r\\n         kIpustee/z6QoQhjXUFXoN2w+bRYks5kgryhuz1buYt7hMA7TCNZX+KhR1qOzoYriHmQ\\r\\n         Adly0ihhnLfnT9gaVVcS6NDzF3F7ox8wftr4TIBfANkQfHkfE+fj0U4pVwnFlNiP6lFT\\r\\n         ZyiQ==\\r\\nARC-Message-Signature: i=1; a=rsa-sha256; c=relaxed/relaxed; d=google.com; s=arc-20160816;\\r\\n        h=to:subject:message-id:date:from:mime-version:dkim-signature;\\r\\n        bh=a1HbW4c8GO7DhU8U5fFFAFG8V38bqcST4mlkYomPkHU=;\\r\\n        b=q6sJfS3ykScg6Jb0+2JbLaGVPhPLmd8fX/n2VKvg0p+CLz2A6TlyAxTSfBwRkdOIt6\\r\\n         5FQuSAt1xFZ2SNy48A8gSzjJF6nXmzY1eWMXu5CDKcuN/sadBWq5RFaRcEE50klB+XwC\\r\\n         2Rra2/Su/lJbhh18NV/z7zz8LDkorR8XdA75P8j7M/nnsQWW79g5KOcajqVpIs97kibh\\r\\n         FJ1zjk6NpVrkibmPLdYaml0/m/I2/X+WWpR7yhFegrYCae9FEpf4DUHuBkqF2G1ahqIt\\r\\n         ESQLob9Qma9yVm5RSYA6IJ5w7kZ8NxSYO1/97Klj+ImKRvwnIWmL3voF2L+mheGhiYsy\\r\\n         3Usg==\\r\\nARC-Authentication-Results: i=1; mx.google.com;\\r\\n       dkim=pass header.i=@gmail.com header.s=20161025 header.b=NGkIAy6C;\\r\\n       spf=pass (google.com: domain of amitatripathy95@gmail.com designates 209.85.220.41 as permitted sender) smtp.mailfrom=amitatripathy95@gmail.com;\\r\\n       dmarc=pass (p=NONE sp=QUARANTINE dis=NONE) header.from=gmail.com\\r\\nReturn-Path: <amitatripathy95@gmail.com>\\r\\nReceived: from mail-sor-f41.google.com (mail-sor-f41.google.com. [209.85.220.41])\\r\\n        by mx.google.com with SMTPS id r4sor4150826jam.13.2021.05.27.10.16.49\\r\\n        for <raseswarisarangi@gmail.com>\\r\\n        (Google Transport Security);\\r\\n        Thu, 27 May 2021 10:16:49 -0700 (PDT)\\r\\nReceived-SPF: pass (google.com: domain of amitatripathy95@gmail.com designates 209.85.220.41 as permitted sender) client-ip=209.85.220.41;\\r\\nAuthentication-Results: mx.google.com;\\r\\n       dkim=pass header.i=@gmail.com header.s=20161025 header.b=NGkIAy6C;\\r\\n       spf=pass (google.com: domain of amitatripathy95@gmail.com designates 209.85.220.41 as permitted sender) smtp.mailfrom=amitatripathy95@gmail.com;\\r\\n       dmarc=pass (p=NONE sp=QUARANTINE dis=NONE) header.from=gmail.com\\r\\nDKIM-Signature: v=1; a=rsa-sha256; c=relaxed/relaxed;\\r\\n        d=gmail.com; s=20161025;\\r\\n        h=mime-version:from:date:message-id:subject:to;\\r\\n        bh=a1HbW4c8GO7DhU8U5fFFAFG8V38bqcST4mlkYomPkHU=;\\r\\n        b=NGkIAy6CQ3Wf1Sgz5K4/bSNMm4cLs9chI6hw4TXQZuyn2wiLH/b/fbX8RApuIlg7tR\\r\\n         iX668If4ZPw+hKhXJJUaXj33fhaocIxFmZi8VWX51XgPh8wHCJZtU5+Mk7I7pfx0eZ+y\\r\\n         qfqP/A3+VaiYAqWeml31yfLBtuu0BqSVtKvjwP4uRxus6R6aPTrGDUMfqBFXnylH5zsG\\r\\n         xh/+XCfyhCUYbRAnsZbhezphDmQWihpd3U0wQLeLGDTrVWLSrlG9u61cFGly6blF1/wX\\r\\n         jPIzPAKWtT9ehuF8KRtoV2+e0cMhA9N+kR1KrzuAyCTP0Q62EWifOIN9Qg7DDqlTj9Ro\\r\\n         /XMg==\\r\\nX-Google-DKIM-Signature: v=1; a=rsa-sha256; c=relaxed/relaxed;\\r\\n        d=1e100.net; s=20161025;\\r\\n        h=x-gm-message-state:mime-version:from:date:message-id:subject:to;\\r\\n        bh=a1HbW4c8GO7DhU8U5fFFAFG8V38bqcST4mlkYomPkHU=;\\r\\n        b=iJufmcEKRftHXlvJ7asxAEFI7MI0wMb5o4U0JB2fESyZe7jcigGTLK+jo2n9UULdTL\\r\\n         d+SaHrSkyEtRsWfz2XFbeeBEKGzGRic8LCwb5B1vq8/e2SBQ0pTnkIjvQYJNWwJESD+E\\r\\n         kk3f4uhTmescGvNbNwjyqZwJFryNsiDMYDgoKlUF9SO0T8wsmpfzzdip8Tc5mNw32yvE\\r\\n         YPsYwbkrkBtljm+/XyQHV0yyGX8sp1NRcFfeLK1CGULc8qqI8OCDw4BLVnSORT7jWPM9\\r\\n         uRGt6UHe7duHma92mCjFs9Yl9Yh6uC0RD5RqT/JfPg0UAkJrHgZosB5K8qAhpEm1vTtO\\r\\n         35lw==\\r\\nX-Gm-Message-State: AOAM533HvJwBQyx4sXynUGzWt/QQT4yQ1SgwcVYDlISbHnbgUe61BgfO\\r\\n\\t8xMkRkjY5krn1Fhmu3TgdY2VQ8S96fdB4nQbX8Ydzwzz\\r\\nX-Google-Smtp-Source: ABdhPJyxtpf3Gji3JZdNv/a794qZYWimPtY2Zsg0I/Axtefr1yQDjN+ruVRqgRBDt4YJrvmGOo2Mi/jv0KixAWJdQYg=\\r\\nX-Received: by 2002:a02:6c46:: with SMTP id w67mr4382638jab.41.1622135808756;\\r\\n Thu, 27 May 2021 10:16:48 -0700 (PDT)\\r\\nMIME-Version: 1.0\\r\\nFrom: \"Rajeswari Sarangi_8-D,27\" <amitatripathy95@gmail.com>\\r\\nDate: Thu, 27 May 2021 22:46:37 +0530\\r\\nMessage-ID: <CAE-3q2yQ-Xy1rY=re4hKUOBYD2CWFs8WCSvsoUD7uq=OEg1mLQ@mail.gmail.com>\\r\\nSubject: Greetings\\r\\nTo: \"raseswarisarangi@gmail.com\" <raseswarisarangi@gmail.com>\\r\\nContent-Type: multipart/alternative; boundary=\"000000000000a898c405c352ec43\"\\r\\nX-Antivirus: AVG (VPS 210526-24, 27-05-2021), Inbound message\\r\\nX-Antivirus-Status: Clean\\r\\n\\r\\n--000000000000a898c405c352ec43\\r\\nContent-Type: text/plain; charset=\"UTF-8\"\\r\\n\\r\\nHelloo\\r\\n\\r\\n--000000000000a898c405c352ec43\\r\\nContent-Type: text/html; charset=\"UTF-8\"\\r\\n\\r\\n<div dir=\"auto\">Helloo</div>\\r\\n\\r\\n--000000000000a898c405c352ec43--\\r\\n'),\n",
       " b')']"
      ]
     },
     "execution_count": 61,
     "metadata": {},
     "output_type": "execute_result"
    }
   ],
   "source": [
    "email_data"
   ]
  },
  {
   "cell_type": "code",
   "execution_count": 62,
   "metadata": {},
   "outputs": [],
   "source": [
    "raw_email=email_data[0][1]"
   ]
  },
  {
   "cell_type": "code",
   "execution_count": 63,
   "metadata": {},
   "outputs": [],
   "source": [
    "raw_email_string=raw_email.decode('utf-8')"
   ]
  },
  {
   "cell_type": "code",
   "execution_count": 64,
   "metadata": {},
   "outputs": [],
   "source": [
    "import email"
   ]
  },
  {
   "cell_type": "code",
   "execution_count": 65,
   "metadata": {},
   "outputs": [],
   "source": [
    "email_message=email.message_from_string(raw_email_string)"
   ]
  },
  {
   "cell_type": "code",
   "execution_count": 66,
   "metadata": {},
   "outputs": [
    {
     "data": {
      "text/plain": [
       "<email.message.Message at 0x1b93ed44d30>"
      ]
     },
     "execution_count": 66,
     "metadata": {},
     "output_type": "execute_result"
    }
   ],
   "source": [
    "email_message"
   ]
  },
  {
   "cell_type": "code",
   "execution_count": 67,
   "metadata": {},
   "outputs": [
    {
     "name": "stdout",
     "output_type": "stream",
     "text": [
      "b'Helloo\\r\\n'\n"
     ]
    }
   ],
   "source": [
    "for part in email_message.walk():\n",
    "    if part.get_content_type()=='text/plain':\n",
    "        body=part.get_payload(decode=True)\n",
    "        print(body)"
   ]
  },
  {
   "cell_type": "code",
   "execution_count": 68,
   "metadata": {},
   "outputs": [],
   "source": [
    "#we can also use part.get_content_type()=='text/html'--if any link is given in the mail"
   ]
  },
  {
   "cell_type": "code",
   "execution_count": null,
   "metadata": {},
   "outputs": [],
   "source": []
  }
 ],
 "metadata": {
  "kernelspec": {
   "display_name": "Python 3",
   "language": "python",
   "name": "python3"
  },
  "language_info": {
   "codemirror_mode": {
    "name": "ipython",
    "version": 3
   },
   "file_extension": ".py",
   "mimetype": "text/x-python",
   "name": "python",
   "nbconvert_exporter": "python",
   "pygments_lexer": "ipython3",
   "version": "3.8.5"
  }
 },
 "nbformat": 4,
 "nbformat_minor": 4
}
